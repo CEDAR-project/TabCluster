{
 "metadata": {
  "name": "",
  "signature": "sha256:2dd2afe21d4c0ad7219a9c75ae8e33ab7be3959560aeb55b29b8d8fcecd4421d"
 },
 "nbformat": 3,
 "nbformat_minor": 0,
 "worksheets": [
  {
   "cells": [
    {
     "cell_type": "markdown",
     "metadata": {},
     "source": [
      "## Experiments for TabClustering\n",
      "\n",
      "Few experiments for TabCluster:\n",
      "- Hierarchical clustering using SciPy\n",
      "- SPARQLing DBpedia to get categories of strings\n",
      "- Combining the two: querying cluster contents to DBpedia"
     ]
    },
    {
     "cell_type": "code",
     "collapsed": false,
     "input": [
      "#!/usr/bin/env python\n",
      "\n",
      "import codecs\n",
      "import argparse\n",
      "import logging\n",
      "import re\n",
      "import numpy as np\n",
      "import scipy.cluster.hierarchy\n",
      "from Levenshtein import ratio\n",
      "from rdflib import Graph, Namespace, Literal, URIRef\n",
      "from rdflib.namespace import Namespace, RDF, SKOS\n",
      "from SPARQLWrapper import SPARQLWrapper, JSON\n",
      "\n",
      "def distance(coord):\n",
      "    i, j = coord\n",
      "    return 1 - ratio(wordList[i], wordList[j])\n",
      "\n",
      "log = logging.getLogger('TabCluster')\n",
      "log.setLevel(logging.DEBUG)\n",
      "\n",
      "fo = codecs.open('input', encoding='utf-8')\n",
      "wordList = list(set(fo.read().splitlines()))\n",
      "log.debug('Word list contains %s items' % len(wordList))\n",
      "\n",
      "simMatrix = []\n",
      "# for i in range(len(wordList)):\n",
      "#     simMatrix.append([])\n",
      "#     for j in range(len(wordList)):\n",
      "#         simMatrix[i].append(distance((i,j)))\n",
      "\n",
      "print wordList      \n",
      "upperIndices = np.triu_indices(len(wordList), 1)\n",
      "upperTriangle = np.apply_along_axis(distance, 0, upperIndices)\n",
      "cluster = scipy.cluster.hierarchy.linkage(upperTriangle, method='average')\n",
      "# log.debug(cluster)\n",
      "\n",
      "\n",
      "tree = {}\n",
      "clusterDistance = {}\n",
      "clusterIndex = len(wordList)\n",
      "for i in cluster:\n",
      "    indexA = int(i[0])\n",
      "    indexB = int(i[1])\n",
      "    elemA = wordList[indexA] if indexA < len(wordList) else indexA\n",
      "    elemB = wordList[indexB] if indexB < len(wordList) else indexB\n",
      "    tree[clusterIndex] = []\n",
      "    tree[clusterIndex].append(elemA)\n",
      "    tree[clusterIndex].append(elemB)\n",
      "    clusterDistance[clusterIndex] = i[2]\n",
      "    clusterIndex += 1\n",
      "    \n",
      "dendogram = scipy.cluster.hierarchy.dendrogram(Z=cluster, labels=wordList, leaf_font_size=4)\n",
      "# pylab.savefig('dendogram-complete.png')\n"
     ],
     "language": "python",
     "metadata": {},
     "outputs": [
      {
       "output_type": "stream",
       "stream": "stderr",
       "text": [
        "DEBUG:TabCluster:Word list contains 81 items\n"
       ]
      },
      {
       "output_type": "stream",
       "stream": "stdout",
       "text": [
        "[u'Zwiersenhuizen', u'Heiligen Geesten Gasthuis', u'Armhuis der N.H. gemeente', u'Roomsch Catholijk Weeshuis', u'Gesticht Ommerschans', u'Gesticht \"Averingsvergadering\"', u'Hotel \"de Keizer\"', u'Buitengasthuis', u'Groot Burger Weeshuis der Ned. Herv. gemeente', u'Logement: \"huis Becking\"', u'Groote en Voorster-Gasthuis', u'Burger Weeshuis', u'St. Jurriens Gasthuis', u'Weeshuis der Chr. Ger. Gemeente', u'Heerinkshuis', u'Gesticht \"Uiterwijksvergadering\"', u'Bestedelingshuis der Ned. Herv. Diaconie', u'St. Anthony Gasthuis', u'Weeshuis der N. H. gemeente', u'Hervormd Armen Weeshuis', u'Binnengasthuis', u'Oude mannen- en vrouwenhuis', u'Armhuis der Ned. Herv. Gemeente', u'Haersoltenhuis', u'H\\xf4tel \"Heerenlogement\"', u'Hotel \"de Gouden Leeuw\"', u'Krankzinnigen-Gesticht', u'Larinksgesticht', u'Ommerschans (Rijksgesticht)', u'Overige huizen', u'Rijksgesticht Ommerschans', u'Huis van Arrest', u'Ziekenhuis der N. H. gemeente', u'Hotel \"de Klomp\"', u'H\\xf4tel \"Pays-Bas\"', u'Broerenkazerne', u'Klooster van de orde der Franciscanessen', u'Ziekenhuis', u'Keizers- of Jordensplaats', u'Logement: \"huis Hamers\"', u'Vrouwenhuis', u'Klooster van de orde der Benedictijnen', u'Hotel \"de Graaf\"', u'Cellulaire Gevangenis', u'Kostschool', u'R. C. Weeshuis', u'Garnizoens-bakkerij', u'Klooster: \"Onze Lieve Vrouwe\"', u'Vilsterenshuis', u'Kostschool van H. Stael', u'Kostschool van Mej. Spruijt', u'Garnizoens-Infirmerie', u'Karmelieten klooster', u'H\\xf4tel \"de Keizerskroon\"', u'Gesticht \"de Goede Herder\"', u'Logement: \"huis de Molen\"', u'St. Jozephs-Gesticht', u'Boven Proveniershuis', u'Ned. Herv. Weeshuis', u'Kazerne: \"de Ruiterstallen\"', u'Logement: \"huis de Keizerskroon\"', u'Kostschool van Weber', u'H\\xf4tel \"de Zeven Provinci\\xebn\"', u'Weeshuis', u'Klooster der Franciscanen', u'Oude Vrouwenhuis', u'Logement: \"huis \\'t Anker\"', u'Gesticht van Liefde', u'St. Geertruiden Gasthuis', u'Werkhuis', u'Weerds-Gesticht', u'Oude Mannen- en Vrouwenhuis van het Gem. Armbest. der N.H. gemeente', u'Kazerne', u'Scherfshuis', u'Huis van bewaring', u'Klooster', u'St. Nicolaas-Gesticht', u'Logement: \"huis de Vriendschap\"', u'Emanuelshuis', u'Armhuis', u'H\\xf4tel \"de Korenbeurs\"']\n"
       ]
      }
     ],
     "prompt_number": 44
    },
    {
     "cell_type": "code",
     "collapsed": false,
     "input": [
      "from time import sleep\n",
      "\n",
      "sparql = SPARQLWrapper('http://dbpedia.org/sparql')\n",
      "for word in wordList:\n",
      "    print \"Processing %s...\" % word\n",
      "    query = u\"\"\"\n",
      "    PREFIX rdfs: <http://www.w3.org/2000/01/rdf-schema#> \n",
      "    PREFIX dcterms: <http://purl.org/dc/terms/>\n",
      "    SELECT DISTINCT ?concept ?subject\n",
      "    WHERE {\n",
      "    ?concept dcterms:subject ?subject .\n",
      "    ?concept rdfs:label ?label . \n",
      "    ?label bif:contains \\\"\\'%s\\'\\\"@nl \n",
      "    OPTION (score ?sc) .\n",
      "    } ORDER BY DESC(?sc)\n",
      "    LIMIT 10\"\"\" % re.sub(\"\\\"|\\.|\\'\", \" \", \" and \".join(word.split(' ')))\n",
      "    # print query\n",
      "    sparql.setQuery(query)\n",
      "    sparql.setReturnFormat(JSON)\n",
      "    results = sparql.query().convert()\n",
      "    sleep(1)\n",
      "    for result in results[\"results\"][\"bindings\"]:\n",
      "        print(result[\"subject\"][\"value\"])\n",
      "        \n",
      "    if len(results) == 2:\n",
      "        # Last word lookup\n",
      "        last = word.split(' ')[-1]   \n",
      "        print \"Last word lookup, %s...\" % last\n",
      "        query = u\"\"\"\n",
      "        PREFIX rdfs: <http://www.w3.org/2000/01/rdf-schema#> \n",
      "        PREFIX dcterms: <http://purl.org/dc/terms/>\n",
      "        SELECT DISTINCT ?concept ?subject\n",
      "        WHERE {\n",
      "        ?concept dcterms:subject ?subject .\n",
      "        ?concept rdfs:label ?label . \n",
      "        ?label bif:contains \\\"\\'%s\\'\\\"@nl \n",
      "        OPTION (score ?sc) .\n",
      "        } ORDER BY DESC(?sc)\n",
      "        LIMIT 10\"\"\" % re.sub(\"\\\"|\\.|\\'\", \" \", last)\n",
      "        # print query\n",
      "        sparql.setQuery(query)\n",
      "        sparql.setReturnFormat(JSON)\n",
      "        results = sparql.query().convert()\n",
      "        sleep(1)\n",
      "        for result in results[\"results\"][\"bindings\"]:\n",
      "            print(result[\"subject\"][\"value\"]) \n",
      "        \n",
      "        if len(results) == 2:\n",
      "            # First word lookup \n",
      "            first = word.split(' ')[0]   \n",
      "            print \"First word lookup, %s...\" % first\n",
      "            query = u\"\"\"\n",
      "            PREFIX rdfs: <http://www.w3.org/2000/01/rdf-schema#> \n",
      "            PREFIX dcterms: <http://purl.org/dc/terms/>\n",
      "            SELECT DISTINCT ?concept ?subject\n",
      "            WHERE {\n",
      "            ?concept dcterms:subject ?subject .\n",
      "            ?concept rdfs:label ?label . \n",
      "            ?label bif:contains \\\"\\'%s\\'\\\"@nl \n",
      "            OPTION (score ?sc) .\n",
      "            } ORDER BY DESC(?sc)\n",
      "            LIMIT 10\"\"\" % re.sub(\"\\\"|\\.|\\'\", \" \", first)\n",
      "            # print query\n",
      "            sparql.setQuery(query)\n",
      "            sparql.setReturnFormat(JSON)\n",
      "            results = sparql.query().convert()\n",
      "            sleep(1)\n",
      "            for result in results[\"results\"][\"bindings\"]:\n",
      "                print(result[\"subject\"][\"value\"])\n",
      "\n",
      "    \n",
      "\n"
     ],
     "language": "python",
     "metadata": {},
     "outputs": [
      {
       "output_type": "stream",
       "stream": "stdout",
       "text": [
        "Processing Zwiersenhuizen...\n",
        "Last word lookup, Zwiersenhuizen..."
       ]
      },
      {
       "output_type": "stream",
       "stream": "stdout",
       "text": [
        "\n",
        "First word lookup, Zwiersenhuizen..."
       ]
      },
      {
       "output_type": "stream",
       "stream": "stdout",
       "text": [
        "\n",
        "Processing Heiligen Geesten Gasthuis..."
       ]
      },
      {
       "output_type": "stream",
       "stream": "stdout",
       "text": [
        "\n",
        "Last word lookup, Gasthuis..."
       ]
      },
      {
       "output_type": "stream",
       "stream": "stdout",
       "text": [
        "\n",
        "http://dbpedia.org/resource/Category:Buildings_and_structures_in_Utrecht_(city)"
       ]
      },
      {
       "output_type": "stream",
       "stream": "stdout",
       "text": [
        "\n",
        "http://dbpedia.org/resource/Category:Guildhalls_in_the_Netherlands\n",
        "http://dbpedia.org/resource/Category:History_of_Utrecht_(city)\n",
        "http://dbpedia.org/resource/Category:Buildings_and_structures_in_Haarlem\n",
        "http://dbpedia.org/resource/Category:Rijksmonuments_in_Haarlem\n",
        "http://dbpedia.org/resource/Category:History_of_Haarlem\n",
        "http://dbpedia.org/resource/Category:1581_establishments\n",
        "http://dbpedia.org/resource/Category:Infrastructure_completed_in_1871\n",
        "First word lookup, Heiligen...\n",
        "http://dbpedia.org/resource/Category:Orders,_decorations,_and_medals_of_Greece"
       ]
      },
      {
       "output_type": "stream",
       "stream": "stdout",
       "text": [
        "\n",
        "http://dbpedia.org/resource/Category:Order_of_Saints_George_and_Constantine\n",
        "http://dbpedia.org/resource/Category:1936_establishments_in_Greece\n",
        "http://dbpedia.org/resource/Category:Awards_established_in_1936\n",
        "http://dbpedia.org/resource/Category:Orders_of_knighthood_awarded_to_heads_of_state,_consorts_and_sovereign_family_members\n",
        "http://dbpedia.org/resource/Category:Orders,_decorations,_and_medals_of_Greece\n",
        "http://dbpedia.org/resource/Category:Awards_and_prizes_honoring_women\n",
        "http://dbpedia.org/resource/Category:1936_establishments_in_Greece\n",
        "http://dbpedia.org/resource/Category:Orders_of_knighthood_for_women\n",
        "http://dbpedia.org/resource/Category:Awards_established_in_1936\n",
        "Processing Armhuis der N.H. gemeente...\n",
        "Last word lookup, gemeente..."
       ]
      },
      {
       "output_type": "stream",
       "stream": "stdout",
       "text": [
        "\n",
        "http://dbpedia.org/resource/Category:Bus_companies_of_the_Netherlands"
       ]
      },
      {
       "output_type": "stream",
       "stream": "stdout",
       "text": [
        "\n",
        "http://dbpedia.org/resource/Category:Municipalities\n",
        "http://dbpedia.org/resource/Category:Administrative_divisions\n",
        "http://dbpedia.org/resource/Category:Local_government_in_France\n",
        "http://dbpedia.org/resource/Category:Country_subdivisions_of_Europe\n",
        "http://dbpedia.org/resource/Category:Populated_places_in_France\n",
        "http://dbpedia.org/resource/Category:Fourth-level_administrative_country_subdivisions\n",
        "http://dbpedia.org/resource/Category:Subdivisions_of_France\n",
        "http://dbpedia.org/resource/Category:Townships\n",
        "http://dbpedia.org/resource/Category:Administrative_divisions_of_the_People's_Republic_of_China\n",
        "First word lookup, Armhuis...\n",
        "Processing Roomsch Catholijk Weeshuis..."
       ]
      },
      {
       "output_type": "stream",
       "stream": "stdout",
       "text": [
        "\n",
        "Last word lookup, Weeshuis..."
       ]
      },
      {
       "output_type": "stream",
       "stream": "stdout",
       "text": [
        "\n",
        "http://dbpedia.org/resource/Category:Child_welfare"
       ]
      },
      {
       "output_type": "stream",
       "stream": "stdout",
       "text": [
        "\n",
        "http://dbpedia.org/resource/Category:Orphanages\n",
        "http://dbpedia.org/resource/Category:Total_institutions\n",
        "http://dbpedia.org/resource/Category:Buildings_and_structures_in_Haarlem\n",
        "http://dbpedia.org/resource/Category:Residential_buildings_completed_in_1874\n",
        "http://dbpedia.org/resource/Category:Rijksmonuments_in_Haarlem\n",
        "http://dbpedia.org/resource/Category:History_of_Haarlem\n",
        "http://dbpedia.org/resource/Category:Orphanages_in_Sri_Lanka\n",
        "First word lookup, Roomsch...\n",
        "http://dbpedia.org/resource/Category:Defunct_Christian_political_parties"
       ]
      },
      {
       "output_type": "stream",
       "stream": "stdout",
       "text": [
        "\n",
        "http://dbpedia.org/resource/Category:Defunct_political_parties_in_the_Netherlands\n",
        "http://dbpedia.org/resource/Category:Political_parties_established_in_1926\n",
        "http://dbpedia.org/resource/Category:Political_parties_disestablished_in_1945\n",
        "http://dbpedia.org/resource/Category:Catholic_political_parties\n",
        "http://dbpedia.org/resource/Category:Confessional_parties_in_the_Netherlands\n",
        "Processing Gesticht Ommerschans...\n",
        "Last word lookup, Ommerschans..."
       ]
      },
      {
       "output_type": "stream",
       "stream": "stdout",
       "text": [
        "\n",
        "http://dbpedia.org/resource/Category:Populated_places_in_Overijssel"
       ]
      },
      {
       "output_type": "stream",
       "stream": "stdout",
       "text": [
        "\n",
        "First word lookup, Gesticht...\n",
        "Processing Gesticht \"Averingsvergadering\"..."
       ]
      },
      {
       "output_type": "stream",
       "stream": "stdout",
       "text": [
        "\n",
        "Last word lookup, \"Averingsvergadering\"..."
       ]
      },
      {
       "output_type": "stream",
       "stream": "stdout",
       "text": [
        "\n",
        "First word lookup, Gesticht..."
       ]
      },
      {
       "output_type": "stream",
       "stream": "stdout",
       "text": [
        "\n",
        "Processing Hotel \"de Keizer\"..."
       ]
      },
      {
       "output_type": "stream",
       "stream": "stdout",
       "text": [
        "\n",
        "Last word lookup, Keizer\"..."
       ]
      },
      {
       "output_type": "stream",
       "stream": "stdout",
       "text": [
        "\n",
        "http://dbpedia.org/resource/Category:Keizer,_Oregon"
       ]
      },
      {
       "output_type": "stream",
       "stream": "stdout",
       "text": [
        "\n",
        "http://dbpedia.org/resource/Category:Salem,_Oregon_metropolitan_area\n",
        "http://dbpedia.org/resource/Category:Former_census-designated_places_in_Oregon\n",
        "http://dbpedia.org/resource/Category:Cities_in_Oregon\n",
        "http://dbpedia.org/resource/Category:Populated_places_in_Marion_County,_Oregon\n",
        "http://dbpedia.org/resource/Category:14th-century_German_people\n",
        "http://dbpedia.org/resource/Category:Counts_of_Luxembourg\n",
        "http://dbpedia.org/resource/Category:Roman_Catholic_monarchs\n",
        "http://dbpedia.org/resource/Category:14th-century_French_people\n",
        "http://dbpedia.org/resource/Category:14th-century_Luxembourgian_people\n",
        "First word lookup, Hotel...\n",
        "http://dbpedia.org/resource/Category:Hotels_established_in_1927"
       ]
      },
      {
       "output_type": "stream",
       "stream": "stdout",
       "text": [
        "\n",
        "http://dbpedia.org/resource/Category:Hotel_buildings_on_the_National_Register_of_Historic_Places_in_Louisiana\n",
        "http://dbpedia.org/resource/Category:National_Register_of_Historic_Places_in_Sarasota_County,_Florida\n",
        "http://dbpedia.org/resource/Category:Sarasota,_Florida\n",
        "http://dbpedia.org/resource/Category:Hotel_buildings_completed_in_1925\n",
        "http://dbpedia.org/resource/Category:Kempinski_Hotels\n",
        "http://dbpedia.org/resource/Category:Hotels_established_in_1907\n",
        "http://dbpedia.org/resource/Category:Hotels_in_Berlin\n",
        "http://dbpedia.org/resource/Category:Hotel_buildings_completed_in_1907\n",
        "http://dbpedia.org/resource/Category:Hotel_buildings_completed_in_1997\n",
        "Processing Buitengasthuis...\n",
        "Last word lookup, Buitengasthuis..."
       ]
      },
      {
       "output_type": "stream",
       "stream": "stdout",
       "text": [
        "\n",
        "First word lookup, Buitengasthuis..."
       ]
      },
      {
       "output_type": "stream",
       "stream": "stdout",
       "text": [
        "\n",
        "Processing Groot Burger Weeshuis der Ned. Herv. gemeente..."
       ]
      },
      {
       "output_type": "stream",
       "stream": "stdout",
       "text": [
        "\n",
        "Last word lookup, gemeente..."
       ]
      },
      {
       "output_type": "stream",
       "stream": "stdout",
       "text": [
        "\n",
        "http://dbpedia.org/resource/Category:Bus_companies_of_the_Netherlands"
       ]
      },
      {
       "output_type": "stream",
       "stream": "stdout",
       "text": [
        "\n",
        "http://dbpedia.org/resource/Category:Municipalities\n",
        "http://dbpedia.org/resource/Category:Administrative_divisions\n",
        "http://dbpedia.org/resource/Category:Local_government_in_France\n",
        "http://dbpedia.org/resource/Category:Country_subdivisions_of_Europe\n",
        "http://dbpedia.org/resource/Category:Populated_places_in_France\n",
        "http://dbpedia.org/resource/Category:Fourth-level_administrative_country_subdivisions\n",
        "http://dbpedia.org/resource/Category:Subdivisions_of_France\n",
        "http://dbpedia.org/resource/Category:Townships\n",
        "http://dbpedia.org/resource/Category:Administrative_divisions_of_the_People's_Republic_of_China\n",
        "First word lookup, Groot...\n",
        "http://dbpedia.org/resource/Category:Hydronyms"
       ]
      },
      {
       "output_type": "stream",
       "stream": "stdout",
       "text": [
        "\n",
        "http://dbpedia.org/resource/Category:Dutch_toponyms\n",
        "http://dbpedia.org/resource/Category:Dutch-language_surnames\n",
        "http://dbpedia.org/resource/Category:Neighbourhoods_of_Rotterdam\n",
        "http://dbpedia.org/resource/Category:Populated_places_in_Overijssel\n",
        "http://dbpedia.org/resource/Category:Populated_places_in_Nickerie_District\n",
        "http://dbpedia.org/resource/Category:Resorts_of_Suriname\n",
        "http://dbpedia.org/resource/Category:Gardens_in_Belgium\n",
        "http://dbpedia.org/resource/Category:Dilbeek\n",
        "http://dbpedia.org/resource/Category:Castles_in_Belgium\n",
        "Processing Logement: \"huis Becking\"...\n",
        "Last word lookup, Becking\"..."
       ]
      },
      {
       "output_type": "stream",
       "stream": "stdout",
       "text": [
        "\n",
        "http://dbpedia.org/resource/Category:German_expatriates_in_Czechoslovakia"
       ]
      },
      {
       "output_type": "stream",
       "stream": "stdout",
       "text": [
        "\n",
        "http://dbpedia.org/resource/Category:German_expatriates_in_the_Czech_Republic\n",
        "http://dbpedia.org/resource/Category:German_musicologists\n",
        "http://dbpedia.org/resource/Category:1894_births\n",
        "http://dbpedia.org/resource/Category:1945_deaths\n",
        "http://dbpedia.org/resource/Category:German_expatriates_in_the_Czech_lands\n",
        "http://dbpedia.org/resource/Category:People_from_Bremen\n",
        "http://dbpedia.org/resource/Category:Academics_of_Charles_University_in_Prague\n",
        "http://dbpedia.org/resource/Category:Dutch_botanists\n",
        "http://dbpedia.org/resource/Category:People_from_Deventer\n",
        "First word lookup, Logement:...\n",
        "http://dbpedia.org/resource/Category:Philosophical_concepts"
       ]
      },
      {
       "output_type": "stream",
       "stream": "stdout",
       "text": [
        "\n",
        "http://dbpedia.org/resource/Category:Welfare_in_France\n",
        "http://dbpedia.org/resource/Category:Public_housing_by_country\n",
        "http://dbpedia.org/resource/Category:Affordable_housing\n",
        "http://dbpedia.org/resource/Category:Community_organizing\n",
        "http://dbpedia.org/resource/Category:Real_estate\n",
        "http://dbpedia.org/resource/Category:International_charities\n",
        "http://dbpedia.org/resource/Category:Social_programs\n",
        "http://dbpedia.org/resource/Category:Human_rights_by_issue\n",
        "http://dbpedia.org/resource/Category:Housing\n",
        "Processing Groote en Voorster-Gasthuis...\n",
        "Last word lookup, Voorster-Gasthuis..."
       ]
      },
      {
       "output_type": "stream",
       "stream": "stdout",
       "text": [
        "\n",
        "First word lookup, Groote..."
       ]
      },
      {
       "output_type": "stream",
       "stream": "stdout",
       "text": [
        "\n",
        "http://dbpedia.org/resource/Category:Ghanzi_District"
       ]
      },
      {
       "output_type": "stream",
       "stream": "stdout",
       "text": [
        "\n",
        "http://dbpedia.org/resource/Category:Villages_in_Botswana\n",
        "http://dbpedia.org/resource/Category:Rivers_of_Mecklenburg-Vorpommern\n",
        "http://dbpedia.org/resource/Category:Ships_built_in_Richmond,_California\n",
        "http://dbpedia.org/resource/Category:1944_ships\n",
        "http://dbpedia.org/resource/Category:Dutch_diaspora\n",
        "http://dbpedia.org/resource/Category:Freighters\n",
        "http://dbpedia.org/resource/Category:Liberty_ships\n",
        "http://dbpedia.org/resource/Category:History_of_New_Guinea\n",
        "http://dbpedia.org/resource/Category:Timor\n",
        "Processing Burger Weeshuis...\n",
        "Last word lookup, Weeshuis..."
       ]
      },
      {
       "output_type": "stream",
       "stream": "stdout",
       "text": [
        "\n",
        "http://dbpedia.org/resource/Category:Child_welfare"
       ]
      },
      {
       "output_type": "stream",
       "stream": "stdout",
       "text": [
        "\n",
        "http://dbpedia.org/resource/Category:Orphanages\n",
        "http://dbpedia.org/resource/Category:Total_institutions\n",
        "http://dbpedia.org/resource/Category:Buildings_and_structures_in_Haarlem\n",
        "http://dbpedia.org/resource/Category:Residential_buildings_completed_in_1874\n",
        "http://dbpedia.org/resource/Category:Rijksmonuments_in_Haarlem\n",
        "http://dbpedia.org/resource/Category:History_of_Haarlem\n",
        "http://dbpedia.org/resource/Category:Orphanages_in_Sri_Lanka\n",
        "First word lookup, Burger...\n",
        "http://dbpedia.org/resource/Category:1997_video_games"
       ]
      },
      {
       "output_type": "stream",
       "stream": "stdout",
       "text": [
        "\n",
        "http://dbpedia.org/resource/Category:2000_video_games\n",
        "http://dbpedia.org/resource/Category:Japan-exclusive_video_games\n",
        "http://dbpedia.org/resource/Category:PlayStation_games\n",
        "http://dbpedia.org/resource/Category:Gaps_games\n",
        "http://dbpedia.org/resource/Category:Business_simulation_games\n",
        "http://dbpedia.org/resource/Category:Cooking_video_games\n",
        "http://dbpedia.org/resource/Category:1999_video_games\n",
        "http://dbpedia.org/resource/Category:Game_Boy_Color_games\n",
        "http://dbpedia.org/resource/Category:Hamburgers_(food)\n",
        "Processing St. Jurriens Gasthuis...\n"
       ]
      },
      {
       "ename": "KeyboardInterrupt",
       "evalue": "",
       "output_type": "pyerr",
       "traceback": [
        "\u001b[0;31m---------------------------------------------------------------------------\u001b[0m\n\u001b[0;31mKeyboardInterrupt\u001b[0m                         Traceback (most recent call last)",
        "\u001b[0;32m<ipython-input-7-049f06292f9b>\u001b[0m in \u001b[0;36m<module>\u001b[0;34m()\u001b[0m\n\u001b[1;32m     19\u001b[0m     \u001b[0msparql\u001b[0m\u001b[0;34m.\u001b[0m\u001b[0msetReturnFormat\u001b[0m\u001b[0;34m(\u001b[0m\u001b[0mJSON\u001b[0m\u001b[0;34m)\u001b[0m\u001b[0;34m\u001b[0m\u001b[0m\n\u001b[1;32m     20\u001b[0m     \u001b[0mresults\u001b[0m \u001b[0;34m=\u001b[0m \u001b[0msparql\u001b[0m\u001b[0;34m.\u001b[0m\u001b[0mquery\u001b[0m\u001b[0;34m(\u001b[0m\u001b[0;34m)\u001b[0m\u001b[0;34m.\u001b[0m\u001b[0mconvert\u001b[0m\u001b[0;34m(\u001b[0m\u001b[0;34m)\u001b[0m\u001b[0;34m\u001b[0m\u001b[0m\n\u001b[0;32m---> 21\u001b[0;31m     \u001b[0msleep\u001b[0m\u001b[0;34m(\u001b[0m\u001b[0;36m1\u001b[0m\u001b[0;34m)\u001b[0m\u001b[0;34m\u001b[0m\u001b[0m\n\u001b[0m\u001b[1;32m     22\u001b[0m     \u001b[0;32mfor\u001b[0m \u001b[0mresult\u001b[0m \u001b[0;32min\u001b[0m \u001b[0mresults\u001b[0m\u001b[0;34m[\u001b[0m\u001b[0;34m\"results\"\u001b[0m\u001b[0;34m]\u001b[0m\u001b[0;34m[\u001b[0m\u001b[0;34m\"bindings\"\u001b[0m\u001b[0;34m]\u001b[0m\u001b[0;34m:\u001b[0m\u001b[0;34m\u001b[0m\u001b[0m\n\u001b[1;32m     23\u001b[0m         \u001b[0;32mprint\u001b[0m\u001b[0;34m(\u001b[0m\u001b[0mresult\u001b[0m\u001b[0;34m[\u001b[0m\u001b[0;34m\"subject\"\u001b[0m\u001b[0;34m]\u001b[0m\u001b[0;34m[\u001b[0m\u001b[0;34m\"value\"\u001b[0m\u001b[0;34m]\u001b[0m\u001b[0;34m)\u001b[0m\u001b[0;34m\u001b[0m\u001b[0m\n",
        "\u001b[0;31mKeyboardInterrupt\u001b[0m: "
       ]
      }
     ],
     "prompt_number": 7
    },
    {
     "cell_type": "code",
     "collapsed": false,
     "input": [
      "print tree"
     ],
     "language": "python",
     "metadata": {},
     "outputs": [
      {
       "output_type": "stream",
       "stream": "stdout",
       "text": [
        "{128: [u'Oude mannen- en vrouwenhuis', 115], 129: [u'Krankzinnigen-Gesticht', 118], 130: [82, 120], 131: [116, 126], 132: [u'Gesticht van Liefde', 119], 133: [u'Armhuis', 121], 134: [u'Boven Proveniershuis', 123], 135: [101, 128], 136: [u'Groote en Voorster-Gasthuis', 129], 137: [u'Emanuelshuis', 132], 138: [84, 131], 139: [127, 136], 140: [u'Klooster: \"Onze Lieve Vrouwe\"', 103], 141: [u'Roomsch Catholijk Weeshuis', 133], 142: [u'Ommerschans (Rijksgesticht)', 134], 143: [u'Oude Mannen- en Vrouwenhuis van het Gem. Armbest. der N.H. gemeente', 122], 144: [138, 140], 145: [u'Kazerne: \"de Ruiterstallen\"', 139], 146: [u'H\\xf4tel \"Pays-Bas\"', 130], 147: [u'Cellulaire Gevangenis', 114], 148: [135, 143], 149: [111, 147], 150: [105, 125], 151: [144, 145], 152: [99, 142], 153: [137, 141], 154: [124, 149], 155: [u'Keizers- of Jordensplaats', 153], 156: [150, 151], 157: [146, 148], 158: [117, 152], 159: [155, 156], 160: [154, 157], 161: [158, 159], 82: [u'Weeshuis der N. H. gemeente', u'Ziekenhuis der N. H. gemeente'], 83: [u'Buitengasthuis', u'Binnengasthuis'], 84: [u'Armhuis der N.H. gemeente', u'Armhuis der Ned. Herv. Gemeente'], 85: [u'Gesticht Ommerschans', u'Rijksgesticht Ommerschans'], 86: [u'Gesticht \"Averingsvergadering\"', u'Gesticht \"Uiterwijksvergadering\"'], 87: [u'Vrouwenhuis', u'Oude Vrouwenhuis'], 88: [u'St. Jurriens Gasthuis', u'St. Geertruiden Gasthuis'], 89: [u'Hotel \"de Keizer\"', u'H\\xf4tel \"de Keizerskroon\"'], 90: [u'Klooster van de orde der Franciscanessen', u'Klooster van de orde der Benedictijnen'], 91: [u'Logement: \"huis Hamers\"', u'Logement: \"huis \\'t Anker\"'], 92: [81, 83], 93: [u'Logement: \"huis de Molen\"', u'Logement: \"huis de Vriendschap\"'], 94: [u'Kostschool van H. Stael', u'Kostschool van Mej. Spruijt'], 95: [u'Logement: \"huis Becking\"', 92], 96: [u'Weeshuis', u'Werkhuis'], 97: [u'Weeshuis der Chr. Ger. Gemeente', 91], 98: [u'Logement: \"huis de Keizerskroon\"', 94], 99: [u'Kostschool van Weber', 93], 100: [90, 97], 101: [u'H\\xf4tel \"de Korenbeurs\"', 88], 102: [u'St. Jozephs-Gesticht', u'St. Nicolaas-Gesticht'], 103: [u'R. C. Weeshuis', u'Ned. Herv. Weeshuis'], 104: [u'Klooster der Franciscanen', 89], 105: [u'Groot Burger Weeshuis der Ned. Herv. gemeente', 96], 106: [u'Garnizoens-bakkerij', u'Garnizoens-Infirmerie'], 107: [u'Heerinkshuis', 95], 108: [u'Hotel \"de Klomp\"', u'Hotel \"de Graaf\"'], 109: [u'St. Anthony Gasthuis', 87], 110: [u'Ziekenhuis', u'Vilsterenshuis'], 111: [100, 107], 112: [u'Zwiersenhuizen', u'Overige huizen'], 113: [u'Burger Weeshuis', 102], 114: [106, 109], 115: [u'Huis van Arrest', u'Huis van bewaring'], 116: [u'Haersoltenhuis', 86], 117: [u'Hotel \"de Gouden Leeuw\"', 110], 118: [u'Kostschool', 98], 119: [u'Larinksgesticht', u'Weerds-Gesticht'], 120: [u'Gesticht \"de Goede Herder\"', 85], 121: [u'Heiligen Geesten Gasthuis', 108], 122: [u'Scherfshuis', 113], 123: [u'Bestedelingshuis der Ned. Herv. Diaconie', 104], 124: [u'Hervormd Armen Weeshuis', 112], 125: [u'Karmelieten klooster', u'Klooster'], 126: [u'Broerenkazerne', u'Kazerne'], 127: [u'H\\xf4tel \"Heerenlogement\"', u'H\\xf4tel \"de Zeven Provinci\\xebn\"']}\n"
       ]
      }
     ],
     "prompt_number": 9
    },
    {
     "cell_type": "code",
     "collapsed": false,
     "input": [
      "def getTreeElems(node, bag):\n",
      "    if not isinstance(node, int):\n",
      "        bag.append(node)\n",
      "    else:\n",
      "        getTreeElems(tree[node][0], bag)\n",
      "        getTreeElems(tree[node][1], bag)\n",
      "        \n",
      "\n",
      "root = clusterIndex - 1\n",
      "clustersToLabel = []\n",
      "for c in tree.keys():\n",
      "    if clusterDistance[c] < 0.7*max(clusterDistance.values()):\n",
      "        clustersToLabel.append(c)\n",
      "\n",
      "for b in clustersToLabel:\n",
      "    bag = []\n",
      "    getTreeElems(b, bag)\n",
      "    print bag"
     ],
     "language": "python",
     "metadata": {},
     "outputs": [
      {
       "output_type": "stream",
       "stream": "stdout",
       "text": [
        "[u'Krankzinnigen-Gesticht', u'Larinksgesticht', u'Weerds-Gesticht']\n",
        "[u'Buitengasthuis', u'Binnengasthuis', u'Heiligen Geesten Gasthuis', u'St. Anthony Gasthuis', u'St. Jurriens Gasthuis', u'St. Geertruiden Gasthuis']\n",
        "[u'Hotel \"de Gouden Leeuw\"', u'H\\xf4tel \"de Korenbeurs\"', u'Hotel \"de Keizer\"', u'H\\xf4tel \"de Keizerskroon\"', u'Hotel \"de Klomp\"', u'Hotel \"de Graaf\"', u'H\\xf4tel \"Heerenlogement\"', u'H\\xf4tel \"de Zeven Provinci\\xebn\"']\n",
        "[u'Gesticht van Liefde', u'Gesticht \"de Goede Herder\"', u'Gesticht \"Averingsvergadering\"', u'Gesticht \"Uiterwijksvergadering\"']\n",
        "[u'Armhuis', u'Scherfshuis', u'Heerinkshuis', u'Weeshuis', u'Werkhuis', u'Ziekenhuis', u'Vilsterenshuis']\n",
        "[u'Boven Proveniershuis', u'Hervormd Armen Weeshuis', u'Burger Weeshuis', u'R. C. Weeshuis', u'Ned. Herv. Weeshuis']\n",
        "[u'St. Jozephs-Gesticht', u'St. Nicolaas-Gesticht', u'Krankzinnigen-Gesticht', u'Larinksgesticht', u'Weerds-Gesticht']\n",
        "[u'Groote en Voorster-Gasthuis', u'Buitengasthuis', u'Binnengasthuis', u'Heiligen Geesten Gasthuis', u'St. Anthony Gasthuis', u'St. Jurriens Gasthuis', u'St. Geertruiden Gasthuis']\n",
        "[u'Emanuelshuis', u'Armhuis', u'Scherfshuis', u'Heerinkshuis', u'Weeshuis', u'Werkhuis', u'Ziekenhuis', u'Vilsterenshuis']\n",
        "[u'Weeshuis der N. H. gemeente', u'Ziekenhuis der N. H. gemeente']\n",
        "[u'Buitengasthuis', u'Binnengasthuis']\n",
        "[u'Armhuis der N.H. gemeente', u'Armhuis der Ned. Herv. Gemeente']\n",
        "[u'Gesticht Ommerschans', u'Rijksgesticht Ommerschans']\n",
        "[u'Gesticht \"Averingsvergadering\"', u'Gesticht \"Uiterwijksvergadering\"']\n",
        "[u'Vrouwenhuis', u'Oude Vrouwenhuis']\n",
        "[u'St. Jurriens Gasthuis', u'St. Geertruiden Gasthuis']\n",
        "[u'Hotel \"de Keizer\"', u'H\\xf4tel \"de Keizerskroon\"']\n",
        "[u'Klooster van de orde der Franciscanessen', u'Klooster van de orde der Benedictijnen']\n",
        "[u'Logement: \"huis Hamers\"', u'Logement: \"huis \\'t Anker\"']\n",
        "[u'Weeshuis der N. H. gemeente', u'Ziekenhuis der N. H. gemeente', u'Armhuis der N.H. gemeente', u'Armhuis der Ned. Herv. Gemeente']\n",
        "[u'Logement: \"huis de Molen\"', u'Logement: \"huis de Vriendschap\"']\n",
        "[u'Kostschool van H. Stael', u'Kostschool van Mej. Spruijt']\n",
        "[u'Logement: \"huis Becking\"', u'Logement: \"huis de Molen\"', u'Logement: \"huis de Vriendschap\"']\n",
        "[u'Weeshuis', u'Werkhuis']\n",
        "[u'Weeshuis der Chr. Ger. Gemeente', u'Weeshuis der N. H. gemeente', u'Ziekenhuis der N. H. gemeente', u'Armhuis der N.H. gemeente', u'Armhuis der Ned. Herv. Gemeente']\n",
        "[u'Logement: \"huis de Keizerskroon\"', u'Logement: \"huis Becking\"', u'Logement: \"huis de Molen\"', u'Logement: \"huis de Vriendschap\"']\n",
        "[u'Kostschool van Weber', u'Kostschool van H. Stael', u'Kostschool van Mej. Spruijt']\n",
        "[u'Logement: \"huis Hamers\"', u'Logement: \"huis \\'t Anker\"', u'Logement: \"huis de Keizerskroon\"', u'Logement: \"huis Becking\"', u'Logement: \"huis de Molen\"', u'Logement: \"huis de Vriendschap\"']\n",
        "[u'H\\xf4tel \"de Korenbeurs\"', u'Hotel \"de Keizer\"', u'H\\xf4tel \"de Keizerskroon\"']\n",
        "[u'St. Jozephs-Gesticht', u'St. Nicolaas-Gesticht']\n",
        "[u'R. C. Weeshuis', u'Ned. Herv. Weeshuis']\n",
        "[u'Klooster der Franciscanen', u'Klooster van de orde der Franciscanessen', u'Klooster van de orde der Benedictijnen']\n",
        "[u'Groot Burger Weeshuis der Ned. Herv. gemeente', u'Weeshuis der Chr. Ger. Gemeente', u'Weeshuis der N. H. gemeente', u'Ziekenhuis der N. H. gemeente', u'Armhuis der N.H. gemeente', u'Armhuis der Ned. Herv. Gemeente']\n",
        "[u'Garnizoens-bakkerij', u'Garnizoens-Infirmerie']\n",
        "[u'Heerinkshuis', u'Weeshuis', u'Werkhuis']\n",
        "[u'Hotel \"de Klomp\"', u'Hotel \"de Graaf\"']\n",
        "[u'St. Anthony Gasthuis', u'St. Jurriens Gasthuis', u'St. Geertruiden Gasthuis']\n",
        "[u'Ziekenhuis', u'Vilsterenshuis']\n",
        "[u'H\\xf4tel \"de Korenbeurs\"', u'Hotel \"de Keizer\"', u'H\\xf4tel \"de Keizerskroon\"', u'Hotel \"de Klomp\"', u'Hotel \"de Graaf\"']\n",
        "[u'Zwiersenhuizen', u'Overige huizen']\n",
        "[u'Burger Weeshuis', u'R. C. Weeshuis', u'Ned. Herv. Weeshuis']\n",
        "[u'Heerinkshuis', u'Weeshuis', u'Werkhuis', u'Ziekenhuis', u'Vilsterenshuis']\n",
        "[u'Huis van Arrest', u'Huis van bewaring']\n",
        "[u'Haersoltenhuis', u'Vrouwenhuis', u'Oude Vrouwenhuis']\n",
        "[u'Hotel \"de Gouden Leeuw\"', u'H\\xf4tel \"de Korenbeurs\"', u'Hotel \"de Keizer\"', u'H\\xf4tel \"de Keizerskroon\"', u'Hotel \"de Klomp\"', u'Hotel \"de Graaf\"']\n",
        "[u'Kostschool', u'Kostschool van Weber', u'Kostschool van H. Stael', u'Kostschool van Mej. Spruijt']\n",
        "[u'Larinksgesticht', u'Weerds-Gesticht']\n",
        "[u'Gesticht \"de Goede Herder\"', u'Gesticht \"Averingsvergadering\"', u'Gesticht \"Uiterwijksvergadering\"']\n",
        "[u'Heiligen Geesten Gasthuis', u'St. Anthony Gasthuis', u'St. Jurriens Gasthuis', u'St. Geertruiden Gasthuis']\n",
        "[u'Scherfshuis', u'Heerinkshuis', u'Weeshuis', u'Werkhuis', u'Ziekenhuis', u'Vilsterenshuis']\n",
        "[u'Bestedelingshuis der Ned. Herv. Diaconie', u'Groot Burger Weeshuis der Ned. Herv. gemeente', u'Weeshuis der Chr. Ger. Gemeente', u'Weeshuis der N. H. gemeente', u'Ziekenhuis der N. H. gemeente', u'Armhuis der N.H. gemeente', u'Armhuis der Ned. Herv. Gemeente']\n",
        "[u'Hervormd Armen Weeshuis', u'Burger Weeshuis', u'R. C. Weeshuis', u'Ned. Herv. Weeshuis']\n",
        "[u'Karmelieten klooster', u'Klooster']\n",
        "[u'Broerenkazerne', u'Kazerne']\n",
        "[u'H\\xf4tel \"Heerenlogement\"', u'H\\xf4tel \"de Zeven Provinci\\xebn\"']\n",
        "[u'Oude mannen- en vrouwenhuis', u'Haersoltenhuis', u'Vrouwenhuis', u'Oude Vrouwenhuis']\n"
       ]
      }
     ],
     "prompt_number": 62
    },
    {
     "cell_type": "code",
     "collapsed": false,
     "input": [],
     "language": "python",
     "metadata": {},
     "outputs": []
    }
   ],
   "metadata": {}
  }
 ]
}