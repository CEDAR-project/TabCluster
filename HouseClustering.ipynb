{
 "metadata": {
  "name": "",
  "signature": "sha256:1a87e1930c68af61fc3996819a52b58e7f45d51e13ea9724ff68bfb6abda1905"
 },
 "nbformat": 3,
 "nbformat_minor": 0,
 "worksheets": [
  {
   "cells": [
    {
     "cell_type": "markdown",
     "metadata": {},
     "source": [
      "## Experiments for TabClustering\n",
      "\n",
      "Few experiments for TabCluster:\n",
      "- Hierarchical clustering using SciPy\n",
      "- SPARQLing DBpedia to get categories of strings\n",
      "- Combining the two: querying cluster contents to DBpedia"
     ]
    },
    {
     "cell_type": "code",
     "collapsed": false,
     "input": [
      "#!/usr/bin/env python\n",
      "\n",
      "import codecs\n",
      "import argparse\n",
      "import logging\n",
      "import re\n",
      "import numpy as np\n",
      "import scipy.cluster.hierarchy\n",
      "from Levenshtein import ratio\n",
      "from rdflib import Graph, Namespace, Literal, URIRef\n",
      "from rdflib.namespace import Namespace, RDF, SKOS\n",
      "from SPARQLWrapper import SPARQLWrapper, JSON\n",
      "\n",
      "def distance(coord):\n",
      "    i, j = coord\n",
      "    return 1 - ratio(wordList[i], wordList[j])\n",
      "\n",
      "log = logging.getLogger('TabCluster')\n",
      "log.setLevel(logging.DEBUG)\n",
      "\n",
      "fo = codecs.open('input', encoding='utf-8')\n",
      "wordList = list(set(fo.read().splitlines()))\n",
      "log.debug('Word list contains %s items' % len(wordList))\n",
      "\n",
      "simMatrix = []\n",
      "# for i in range(len(wordList)):\n",
      "#     simMatrix.append([])\n",
      "#     for j in range(len(wordList)):\n",
      "#         simMatrix[i].append(distance((i,j)))\n",
      "\n",
      "print wordList      \n",
      "upperIndices = np.triu_indices(len(wordList), 1)\n",
      "upperTriangle = np.apply_along_axis(distance, 0, upperIndices)\n",
      "cluster = scipy.cluster.hierarchy.linkage(upperTriangle, method='average')\n",
      "# log.debug(cluster)\n",
      "\n",
      "\n",
      "tree = {}\n",
      "clusterIndex = len(wordList) + 1\n",
      "for i in cluster:\n",
      "    indexA = int(i[0])\n",
      "    indexB = int(i[1])\n",
      "    elemA = wordList[indexA] if indexA < len(wordList) else indexA\n",
      "    elemB = wordList[indexB] if indexB < len(wordList) else indexB\n",
      "    tree[clusterIndex] = []\n",
      "    tree[clusterIndex].append(elemA)\n",
      "    tree[clusterIndex].append(elemB)\n",
      "    clusterIndex += 1\n",
      "    \n",
      "dendogram = scipy.cluster.hierarchy.dendrogram(Z=cluster, labels=wordList, leaf_font_size=4)\n",
      "# pylab.savefig('dendogram-complete.png')\n"
     ],
     "language": "python",
     "metadata": {},
     "outputs": [
      {
       "output_type": "stream",
       "stream": "stderr",
       "text": [
        "DEBUG:TabCluster:Word list contains 81 items\n"
       ]
      },
      {
       "output_type": "stream",
       "stream": "stdout",
       "text": [
        "[u'Zwiersenhuizen', u'Heiligen Geesten Gasthuis', u'Armhuis der N.H. gemeente', u'Roomsch Catholijk Weeshuis', u'Gesticht Ommerschans', u'Gesticht \"Averingsvergadering\"', u'Hotel \"de Keizer\"', u'Buitengasthuis', u'Groot Burger Weeshuis der Ned. Herv. gemeente', u'Logement: \"huis Becking\"', u'Groote en Voorster-Gasthuis', u'Burger Weeshuis', u'St. Jurriens Gasthuis', u'Weeshuis der Chr. Ger. Gemeente', u'Heerinkshuis', u'Gesticht \"Uiterwijksvergadering\"', u'Bestedelingshuis der Ned. Herv. Diaconie', u'St. Anthony Gasthuis', u'Weeshuis der N. H. gemeente', u'Hervormd Armen Weeshuis', u'Binnengasthuis', u'Oude mannen- en vrouwenhuis', u'Armhuis der Ned. Herv. Gemeente', u'Haersoltenhuis', u'H\\xf4tel \"Heerenlogement\"', u'Hotel \"de Gouden Leeuw\"', u'Krankzinnigen-Gesticht', u'Larinksgesticht', u'Ommerschans (Rijksgesticht)', u'Overige huizen', u'Rijksgesticht Ommerschans', u'Huis van Arrest', u'Ziekenhuis der N. H. gemeente', u'Hotel \"de Klomp\"', u'H\\xf4tel \"Pays-Bas\"', u'Broerenkazerne', u'Klooster van de orde der Franciscanessen', u'Ziekenhuis', u'Keizers- of Jordensplaats', u'Logement: \"huis Hamers\"', u'Vrouwenhuis', u'Klooster van de orde der Benedictijnen', u'Hotel \"de Graaf\"', u'Cellulaire Gevangenis', u'Kostschool', u'R. C. Weeshuis', u'Garnizoens-bakkerij', u'Klooster: \"Onze Lieve Vrouwe\"', u'Vilsterenshuis', u'Kostschool van H. Stael', u'Kostschool van Mej. Spruijt', u'Garnizoens-Infirmerie', u'Karmelieten klooster', u'H\\xf4tel \"de Keizerskroon\"', u'Gesticht \"de Goede Herder\"', u'Logement: \"huis de Molen\"', u'St. Jozephs-Gesticht', u'Boven Proveniershuis', u'Ned. Herv. Weeshuis', u'Kazerne: \"de Ruiterstallen\"', u'Logement: \"huis de Keizerskroon\"', u'Kostschool van Weber', u'H\\xf4tel \"de Zeven Provinci\\xebn\"', u'Weeshuis', u'Klooster der Franciscanen', u'Oude Vrouwenhuis', u'Logement: \"huis \\'t Anker\"', u'Gesticht van Liefde', u'St. Geertruiden Gasthuis', u'Werkhuis', u'Weerds-Gesticht', u'Oude Mannen- en Vrouwenhuis van het Gem. Armbest. der N.H. gemeente', u'Kazerne', u'Scherfshuis', u'Huis van bewaring', u'Klooster', u'St. Nicolaas-Gesticht', u'Logement: \"huis de Vriendschap\"', u'Emanuelshuis', u'Armhuis', u'H\\xf4tel \"de Korenbeurs\"']\n"
       ]
      }
     ],
     "prompt_number": 1
    },
    {
     "cell_type": "code",
     "collapsed": false,
     "input": [
      "from time import sleep\n",
      "\n",
      "sparql = SPARQLWrapper('http://dbpedia.org/sparql')\n",
      "for word in wordList:\n",
      "    print \"Processing %s...\" % word\n",
      "    query = u\"\"\"\n",
      "    PREFIX rdfs: <http://www.w3.org/2000/01/rdf-schema#> \n",
      "    PREFIX dcterms: <http://purl.org/dc/terms/>\n",
      "    SELECT DISTINCT ?concept ?subject\n",
      "    WHERE {\n",
      "    ?concept dcterms:subject ?subject .\n",
      "    ?concept rdfs:label ?label . \n",
      "    ?label bif:contains \\\"\\'%s\\'\\\"@nl \n",
      "    OPTION (score ?sc) .\n",
      "    } ORDER BY DESC(?sc)\n",
      "    LIMIT 10\"\"\" % re.sub(\"\\\"|\\.|\\'\", \" \", \" and \".join(word.split(' ')))\n",
      "    # print query\n",
      "    sparql.setQuery(query)\n",
      "    sparql.setReturnFormat(JSON)\n",
      "    results = sparql.query().convert()\n",
      "    sleep(1)\n",
      "    for result in results[\"results\"][\"bindings\"]:\n",
      "        print(result[\"subject\"][\"value\"])\n",
      "        \n",
      "    if len(results) == 2:\n",
      "        # Last word lookup\n",
      "        last = word.split(' ')[-1]   \n",
      "        print \"Last word lookup, %s...\" % last\n",
      "        query = u\"\"\"\n",
      "        PREFIX rdfs: <http://www.w3.org/2000/01/rdf-schema#> \n",
      "        PREFIX dcterms: <http://purl.org/dc/terms/>\n",
      "        SELECT DISTINCT ?concept ?subject\n",
      "        WHERE {\n",
      "        ?concept dcterms:subject ?subject .\n",
      "        ?concept rdfs:label ?label . \n",
      "        ?label bif:contains \\\"\\'%s\\'\\\"@nl \n",
      "        OPTION (score ?sc) .\n",
      "        } ORDER BY DESC(?sc)\n",
      "        LIMIT 10\"\"\" % re.sub(\"\\\"|\\.|\\'\", \" \", last)\n",
      "        # print query\n",
      "        sparql.setQuery(query)\n",
      "        sparql.setReturnFormat(JSON)\n",
      "        results = sparql.query().convert()\n",
      "        sleep(1)\n",
      "        for result in results[\"results\"][\"bindings\"]:\n",
      "            print(result[\"subject\"][\"value\"]) \n",
      "        \n",
      "        if len(results) == 2:\n",
      "            # First word lookup \n",
      "            first = word.split(' ')[0]   \n",
      "            print \"First word lookup, %s...\" % first\n",
      "            query = u\"\"\"\n",
      "            PREFIX rdfs: <http://www.w3.org/2000/01/rdf-schema#> \n",
      "            PREFIX dcterms: <http://purl.org/dc/terms/>\n",
      "            SELECT DISTINCT ?concept ?subject\n",
      "            WHERE {\n",
      "            ?concept dcterms:subject ?subject .\n",
      "            ?concept rdfs:label ?label . \n",
      "            ?label bif:contains \\\"\\'%s\\'\\\"@nl \n",
      "            OPTION (score ?sc) .\n",
      "            } ORDER BY DESC(?sc)\n",
      "            LIMIT 10\"\"\" % re.sub(\"\\\"|\\.|\\'\", \" \", first)\n",
      "            # print query\n",
      "            sparql.setQuery(query)\n",
      "            sparql.setReturnFormat(JSON)\n",
      "            results = sparql.query().convert()\n",
      "            sleep(1)\n",
      "            for result in results[\"results\"][\"bindings\"]:\n",
      "                print(result[\"subject\"][\"value\"])\n",
      "\n",
      "    \n",
      "\n"
     ],
     "language": "python",
     "metadata": {},
     "outputs": [
      {
       "output_type": "stream",
       "stream": "stdout",
       "text": [
        "Processing Zwiersenhuizen...\n",
        "Last word lookup, Zwiersenhuizen..."
       ]
      },
      {
       "output_type": "stream",
       "stream": "stdout",
       "text": [
        "\n",
        "First word lookup, Zwiersenhuizen..."
       ]
      },
      {
       "output_type": "stream",
       "stream": "stdout",
       "text": [
        "\n",
        "Processing Heiligen Geesten Gasthuis..."
       ]
      },
      {
       "output_type": "stream",
       "stream": "stdout",
       "text": [
        "\n",
        "Last word lookup, Gasthuis..."
       ]
      },
      {
       "output_type": "stream",
       "stream": "stdout",
       "text": [
        "\n",
        "http://dbpedia.org/resource/Category:Buildings_and_structures_in_Utrecht_(city)"
       ]
      },
      {
       "output_type": "stream",
       "stream": "stdout",
       "text": [
        "\n",
        "http://dbpedia.org/resource/Category:Guildhalls_in_the_Netherlands\n",
        "http://dbpedia.org/resource/Category:History_of_Utrecht_(city)\n",
        "http://dbpedia.org/resource/Category:Buildings_and_structures_in_Haarlem\n",
        "http://dbpedia.org/resource/Category:Rijksmonuments_in_Haarlem\n",
        "http://dbpedia.org/resource/Category:History_of_Haarlem\n",
        "http://dbpedia.org/resource/Category:1581_establishments\n",
        "http://dbpedia.org/resource/Category:Infrastructure_completed_in_1871\n",
        "First word lookup, Heiligen...\n",
        "http://dbpedia.org/resource/Category:Orders,_decorations,_and_medals_of_Greece"
       ]
      },
      {
       "output_type": "stream",
       "stream": "stdout",
       "text": [
        "\n",
        "http://dbpedia.org/resource/Category:Order_of_Saints_George_and_Constantine\n",
        "http://dbpedia.org/resource/Category:1936_establishments_in_Greece\n",
        "http://dbpedia.org/resource/Category:Awards_established_in_1936\n",
        "http://dbpedia.org/resource/Category:Orders_of_knighthood_awarded_to_heads_of_state,_consorts_and_sovereign_family_members\n",
        "http://dbpedia.org/resource/Category:Orders,_decorations,_and_medals_of_Greece\n",
        "http://dbpedia.org/resource/Category:Awards_and_prizes_honoring_women\n",
        "http://dbpedia.org/resource/Category:1936_establishments_in_Greece\n",
        "http://dbpedia.org/resource/Category:Orders_of_knighthood_for_women\n",
        "http://dbpedia.org/resource/Category:Awards_established_in_1936\n",
        "Processing Armhuis der N.H. gemeente...\n",
        "Last word lookup, gemeente..."
       ]
      },
      {
       "output_type": "stream",
       "stream": "stdout",
       "text": [
        "\n",
        "http://dbpedia.org/resource/Category:Bus_companies_of_the_Netherlands"
       ]
      },
      {
       "output_type": "stream",
       "stream": "stdout",
       "text": [
        "\n",
        "http://dbpedia.org/resource/Category:Municipalities\n",
        "http://dbpedia.org/resource/Category:Administrative_divisions\n",
        "http://dbpedia.org/resource/Category:Local_government_in_France\n",
        "http://dbpedia.org/resource/Category:Country_subdivisions_of_Europe\n",
        "http://dbpedia.org/resource/Category:Populated_places_in_France\n",
        "http://dbpedia.org/resource/Category:Fourth-level_administrative_country_subdivisions\n",
        "http://dbpedia.org/resource/Category:Subdivisions_of_France\n",
        "http://dbpedia.org/resource/Category:Townships\n",
        "http://dbpedia.org/resource/Category:Administrative_divisions_of_the_People's_Republic_of_China\n",
        "First word lookup, Armhuis...\n",
        "Processing Roomsch Catholijk Weeshuis..."
       ]
      },
      {
       "output_type": "stream",
       "stream": "stdout",
       "text": [
        "\n",
        "Last word lookup, Weeshuis..."
       ]
      },
      {
       "output_type": "stream",
       "stream": "stdout",
       "text": [
        "\n",
        "http://dbpedia.org/resource/Category:Child_welfare"
       ]
      },
      {
       "output_type": "stream",
       "stream": "stdout",
       "text": [
        "\n",
        "http://dbpedia.org/resource/Category:Orphanages\n",
        "http://dbpedia.org/resource/Category:Total_institutions\n",
        "http://dbpedia.org/resource/Category:Buildings_and_structures_in_Haarlem\n",
        "http://dbpedia.org/resource/Category:Residential_buildings_completed_in_1874\n",
        "http://dbpedia.org/resource/Category:Rijksmonuments_in_Haarlem\n",
        "http://dbpedia.org/resource/Category:History_of_Haarlem\n",
        "http://dbpedia.org/resource/Category:Orphanages_in_Sri_Lanka\n",
        "First word lookup, Roomsch...\n",
        "http://dbpedia.org/resource/Category:Defunct_Christian_political_parties"
       ]
      },
      {
       "output_type": "stream",
       "stream": "stdout",
       "text": [
        "\n",
        "http://dbpedia.org/resource/Category:Defunct_political_parties_in_the_Netherlands\n",
        "http://dbpedia.org/resource/Category:Political_parties_established_in_1926\n",
        "http://dbpedia.org/resource/Category:Political_parties_disestablished_in_1945\n",
        "http://dbpedia.org/resource/Category:Catholic_political_parties\n",
        "http://dbpedia.org/resource/Category:Confessional_parties_in_the_Netherlands\n",
        "Processing Gesticht Ommerschans...\n",
        "Last word lookup, Ommerschans..."
       ]
      },
      {
       "output_type": "stream",
       "stream": "stdout",
       "text": [
        "\n",
        "http://dbpedia.org/resource/Category:Populated_places_in_Overijssel"
       ]
      },
      {
       "output_type": "stream",
       "stream": "stdout",
       "text": [
        "\n",
        "First word lookup, Gesticht...\n",
        "Processing Gesticht \"Averingsvergadering\"..."
       ]
      },
      {
       "output_type": "stream",
       "stream": "stdout",
       "text": [
        "\n",
        "Last word lookup, \"Averingsvergadering\"..."
       ]
      },
      {
       "output_type": "stream",
       "stream": "stdout",
       "text": [
        "\n",
        "First word lookup, Gesticht..."
       ]
      },
      {
       "output_type": "stream",
       "stream": "stdout",
       "text": [
        "\n",
        "Processing Hotel \"de Keizer\"..."
       ]
      },
      {
       "output_type": "stream",
       "stream": "stdout",
       "text": [
        "\n",
        "Last word lookup, Keizer\"..."
       ]
      },
      {
       "output_type": "stream",
       "stream": "stdout",
       "text": [
        "\n",
        "http://dbpedia.org/resource/Category:Keizer,_Oregon"
       ]
      },
      {
       "output_type": "stream",
       "stream": "stdout",
       "text": [
        "\n",
        "http://dbpedia.org/resource/Category:Salem,_Oregon_metropolitan_area\n",
        "http://dbpedia.org/resource/Category:Former_census-designated_places_in_Oregon\n",
        "http://dbpedia.org/resource/Category:Cities_in_Oregon\n",
        "http://dbpedia.org/resource/Category:Populated_places_in_Marion_County,_Oregon\n",
        "http://dbpedia.org/resource/Category:14th-century_German_people\n",
        "http://dbpedia.org/resource/Category:Counts_of_Luxembourg\n",
        "http://dbpedia.org/resource/Category:Roman_Catholic_monarchs\n",
        "http://dbpedia.org/resource/Category:14th-century_French_people\n",
        "http://dbpedia.org/resource/Category:14th-century_Luxembourgian_people\n",
        "First word lookup, Hotel...\n",
        "http://dbpedia.org/resource/Category:Hotels_established_in_1927"
       ]
      },
      {
       "output_type": "stream",
       "stream": "stdout",
       "text": [
        "\n",
        "http://dbpedia.org/resource/Category:Hotel_buildings_on_the_National_Register_of_Historic_Places_in_Louisiana\n",
        "http://dbpedia.org/resource/Category:National_Register_of_Historic_Places_in_Sarasota_County,_Florida\n",
        "http://dbpedia.org/resource/Category:Sarasota,_Florida\n",
        "http://dbpedia.org/resource/Category:Hotel_buildings_completed_in_1925\n",
        "http://dbpedia.org/resource/Category:Kempinski_Hotels\n",
        "http://dbpedia.org/resource/Category:Hotels_established_in_1907\n",
        "http://dbpedia.org/resource/Category:Hotels_in_Berlin\n",
        "http://dbpedia.org/resource/Category:Hotel_buildings_completed_in_1907\n",
        "http://dbpedia.org/resource/Category:Hotel_buildings_completed_in_1997\n",
        "Processing Buitengasthuis...\n",
        "Last word lookup, Buitengasthuis..."
       ]
      },
      {
       "output_type": "stream",
       "stream": "stdout",
       "text": [
        "\n",
        "First word lookup, Buitengasthuis..."
       ]
      },
      {
       "output_type": "stream",
       "stream": "stdout",
       "text": [
        "\n",
        "Processing Groot Burger Weeshuis der Ned. Herv. gemeente..."
       ]
      },
      {
       "output_type": "stream",
       "stream": "stdout",
       "text": [
        "\n",
        "Last word lookup, gemeente..."
       ]
      },
      {
       "output_type": "stream",
       "stream": "stdout",
       "text": [
        "\n",
        "http://dbpedia.org/resource/Category:Bus_companies_of_the_Netherlands"
       ]
      },
      {
       "output_type": "stream",
       "stream": "stdout",
       "text": [
        "\n",
        "http://dbpedia.org/resource/Category:Municipalities\n",
        "http://dbpedia.org/resource/Category:Administrative_divisions\n",
        "http://dbpedia.org/resource/Category:Local_government_in_France\n",
        "http://dbpedia.org/resource/Category:Country_subdivisions_of_Europe\n",
        "http://dbpedia.org/resource/Category:Populated_places_in_France\n",
        "http://dbpedia.org/resource/Category:Fourth-level_administrative_country_subdivisions\n",
        "http://dbpedia.org/resource/Category:Subdivisions_of_France\n",
        "http://dbpedia.org/resource/Category:Townships\n",
        "http://dbpedia.org/resource/Category:Administrative_divisions_of_the_People's_Republic_of_China\n",
        "First word lookup, Groot...\n",
        "http://dbpedia.org/resource/Category:Hydronyms"
       ]
      },
      {
       "output_type": "stream",
       "stream": "stdout",
       "text": [
        "\n",
        "http://dbpedia.org/resource/Category:Dutch_toponyms\n",
        "http://dbpedia.org/resource/Category:Dutch-language_surnames\n",
        "http://dbpedia.org/resource/Category:Neighbourhoods_of_Rotterdam\n",
        "http://dbpedia.org/resource/Category:Populated_places_in_Overijssel\n",
        "http://dbpedia.org/resource/Category:Populated_places_in_Nickerie_District\n",
        "http://dbpedia.org/resource/Category:Resorts_of_Suriname\n",
        "http://dbpedia.org/resource/Category:Gardens_in_Belgium\n",
        "http://dbpedia.org/resource/Category:Dilbeek\n",
        "http://dbpedia.org/resource/Category:Castles_in_Belgium\n",
        "Processing Logement: \"huis Becking\"...\n",
        "Last word lookup, Becking\"..."
       ]
      },
      {
       "output_type": "stream",
       "stream": "stdout",
       "text": [
        "\n",
        "http://dbpedia.org/resource/Category:German_expatriates_in_Czechoslovakia"
       ]
      },
      {
       "output_type": "stream",
       "stream": "stdout",
       "text": [
        "\n",
        "http://dbpedia.org/resource/Category:German_expatriates_in_the_Czech_Republic\n",
        "http://dbpedia.org/resource/Category:German_musicologists\n",
        "http://dbpedia.org/resource/Category:1894_births\n",
        "http://dbpedia.org/resource/Category:1945_deaths\n",
        "http://dbpedia.org/resource/Category:German_expatriates_in_the_Czech_lands\n",
        "http://dbpedia.org/resource/Category:People_from_Bremen\n",
        "http://dbpedia.org/resource/Category:Academics_of_Charles_University_in_Prague\n",
        "http://dbpedia.org/resource/Category:Dutch_botanists\n",
        "http://dbpedia.org/resource/Category:People_from_Deventer\n",
        "First word lookup, Logement:...\n",
        "http://dbpedia.org/resource/Category:Philosophical_concepts"
       ]
      },
      {
       "output_type": "stream",
       "stream": "stdout",
       "text": [
        "\n",
        "http://dbpedia.org/resource/Category:Welfare_in_France\n",
        "http://dbpedia.org/resource/Category:Public_housing_by_country\n",
        "http://dbpedia.org/resource/Category:Affordable_housing\n",
        "http://dbpedia.org/resource/Category:Community_organizing\n",
        "http://dbpedia.org/resource/Category:Real_estate\n",
        "http://dbpedia.org/resource/Category:International_charities\n",
        "http://dbpedia.org/resource/Category:Social_programs\n",
        "http://dbpedia.org/resource/Category:Human_rights_by_issue\n",
        "http://dbpedia.org/resource/Category:Housing\n",
        "Processing Groote en Voorster-Gasthuis...\n",
        "Last word lookup, Voorster-Gasthuis..."
       ]
      },
      {
       "output_type": "stream",
       "stream": "stdout",
       "text": [
        "\n",
        "First word lookup, Groote..."
       ]
      },
      {
       "output_type": "stream",
       "stream": "stdout",
       "text": [
        "\n",
        "http://dbpedia.org/resource/Category:Ghanzi_District"
       ]
      },
      {
       "output_type": "stream",
       "stream": "stdout",
       "text": [
        "\n",
        "http://dbpedia.org/resource/Category:Villages_in_Botswana\n",
        "http://dbpedia.org/resource/Category:Rivers_of_Mecklenburg-Vorpommern\n",
        "http://dbpedia.org/resource/Category:Ships_built_in_Richmond,_California\n",
        "http://dbpedia.org/resource/Category:1944_ships\n",
        "http://dbpedia.org/resource/Category:Dutch_diaspora\n",
        "http://dbpedia.org/resource/Category:Freighters\n",
        "http://dbpedia.org/resource/Category:Liberty_ships\n",
        "http://dbpedia.org/resource/Category:History_of_New_Guinea\n",
        "http://dbpedia.org/resource/Category:Timor\n",
        "Processing Burger Weeshuis...\n",
        "Last word lookup, Weeshuis..."
       ]
      },
      {
       "output_type": "stream",
       "stream": "stdout",
       "text": [
        "\n",
        "http://dbpedia.org/resource/Category:Child_welfare"
       ]
      },
      {
       "output_type": "stream",
       "stream": "stdout",
       "text": [
        "\n",
        "http://dbpedia.org/resource/Category:Orphanages\n",
        "http://dbpedia.org/resource/Category:Total_institutions\n",
        "http://dbpedia.org/resource/Category:Buildings_and_structures_in_Haarlem\n",
        "http://dbpedia.org/resource/Category:Residential_buildings_completed_in_1874\n",
        "http://dbpedia.org/resource/Category:Rijksmonuments_in_Haarlem\n",
        "http://dbpedia.org/resource/Category:History_of_Haarlem\n",
        "http://dbpedia.org/resource/Category:Orphanages_in_Sri_Lanka\n",
        "First word lookup, Burger...\n",
        "http://dbpedia.org/resource/Category:1997_video_games"
       ]
      },
      {
       "output_type": "stream",
       "stream": "stdout",
       "text": [
        "\n",
        "http://dbpedia.org/resource/Category:2000_video_games\n",
        "http://dbpedia.org/resource/Category:Japan-exclusive_video_games\n",
        "http://dbpedia.org/resource/Category:PlayStation_games\n",
        "http://dbpedia.org/resource/Category:Gaps_games\n",
        "http://dbpedia.org/resource/Category:Business_simulation_games\n",
        "http://dbpedia.org/resource/Category:Cooking_video_games\n",
        "http://dbpedia.org/resource/Category:1999_video_games\n",
        "http://dbpedia.org/resource/Category:Game_Boy_Color_games\n",
        "http://dbpedia.org/resource/Category:Hamburgers_(food)\n",
        "Processing St. Jurriens Gasthuis...\n"
       ]
      },
      {
       "ename": "KeyboardInterrupt",
       "evalue": "",
       "output_type": "pyerr",
       "traceback": [
        "\u001b[0;31m---------------------------------------------------------------------------\u001b[0m\n\u001b[0;31mKeyboardInterrupt\u001b[0m                         Traceback (most recent call last)",
        "\u001b[0;32m<ipython-input-7-049f06292f9b>\u001b[0m in \u001b[0;36m<module>\u001b[0;34m()\u001b[0m\n\u001b[1;32m     19\u001b[0m     \u001b[0msparql\u001b[0m\u001b[0;34m.\u001b[0m\u001b[0msetReturnFormat\u001b[0m\u001b[0;34m(\u001b[0m\u001b[0mJSON\u001b[0m\u001b[0;34m)\u001b[0m\u001b[0;34m\u001b[0m\u001b[0m\n\u001b[1;32m     20\u001b[0m     \u001b[0mresults\u001b[0m \u001b[0;34m=\u001b[0m \u001b[0msparql\u001b[0m\u001b[0;34m.\u001b[0m\u001b[0mquery\u001b[0m\u001b[0;34m(\u001b[0m\u001b[0;34m)\u001b[0m\u001b[0;34m.\u001b[0m\u001b[0mconvert\u001b[0m\u001b[0;34m(\u001b[0m\u001b[0;34m)\u001b[0m\u001b[0;34m\u001b[0m\u001b[0m\n\u001b[0;32m---> 21\u001b[0;31m     \u001b[0msleep\u001b[0m\u001b[0;34m(\u001b[0m\u001b[0;36m1\u001b[0m\u001b[0;34m)\u001b[0m\u001b[0;34m\u001b[0m\u001b[0m\n\u001b[0m\u001b[1;32m     22\u001b[0m     \u001b[0;32mfor\u001b[0m \u001b[0mresult\u001b[0m \u001b[0;32min\u001b[0m \u001b[0mresults\u001b[0m\u001b[0;34m[\u001b[0m\u001b[0;34m\"results\"\u001b[0m\u001b[0;34m]\u001b[0m\u001b[0;34m[\u001b[0m\u001b[0;34m\"bindings\"\u001b[0m\u001b[0;34m]\u001b[0m\u001b[0;34m:\u001b[0m\u001b[0;34m\u001b[0m\u001b[0m\n\u001b[1;32m     23\u001b[0m         \u001b[0;32mprint\u001b[0m\u001b[0;34m(\u001b[0m\u001b[0mresult\u001b[0m\u001b[0;34m[\u001b[0m\u001b[0;34m\"subject\"\u001b[0m\u001b[0;34m]\u001b[0m\u001b[0;34m[\u001b[0m\u001b[0;34m\"value\"\u001b[0m\u001b[0;34m]\u001b[0m\u001b[0;34m)\u001b[0m\u001b[0;34m\u001b[0m\u001b[0m\n",
        "\u001b[0;31mKeyboardInterrupt\u001b[0m: "
       ]
      }
     ],
     "prompt_number": 7
    },
    {
     "cell_type": "code",
     "collapsed": false,
     "input": [],
     "language": "python",
     "metadata": {},
     "outputs": []
    }
   ],
   "metadata": {}
  }
 ]
}