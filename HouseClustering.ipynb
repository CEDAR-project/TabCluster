{
 "metadata": {
  "name": "",
  "signature": "sha256:c57567f435277a1276f5222bc2824092219d18f984be748a0dea2460b4ff1de3"
 },
 "nbformat": 3,
 "nbformat_minor": 0,
 "worksheets": [
  {
   "cells": [
    {
     "cell_type": "code",
     "collapsed": false,
     "input": [
      "#!/usr/bin/env python\n",
      "\n",
      "import codecs\n",
      "import argparse\n",
      "import logging\n",
      "import re\n",
      "import numpy as np\n",
      "import scipy.cluster.hierarchy\n",
      "from Levenshtein import ratio\n",
      "from rdflib import Graph, Namespace, Literal, URIRef\n",
      "from rdflib.namespace import Namespace, RDF, SKOS\n",
      "from SPARQLWrapper import SPARQLWrapper, JSON\n",
      "\n",
      "def distance(coord):\n",
      "    i, j = coord\n",
      "    return 1 - ratio(wordList[i], wordList[j])\n",
      "\n",
      "log = logging.getLogger('TabCluster')\n",
      "log.setLevel(logging.DEBUG)\n",
      "\n",
      "fo = codecs.open('input-religions', encoding='utf-8')\n",
      "wordList = list(set(fo.read().splitlines()))\n",
      "log.debug('Word list contains %s items' % len(wordList))\n",
      "\n",
      "simMatrix = []\n",
      "# for i in range(len(wordList)):\n",
      "#     simMatrix.append([])\n",
      "#     for j in range(len(wordList)):\n",
      "#         simMatrix[i].append(distance((i,j)))\n",
      "\n",
      "print wordList      \n",
      "upperIndices = np.triu_indices(len(wordList), 1)\n",
      "upperTriangle = np.apply_along_axis(distance, 0, upperIndices)\n",
      "cluster = scipy.cluster.hierarchy.linkage(upperTriangle, method='average')\n",
      "# log.debug(cluster)\n",
      "\n",
      "\n",
      "tree = {}\n",
      "clusterIndex = len(wordList) + 1\n",
      "for i in cluster:\n",
      "    indexA = int(i[0])\n",
      "    indexB = int(i[1])\n",
      "    elemA = wordList[indexA] if indexA < len(wordList) else indexA\n",
      "    elemB = wordList[indexB] if indexB < len(wordList) else indexB\n",
      "    tree[clusterIndex] = []\n",
      "    tree[clusterIndex].append(elemA)\n",
      "    tree[clusterIndex].append(elemB)\n",
      "    clusterIndex += 1\n",
      "    \n",
      "dendogram = scipy.cluster.hierarchy.dendrogram(Z=cluster, labels=wordList, leaf_font_size=4)\n",
      "# pylab.savefig('dendogram-complete.png')\n"
     ],
     "language": "python",
     "metadata": {},
     "outputs": [
      {
       "output_type": "stream",
       "stream": "stderr",
       "text": [
        "DEBUG:TabCluster:Word list contains 498 items\n"
       ]
      },
      {
       "output_type": "stream",
       "stream": "stdout",
       "text": [
        "[u'Herst. Apost. Gem. in de Eenheid der Apostelen', u'Vrije Gereformeerden onder het kruis', u'Apostolischen', u'Herst.Apost.Zend.gem.i.d.eenh.d.Apost.', u'Ned. en Portug. Isra\\xebliet', u'Religion Prot\\xe8stante', u'Hersteld Apost. Zendingskerk', u'Schotsche gemeente', u'Russisch Orthodox', u'Christelijk Afgescheiden Gem.', u'Valdese de Piemonte', u'Vereeniging om Christus geheel te volgen', u'Roomsch-Catholijken', u'Iersche kerk', u'Vrijzinnig Apostolisch', u'Vrije Evangelische Gemeente', u'Vrije Zending Gem.', u'Portugeesche Isra\\xeblieten', u'Vrijzinnige Jeugdkerk', u'Oud Isra\\xebliet', u'Rooms-Katholiek', u'Engelse Protestantse kerkgen.', u'Vergadering van geloovigen op grondslag van Matth. 18:20a', u'Hernhutter', u'Duitsch-Evangelischen', u'Vereeniging Vrije Gedachten', u'Hervormd Gereformeerd', u'Oud Bissch. Cleresie (Oud-Roomsch)', u'Apostolisch Genootschap', u'Oud Evangelisch', u'Christelijk Evangelischen', u'Gemeenschap Kinderen Gods', u'Doopsgezinden of Mennonieten', u'Engelsch Wallegaansche kerk', u'Vrije Evangelischen', u'Oud-Roomschen of van de Bisschoppelijke Klerezie', u'Gereformeerde Gemeente (Oud)', u'Oud-Luthersch', u'Vrije Christel. Gemeente (Bond v.)', u'Remonstrantsch Gereformeerd', u'Pruissische Landeskirche', u'Nederduitsch Hervomden', u'\\xc9glise nationale de Suisse', u'Sabbattisten', u'Anglicaansche Episcopalen', u'Genootsch. der Vrienden (Quakers)', u'Maranatha-groep', u'Leden der Vrije Engelsche Gemeente', u'Vrijzinnig Godsdienstige Vereeniging', u'Algemeene Christelijke kerk in Sion', u'Roomsch-Catholieken', u'Vrijzinnig Protestant', u'Christelijk Apostolischen', u'Andere kerk. gezindten', u'Vrije Religieuse Kring', u'Overige kleinere gezindten', u'Evang. Luthers', u'Geref. Gem.', u'Zwinglianen', u'Herst. Apost. Zend.gem.in Nederland', u'Tot geen kerk.gez.beh.', u'Leden der Vrije Evangelische Zending Gemeente', u'Personen behoorende tot eene andere kerkel. Gezindte', u'Quakers', u'Iersche Kerk', u'Methodisten', u'Grieksch Katholiek', u'Afgescheiden Gemeente', u'Vrije Evangelische Gemeenten', u'Vergadering der Christenen', u'\\xc9glise libre', u'Leden der Vrije Gemeente', u'Open Broeders', u'Evangelische gemeente', u'Boeddhist', u'Leden der Geloofsvereeniging in de volheid van Christus', u'Schotsche kerk', u'Kerkgenootschap onbekend', u'Kerk van Jezus Christus of de Heiligen der laatste dagen', u'Geen kerkelijke gezindte (Overige zonder)', u'Vrijzinnig Christelijke Jongeren Bond', u'Christelijk-gereformeerd', u'Leden der Ned. Herv. Zending Gemeente', u'Gereformeerde Kerken', u'Darbisten', u'Kerk van Jesus Christus of de Heiligen der laatste dagen (Mormonen)', u'Zonder kerkel. gezindte', u'Apostolische Gemeente', u'Bijbel Zendingsgenootschap', u'Evang.Luthers', u'Gregorianen', u'Nederlandsche Protestanten Bond', u'Pinkstergroepen', u'Zevende dag Baptisten', u'Hernhutters, Evangelische of Moravische broedergem.', u'Doopsgezind', u'Vrije Katholieke Kerk', u'Vrije Evangel. Gemeente', u'Gereformeerde Gemeente onder h. Kruis', u'Christelijk Orthodoxen', u'Gereformeerd (w.v. Geref.Kerken)', u'Rosecrusian Genootschap', u'Wasa Gemeente', u'Bethel, genezen door gebed', u'Wederdoopers', u'Boeddhisten', u'Society of Friends', u'Vrije Evangelische gemeente', u'Vrijzinnig Religieuse Gemeenschap', u'Zendingsgemeente', u'Gereform. Gem. onder het Kruis', u'Swedenborgsch Genootschap', u'Herst. Apost. Zendingskerk', u'Onbekend en tot geene der genoemde gezindheden behoorende', u'Unitarissen', u'Personen waarvan de kerkelijke gezindte onbekend was', u'Adventisten (De Nederl. Vereen. Van Zevende -dags-Adventisten)', u'Leden der Episcopale Zionskapel', u'Ned.Protestantenbond', u'\\xc9glise nationale', u'Engelsche Presbyterianen (Hervormden)', u'Grieken', u'Oud Gereformeerd', u'Isra\\xeblieten (Personen behoorende tot een buitenlandsch, niet in Nederland gevestigd kerkgenootschap)', u'Kerk van J.Chr. van de Heiligen der Laatste Dagen', u'Zevende dag Adventisten', u'Heiligen der Laatste Dagen', u'Leden der Vrije Gereformeerde Gemeente', u\"Comit\\xe9 Wallone d'action Evangel\\xedque liberale\", u'Vergadering \"De Volheid van Christus\"', u'Presbyterianen', u'Leden der Wurtembergsche Kerk', u'Oud Gereformeerde gemeente', u'\\xc9glise R\\xe9form\\xe9e de France', u'Jeruzalemsche kerk', u'Evangelisch-Luthers', u'Geref. Kerken (art. 31)', u'Oud-Roomschen', u'Zwitschersch Protestanten', u'Hersteld Luthers', u'Duitsch Evangelische Gemeente', u'Gemeente des Heeren', u'Leden der Nederduitsche Gereformeerde Kerken', u'Rooms-katholiek', u'Overige kerkelijke gezindte', u'Leden der Nieuwe Jeruzalemsche kerk', u'Roomsch-Katholijken', u'Geloofsgenezing', u'Wesleyaanen', u'Jongeliedenbond voor ernstig Christendom', u'Oud-Kath. Kerk', u'Congregational Church', u'Christianisme Primitif', u'Gemeente onder het kruis', u'Kwakers', u'Evangelische Gemeente (Vrije)', u'Sabbatisten', u'Paulinische Vereeniging', u'Waalsch Hervormd', u'\\xc9glise \\xc9vang\\xe9lique Missionnair Belge', u'Gereformeerde Gemeenten', u'Modern Gereformeerd', u'Adoculist', u'Vrijzinnig Christelijke Studenten Bond', u'Soefi-beweging', u'\\xc9glise Ind\\xe9pendante', u'Nieuw Apostolisch', u'Duitse Protestantse kerkgen.', u'Portugeesche Isra\\xebliten', u'Oud-Gereformeerd', u'Vrije gemeente', u'Leden der Schotsche gemeente', u'Anglikaansch Episcop. Kerk', u'Christianisme', u'Isra\\xeblietische Gem. (Afgescheiden)', u'Gemeente des Heren', u'Guldenketen', u'Portugesche Isra\\xebliten', u'Belgische Zendingskerk', u'Dissidenten', u'\\xc9glise Evang\\xe9lique de Bruxelles', u'Baptisten', u'Oud Bisschoppelijke Cleresie (Oud-Roomsch)', u'Hersteld Lutherschen', u'Vergadering van geloovigen op grondslag van Matth. 18:20a (Darbisten)', u'Doopsgezinden', u'Oud Protestanten', u'Hoogduitsche gemeente', u'Deensche Kerk', u'Evangelische Broedergemeenten', u'Theosophen', u'Engelsch Hervormd', u'Gereformeerden onder het kruis', u'Protestanten', u'Duitsch Evangelischen', u'Vrije Zending Gemeente', u'Nederduitsch Hervormd', u'Evangelische Broedergemeente', u'Kerk van Jesus Christus of de Heiligen der laatste dagen', u'Kerk v.Jezus Christus (Heil.d./l.dagen)', u'Gereformeerde Kerk in Hersteld Verband', u'Overige gereformeerden', u'Religieuse Jeugdgemeente', u'Gereformeerde onder het kruis', u'Old Fellows', u'Gereformeerde gemeente onder het Kruis', u'Remonstranten', u'Oud Gereformeerden', u'Dordtsch Gereformeerd', u'Spiritualisten', u'Roomsch Katholiek', u'Vrijmetselaar', u'Tot geen kerkelijke gezindte beh.', u'Duitsch Evangelisch', u'Chr.Geref.Kerk', u'Hernhutters ', u'Vrije Christelijke gemeente', u'Personen Behoorde tot eene andere kerkel. gezindte', u'Hersteld Luthersch', u'Christelijk Gereformeerden', u'Tempelbouwers', u'Geen kerkelijk gezindte (Humanisten)', u'Engelse Presbyterianen', u'Orde van Goede Tempelieren', u'Evangelisch Lutherschen', u'Gereformeerd (w.v. Oud Geref. Gemeenten)', u'Hersteld Evangelisch Luthersch', u'Nederduitsch Hervomd', u'Zweedsch Hervormd', u'Gemeente van Jezus Christus', u'Gemeente van gedoopte Christenen (ook genaamd Baptisten)', u'Kerkgenootschap of gezindte onbekend', u'Fellowship of Reconciliation', u'Oud Gereformeerd onder het kruis', u'Ledeboerianen', u'Roomsch-Katholiek', u'Ned.Hervormd', u'Hersteld Evang.Luthers', u'Zionisten', u'Rozekruisen Genootschap', u'Adventisten', u'Rooms-Kath.', u'\\xc9glise Libre Suisse', u'Nederlandsch Hervomd', u'Religieus Socialistisch Verbond', u'Remonstrant', u'Kath.Apost.Gemeenten', u'Hernhutters Evangelische of Moravische broedergemeente', u'Portugeesch Isra\\xebliet', u'Non Reformisten', u'Oud Geref. Gemeenten', u'Overige kerkel. gezindten', u'Kerk van Christus', u'Gereformeerden onder het Kruis', u'Geen kerkgen.', u'Vrije Christelijke Gem. (Bond van)', u'Leden der Schotsche Gemeente', u'Isra\\xebliet', u'English Protest. Independante', u\"Jehova's Getuigen\", u'Geref. Kerken', u'Mennonieten', u'Gereformeerd (totaal)', u'Bond van Religieuse An-Archo-Communisten', u'Duitsch Evangelische gemeente', u'Christelijke Gereformeerden', u'Vrije Hervormde Gemeente', u'Vreemde godsdiensten (buitenlands)', u'Vereeniging van Vrij Religieusen \"De Tempelhouders\"', u'Vrije Evang. Zending Gem.', u'Protestanten (Personen behoorende tot een buitenlandsch, niet in Nederland gevestigd kerkgenootschap)', u'Personen van wie de kerkel. gezindte onbekend was', u'Behoorende tot de Gereformeerde Kerken', u'Fransche Kerk', u'Herst. Apost. Zend.gem. i.d. Eenh.d.Apost.', u'Antoinisme', u'Nederlandsch Isra\\xebliet', u'Fransche of Waalsche Hervormden ', u'Vereeniging Jeruel', u'Behoorende tot de Gereformeerde kerken', u'Afgescheiden Isra\\xeblitische Gem.', u'Engelsch Presbyteriaansche gemeente', u'Beh. tot de Gereformeerde kerken', u'R\\xe9 Evangelisatie gemeente', u'Evangelisch Luthers', u'Gereformeerde kerken', u'Isra\\xebl. (Ned. en Port.)', u'Vereeniging \"De Nieuwe Gedachte\"', u'Joodsche Reform beweging', u'Nederlands Hervormd', u'Anglicaansch Episcopalen', u'Overige Protestantse Kerkgen.', u'Duitsche Staatskerk', u'Theosophische Vereeniging', u'Hersteld Evangelisch Luthers', u'Vereeniging van Geloovigen', u'Tot een ander of tot geen kerkgenootschap behoorende, of onbekend', u'Personen behoorende tot eene andere kerkelijke gezindte', u'Engelsch Hervormden', u'Dordtsch Gereformeerden', u'De Evangelische Broedergemeente (Hernhutters)', u'Gemeente Gods (Chr. Gemeenschap)', u'Indonesische Protestantse kerkgen.', u'Engelsche Presbyterianen', u'Vereenigd Doopsgezinden', u'Gereformeerde Kerken (vrijgemaakt)', u'Plymouth Brothers', u'Vrijzinnig Hervormde Gemeente', u'Geloofsvereeniging in de volheid van Christus', u'Anglikaansch-Episcopalen', u'Herstelde Lutherschen', u'Vrije Protestanten', u'Adventist', u'Christenen onder het kruis', u'Hersteld Apost. Zendingsgem.', u'Vrije Gereformeerden', u'Zweedsche Staatskerk', u'Woodbrookers', u'Geref. Kerken (art.31)', u'Algemeene Broederschap organisatie', u'Oud Lutherse gemeente', u'Algem. Kerk v.h. Nieuw Jeruzalem (Swedeborgianen)', u'Waalsch Hervormden', u'Oud-katholiek', u'Tot geen kerk. gez. beh.', u'Dissident', u'Hersteld Evangel. Luthers', u'Oud Protestant', u'Gereformeerd (w.v. Geref.Kerken (art.31))', u'Nederduitsche Hervormden', u'Waldenzen', u'Hersteld Evangelisch', u'Zevende-dags-Adventisten', u'Christen Gemeente', u'Noorsche Staatsreligion', u'Overige', u'Christelijke Vereeniging onder het kruis', u'Stadszending', u'Gem. van Gedoopte Christenen', u'Vrije Broeders', u'Anglikaansche Episcopalen', u'Oud Roomschen', u'Gereformeerde gemeente', u'Isra\\xeblitisch (Ned. en Port.)', u'Vrije Hervormden', u'Gemeente van gedoopte Christenen', u'Congregationalisten', u'Oud-Gereformeerden', u'Adventisten (De Nederl. Vereen. van Zevende-dags-adventisten)', u'Christian Reformed Church', u'Waals-hervormd', u'Moravische Broederschap', u'Hernhutters (Evangelische of Moravische Broedergemeente)', u'\\xc9glise Protest. Nationale', u'Swedenborg Genootschap', u'De Hersteld Apostolische Zendingsgem. en de Hersteld Apostolische Zendingsgem. in de Eenheid der Apostelen', u'Nederl. Isra\\xebliet', u'Vrijzinnig Hervormd', u'Oud Bisschoppelijke Cleresie', u'\\xc9glise Nationale Suisse', u'Nederlandsche Isra\\xebliten', u'Evangelische Broedergemeente (Hernhutters)', u'Christelijk Afgescheidenen', u'Tot eene andere kerk. gezindte beh.', u'Nederlandsche Isra\\xeblieten', u'Andere kerkelijke gezindte', u'Leden der Geloofsvereeniging v. de Goddelijke Genezing', u'\\xc9glise nationale de Gen\\xe8ve', u'Doopsgezinde Gemeenten', u'Nationale Kerk van Gen\\xe8ve', u'Christian Science', u'Kerkelijke gezindte onbekend', u'Vrij-evangelisch', u'Andere gezindten (Personen behoorende tot een buitenlandsch, niet in Nederland gevestigd kerkgenootschap)', u'Engelsche of Presbijteriaansche Hervormden', u'Verbreiding der Waarheid', u'Oud Roomsch', u'Spiritisten', u'Sabbathisten', u'Onbekenden, tot geen der genoemde kerkgenootschappen behoorende', u'Roomsch Catholijken', u'Christelijk Gereformeerden (Afgescheidenen)', u'Evangelisch Gereformeerd', u'Engelsch Isra\\xebliet', u'Nederlands-hervormd', u'Hersteld Apostolische Zendingsgemeente en Hersteld Apostolische Zendingsgemeente in de Eenheid der Apostelen', u'Geref. Gemeenten', u'Grieks Katholiek', u'Christelijk Afgescheiden', u'Christengemeenschap', u'Baptisten Gemeenten', u'Geref. Gemeenten o/h Kruis', u'Blavats bij Boeddhisme', u'Oud Hervormd', u'Chr. Geref Kerk', u'Herst.Apost.Zend.gem.in Ned.', u'Mormonen', u'Leden van den Protestantenbond', u'7e dag Adventisten', u'\\xc9glise National Suisse', u'Leer van Confusius', u'Engelsche Kerk', u'Remonstrantsche Broederschap', u'Katholiek Apostolisch', u'Hersteld Apostolische gemeente in de Eenheid der Apostelen', u'De Christen gemeenschap', u'Oud Gereformeerde Gemeente', u'Vrije Geref. Gemeente', u'Isra\\xebl.', u'Leden der Hersteld Apostolische Zending Gemeente', u'Duitsch Gereformeerd', u'Evangelischen', u'Waalsche Hervormden', u'Zwitsersch Gereformeerd', u'Personen waarvan de kerkel. gezindte onbekend was', u'Vrije Gereformeerde gemeente', u'Tot een ander of tot geen kerkgenootschap of gezindte behoorende, of onbekend', u'Christ. Geref. Kerk', u'Personen behoordende tot een andere kerkel. gezindte', u'Isra\\xeblitisch', u'Puriteinen', u'Niet genoemde gezindheden', u'Israelieten', u'Andere kerkel. gezindten', u'Algem. Kerk v.h.Nieuw Jeruzalem (Swedeborg Genootschap)', u'Nederduitsche Isra\\xebliten', u'Russisch Orthodoxen', u'Leden der Apostolische Zending Gemeente', u'Geen kerkelijke gezindte', u'Christelijk Gereformeerd', u'Nederd. Hervormde Zendingsgemeente', u'Nederduitsch Hervormden', u'Tot een andere kerk. gezindte beh.', u'Iersch Protestanten', u'Engelsch Gereformeerd', u'Hersteld Apostolisch', u'Brahmanen', u'Anthroposophische Vereeniging', u'Personen behoorende tot geen kerkelijke gezindte', u'Oud Gereformeerden onder het kruis', u'Overige kerkgenootschappen', u'Oud Geref. Gem', u'Hernhutters of Moravische Broeders', u'Volgelingen van Ds. Pauwe', u'\\xc9glise nationale Suisse', u'Vereeniging de Dageraad', u'Waals Hervormd', u'\\xc9glise R\\xe9form\\xe9e de Paris', u'Luthersch', u'\\xc9glise ind\\xe9pendante', u'Christen Socialisten', u'Hernhutters', u'De Nieuwe Kerk (Swedenborgiaans)', u'Pinkstergemeente', u'Christen Alliantie', u'Armenianen', u'Evangelische Gemeenten', u'Vrij Christelijk Geloof', u'Vrij-katholiek', u'Vergadering van Gelovigen', u'Christelijk Evangelische gemeente', u'Duitsch Evangelisch Luthersch', u'Mahomedanen', u'Engelsch Katholieken', u'Vrije Jeugdkerk', u'Evangelische Gemeente', u'\\xc9glise de Bruxelles', u'Leger des Heils', u'Afgescheiden Israelieten', u'Soefi beweging', u'\\xc9glise Vendoisee', u'Ned. Protestantenbond', u'Church of England', u'Overige kerkgen.', u'Heilsleger', u'Leden der Gereformeerde Gemeente', u'Christen zonder kerkgenootschap', u'Evangelisch Luthersch', u'Ned. Hervormd', u'Geen kerkgenootschap', u'Geen kerkgenootschap of gezindte ', u'Gereformeerde Zendingskerk', u'Hersteld Apostolischen', u'Bond van Vrije Christelijke gem. In Nederland', u'Gemeente van Gods Zoon', u'Hersteld Apost. Gem. in de Eenheid der Apostelen', u'Nederd. herv. Zendingsgem.', u'Calvinisten', u'Oud-katholieke kerk', u'Evangelische Landeskirche der Schweiz', u'Anglikaansch Episcopale Kerk', u'Oud Katholieke Kerk', u'Vrije Zendingsgemeente', u'Leden der Vrije Zending Gemeente', u'Broedergemeente', u'Evangelische Alliantie', u'Gereformeerd (w.v. Chr.Geref.Kerk)', u'Gereformeerde Gemeente']\n"
       ]
      }
     ],
     "prompt_number": 72
    },
    {
     "cell_type": "code",
     "collapsed": false,
     "input": [
      "from time import sleep\n",
      "\n",
      "sparql = SPARQLWrapper('http://dbpedia.org/sparql')\n",
      "for word in wordList:\n",
      "    print \"Processing %s...\" % word\n",
      "    query = u\"\"\"\n",
      "    PREFIX rdfs: <http://www.w3.org/2000/01/rdf-schema#> \n",
      "    PREFIX dcterms: <http://purl.org/dc/terms/>\n",
      "\n",
      "    SELECT DISTINCT ?concept ?subject\n",
      "    WHERE {\n",
      "    ?concept dcterms:subject ?subject .\n",
      "    ?concept rdfs:label ?label . \n",
      "    ?label bif:contains \\\"\\'%s\\'\\\"@nl \n",
      "    OPTION (score ?sc) .\n",
      "    } ORDER BY DESC(?sc)\"\"\" % re.sub(\"\\\"|\\.|\\'\", \" \", \" or \".join(word.split(' ')))\n",
      "    # print query\n",
      "    sparql.setQuery(query)\n",
      "    sparql.setReturnFormat(JSON)\n",
      "    results = sparql.query().convert()\n",
      "\n",
      "    for result in results[\"results\"][\"bindings\"]:\n",
      "        print(result[\"concept\"][\"value\"])\n",
      "    \n",
      "    sleep(1)\n"
     ],
     "language": "python",
     "metadata": {},
     "outputs": [
      {
       "output_type": "stream",
       "stream": "stdout",
       "text": [
        "Processing Herst. Apost. Gem. in de Eenheid der Apostelen...\n",
        "Processing Vrije Gereformeerden onder het kruis..."
       ]
      },
      {
       "output_type": "stream",
       "stream": "stdout",
       "text": [
        "\n",
        "Processing Apostolischen..."
       ]
      },
      {
       "output_type": "stream",
       "stream": "stdout",
       "text": [
        "\n",
        "http://dbpedia.org/resource/Society_of_apostolic_life\n",
        "http://dbpedia.org/resource/Society_of_apostolic_life\n",
        "http://dbpedia.org/resource/Labour_Office_of_the_Apostolic_See\n",
        "http://dbpedia.org/resource/Labour_Office_of_the_Apostolic_See\n",
        "http://dbpedia.org/resource/Administration_of_the_Patrimony_of_the_Apostolic_See\n",
        "http://dbpedia.org/resource/Administration_of_the_Patrimony_of_the_Apostolic_See\n",
        "http://dbpedia.org/resource/Armenian_Patriarchate_of_Constantinople\n",
        "http://dbpedia.org/resource/Armenian_Patriarchate_of_Constantinople\n",
        "http://dbpedia.org/resource/Armenian_Patriarchate_of_Constantinople\n",
        "http://dbpedia.org/resource/Armenian_Patriarchate_of_Jerusalem\n",
        "http://dbpedia.org/resource/Armenian_Patriarchate_of_Jerusalem\n",
        "http://dbpedia.org/resource/Armenian_Patriarchate_of_Jerusalem\n",
        "http://dbpedia.org/resource/Armenian_Patriarchate_of_Jerusalem\n",
        "http://dbpedia.org/resource/List_of_Catholicoi_of_Armenia\n",
        "http://dbpedia.org/resource/List_of_Catholicoi_of_Armenia\n",
        "http://dbpedia.org/resource/List_of_Catholicoi_of_Armenia\n",
        "http://dbpedia.org/resource/List_of_Catholicoi_of_Armenia\n",
        "http://dbpedia.org/resource/List_of_Catholicoi_of_Armenia\n",
        "http://dbpedia.org/resource/List_of_Armenian_Catholicoi_of_Cilicia\n",
        "http://dbpedia.org/resource/List_of_Armenian_Catholicoi_of_Cilicia\n",
        "http://dbpedia.org/resource/List_of_Armenian_Catholicoi_of_Cilicia\n",
        "http://dbpedia.org/resource/List_of_Armenian_Catholicoi_of_Cilicia\n",
        "http://dbpedia.org/resource/List_of_Armenian_Patriarchs_of_Jerusalem\n",
        "http://dbpedia.org/resource/List_of_Armenian_Patriarchs_of_Jerusalem\n",
        "http://dbpedia.org/resource/List_of_Armenian_Patriarchs_of_Jerusalem\n",
        "http://dbpedia.org/resource/List_of_Armenian_Patriarchs_of_Jerusalem\n",
        "http://dbpedia.org/resource/List_of_Armenian_Patriarchs_of_Jerusalem\n",
        "http://dbpedia.org/resource/List_of_Armenian_Patriarchs_of_Jerusalem\n",
        "http://dbpedia.org/resource/List_of_Armenian_Patriarchs_of_Jerusalem\n",
        "http://dbpedia.org/resource/List_of_Armenian_Patriarchs_of_Constantinople\n",
        "http://dbpedia.org/resource/List_of_Armenian_Patriarchs_of_Constantinople\n",
        "http://dbpedia.org/resource/List_of_Armenian_Patriarchs_of_Constantinople\n",
        "http://dbpedia.org/resource/List_of_Armenian_Patriarchs_of_Constantinople\n",
        "http://dbpedia.org/resource/List_of_Armenian_Patriarchs_of_Constantinople\n",
        "http://dbpedia.org/resource/Congregation_for_Institutes_of_Consecrated_Life_and_Societies_of_Apostolic_Life\n",
        "http://dbpedia.org/resource/Congregation_for_Institutes_of_Consecrated_Life_and_Societies_of_Apostolic_Life\n",
        "http://dbpedia.org/resource/Congregation_for_Institutes_of_Consecrated_Life_and_Societies_of_Apostolic_Life\n",
        "http://dbpedia.org/resource/Congregation_for_Institutes_of_Consecrated_Life_and_Societies_of_Apostolic_Life\n",
        "http://dbpedia.org/resource/Congregation_for_Institutes_of_Consecrated_Life_and_Societies_of_Apostolic_Life\n",
        "http://dbpedia.org/resource/Congregation_for_Institutes_of_Consecrated_Life_and_Societies_of_Apostolic_Life\n",
        "Processing Herst.Apost.Zend.gem.i.d.eenh.d.Apost...."
       ]
      },
      {
       "output_type": "stream",
       "stream": "stdout",
       "text": [
        "\n",
        "Processing Ned. en Portug. Isra\u00ebliet..."
       ]
      },
      {
       "output_type": "stream",
       "stream": "stdout",
       "text": [
        "\n",
        "Processing Religion Prot\u00e8stante..."
       ]
      },
      {
       "output_type": "stream",
       "stream": "stdout",
       "text": [
        "\n",
        "Processing Hersteld Apost. Zendingskerk..."
       ]
      },
      {
       "output_type": "stream",
       "stream": "stdout",
       "text": [
        "\n",
        "Processing Schotsche gemeente..."
       ]
      },
      {
       "output_type": "stream",
       "stream": "stdout",
       "text": [
        "\n",
        "Processing Russisch Orthodox..."
       ]
      },
      {
       "output_type": "stream",
       "stream": "stdout",
       "text": [
        "\n",
        "Processing Christelijk Afgescheiden Gem...."
       ]
      },
      {
       "output_type": "stream",
       "stream": "stdout",
       "text": [
        "\n",
        "Processing Valdese de Piemonte..."
       ]
      },
      {
       "output_type": "stream",
       "stream": "stdout",
       "text": [
        "\n",
        "Processing Vereeniging om Christus geheel te volgen..."
       ]
      },
      {
       "output_type": "stream",
       "stream": "stdout",
       "text": [
        "\n",
        "Processing Roomsch-Catholijken..."
       ]
      },
      {
       "output_type": "stream",
       "stream": "stdout",
       "text": [
        "\n",
        "Processing Iersche kerk..."
       ]
      },
      {
       "output_type": "stream",
       "stream": "stdout",
       "text": [
        "\n",
        "Processing Vrijzinnig Apostolisch..."
       ]
      }
     ]
    },
    {
     "cell_type": "code",
     "collapsed": false,
     "input": [],
     "language": "python",
     "metadata": {},
     "outputs": []
    }
   ],
   "metadata": {}
  }
 ]
}