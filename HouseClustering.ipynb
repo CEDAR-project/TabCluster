{
 "metadata": {
  "name": "",
  "signature": "sha256:29ec36db071b283982a36e2a7b7dd5465a57377a7a28041a1bd2681b3107ad32"
 },
 "nbformat": 3,
 "nbformat_minor": 0,
 "worksheets": [
  {
   "cells": [
    {
     "cell_type": "markdown",
     "metadata": {},
     "source": [
      "## Experiments for TabClustering\n",
      "\n",
      "Few experiments for TabCluster:\n",
      "- Hierarchical clustering using SciPy\n",
      "- SPARQLing DBpedia to get categories of strings\n",
      "- Building bags of words for relevant clusters\n",
      "- Selecting category names for each bag, based on the popular term of the bag\n",
      "- Selecting category names for each bag, based on common broader classes of all terms of the bag"
     ]
    },
    {
     "cell_type": "code",
     "collapsed": false,
     "input": [
      "#!/usr/bin/env python\n",
      "\n",
      "import codecs\n",
      "import argparse\n",
      "import logging\n",
      "import re\n",
      "import numpy as np\n",
      "import scipy.cluster.hierarchy\n",
      "from Levenshtein import ratio\n",
      "from rdflib import Graph, Namespace, Literal, URIRef\n",
      "from rdflib.namespace import Namespace, RDF, SKOS\n",
      "from SPARQLWrapper import SPARQLWrapper, JSON\n",
      "\n",
      "def distance(coord):\n",
      "    i, j = coord\n",
      "    return 1 - ratio(wordList[i], wordList[j])\n",
      "\n",
      "log = logging.getLogger('TabCluster')\n",
      "log.setLevel(logging.DEBUG)\n",
      "\n",
      "fo = codecs.open('input', encoding='utf-8')\n",
      "wordList = list(set(fo.read().splitlines()))\n",
      "log.debug('Word list contains %s items' % len(wordList))\n",
      "\n",
      "simMatrix = []\n",
      "# for i in range(len(wordList)):\n",
      "#     simMatrix.append([])\n",
      "#     for j in range(len(wordList)):\n",
      "#         simMatrix[i].append(distance((i,j)))\n",
      "\n",
      "print wordList      \n",
      "upperIndices = np.triu_indices(len(wordList), 1)\n",
      "upperTriangle = np.apply_along_axis(distance, 0, upperIndices)\n",
      "cluster = scipy.cluster.hierarchy.linkage(upperTriangle, method='average')\n",
      "# log.debug(cluster)\n",
      "\n",
      "\n",
      "tree = {}\n",
      "clusterDistance = {}\n",
      "clusterIndex = len(wordList)\n",
      "for i in cluster:\n",
      "    indexA = int(i[0])\n",
      "    indexB = int(i[1])\n",
      "    elemA = wordList[indexA] if indexA < len(wordList) else indexA\n",
      "    elemB = wordList[indexB] if indexB < len(wordList) else indexB\n",
      "    tree[clusterIndex] = []\n",
      "    tree[clusterIndex].append(elemA)\n",
      "    tree[clusterIndex].append(elemB)\n",
      "    clusterDistance[clusterIndex] = i[2]\n",
      "    clusterIndex += 1\n",
      "    \n",
      "dendogram = scipy.cluster.hierarchy.dendrogram(Z=cluster, labels=wordList, leaf_font_size=4)\n",
      "# pylab.savefig('dendogram-complete.png')\n"
     ],
     "language": "python",
     "metadata": {},
     "outputs": [
      {
       "output_type": "stream",
       "stream": "stderr",
       "text": [
        "DEBUG:TabCluster:Word list contains 81 items\n"
       ]
      },
      {
       "output_type": "stream",
       "stream": "stdout",
       "text": [
        "[u'Zwiersenhuizen', u'Heiligen Geesten Gasthuis', u'Armhuis der N.H. gemeente', u'Roomsch Catholijk Weeshuis', u'Gesticht Ommerschans', u'Gesticht \"Averingsvergadering\"', u'Hotel \"de Keizer\"', u'Buitengasthuis', u'Groot Burger Weeshuis der Ned. Herv. gemeente', u'Logement: \"huis Becking\"', u'Groote en Voorster-Gasthuis', u'Burger Weeshuis', u'St. Jurriens Gasthuis', u'Weeshuis der Chr. Ger. Gemeente', u'Heerinkshuis', u'Gesticht \"Uiterwijksvergadering\"', u'Bestedelingshuis der Ned. Herv. Diaconie', u'St. Anthony Gasthuis', u'Weeshuis der N. H. gemeente', u'Hervormd Armen Weeshuis', u'Binnengasthuis', u'Oude mannen- en vrouwenhuis', u'Armhuis der Ned. Herv. Gemeente', u'Haersoltenhuis', u'H\\xf4tel \"Heerenlogement\"', u'Hotel \"de Gouden Leeuw\"', u'Krankzinnigen-Gesticht', u'Larinksgesticht', u'Ommerschans (Rijksgesticht)', u'Overige huizen', u'Rijksgesticht Ommerschans', u'Huis van Arrest', u'Ziekenhuis der N. H. gemeente', u'Hotel \"de Klomp\"', u'H\\xf4tel \"Pays-Bas\"', u'Broerenkazerne', u'Klooster van de orde der Franciscanessen', u'Ziekenhuis', u'Keizers- of Jordensplaats', u'Logement: \"huis Hamers\"', u'Vrouwenhuis', u'Klooster van de orde der Benedictijnen', u'Hotel \"de Graaf\"', u'Cellulaire Gevangenis', u'Kostschool', u'R. C. Weeshuis', u'Garnizoens-bakkerij', u'Klooster: \"Onze Lieve Vrouwe\"', u'Vilsterenshuis', u'Kostschool van H. Stael', u'Kostschool van Mej. Spruijt', u'Garnizoens-Infirmerie', u'Karmelieten klooster', u'H\\xf4tel \"de Keizerskroon\"', u'Gesticht \"de Goede Herder\"', u'Logement: \"huis de Molen\"', u'St. Jozephs-Gesticht', u'Boven Proveniershuis', u'Ned. Herv. Weeshuis', u'Kazerne: \"de Ruiterstallen\"', u'Logement: \"huis de Keizerskroon\"', u'Kostschool van Weber', u'H\\xf4tel \"de Zeven Provinci\\xebn\"', u'Weeshuis', u'Klooster der Franciscanen', u'Oude Vrouwenhuis', u'Logement: \"huis \\'t Anker\"', u'Gesticht van Liefde', u'St. Geertruiden Gasthuis', u'Werkhuis', u'Weerds-Gesticht', u'Oude Mannen- en Vrouwenhuis van het Gem. Armbest. der N.H. gemeente', u'Kazerne', u'Scherfshuis', u'Huis van bewaring', u'Klooster', u'St. Nicolaas-Gesticht', u'Logement: \"huis de Vriendschap\"', u'Emanuelshuis', u'Armhuis', u'H\\xf4tel \"de Korenbeurs\"']\n"
       ]
      }
     ],
     "prompt_number": 2
    },
    {
     "cell_type": "code",
     "collapsed": false,
     "input": [
      "from time import sleep\n",
      "\n",
      "sparql = SPARQLWrapper('http://dbpedia.org/sparql')\n",
      "for word in wordList:\n",
      "    print \"Processing %s...\" % word\n",
      "    query = u\"\"\"\n",
      "    PREFIX rdfs: <http://www.w3.org/2000/01/rdf-schema#> \n",
      "    PREFIX dcterms: <http://purl.org/dc/terms/>\n",
      "    SELECT DISTINCT ?concept ?subject\n",
      "    WHERE {\n",
      "    ?concept dcterms:subject ?subject .\n",
      "    ?concept rdfs:label ?label . \n",
      "    ?label bif:contains \\\"\\'%s\\'\\\"@nl \n",
      "    OPTION (score ?sc) .\n",
      "    } ORDER BY DESC(?sc)\n",
      "    LIMIT 10\"\"\" % re.sub(\"\\\"|\\.|\\'\", \" \", \" and \".join(word.split(' ')))\n",
      "    # print query\n",
      "    sparql.setQuery(query)\n",
      "    sparql.setReturnFormat(JSON)\n",
      "    results = sparql.query().convert()\n",
      "    sleep(1)\n",
      "    for result in results[\"results\"][\"bindings\"]:\n",
      "        print(result[\"subject\"][\"value\"])\n",
      "        \n",
      "    if len(results) == 2:\n",
      "        # Last word lookup\n",
      "        last = word.split(' ')[-1]   \n",
      "        print \"Last word lookup, %s...\" % last\n",
      "        query = u\"\"\"\n",
      "        PREFIX rdfs: <http://www.w3.org/2000/01/rdf-schema#> \n",
      "        PREFIX dcterms: <http://purl.org/dc/terms/>\n",
      "        SELECT DISTINCT ?concept ?subject\n",
      "        WHERE {\n",
      "        ?concept dcterms:subject ?subject .\n",
      "        ?concept rdfs:label ?label . \n",
      "        ?label bif:contains \\\"\\'%s\\'\\\"@nl \n",
      "        OPTION (score ?sc) .\n",
      "        } ORDER BY DESC(?sc)\n",
      "        LIMIT 10\"\"\" % re.sub(\"\\\"|\\.|\\'\", \" \", last)\n",
      "        # print query\n",
      "        sparql.setQuery(query)\n",
      "        sparql.setReturnFormat(JSON)\n",
      "        results = sparql.query().convert()\n",
      "        sleep(1)\n",
      "        for result in results[\"results\"][\"bindings\"]:\n",
      "            print(result[\"subject\"][\"value\"]) \n",
      "        \n",
      "        if len(results) == 2:\n",
      "            # First word lookup \n",
      "            first = word.split(' ')[0]   \n",
      "            print \"First word lookup, %s...\" % first\n",
      "            query = u\"\"\"\n",
      "            PREFIX rdfs: <http://www.w3.org/2000/01/rdf-schema#> \n",
      "            PREFIX dcterms: <http://purl.org/dc/terms/>\n",
      "            SELECT DISTINCT ?concept ?subject\n",
      "            WHERE {\n",
      "            ?concept dcterms:subject ?subject .\n",
      "            ?concept rdfs:label ?label . \n",
      "            ?label bif:contains \\\"\\'%s\\'\\\"@nl \n",
      "            OPTION (score ?sc) .\n",
      "            } ORDER BY DESC(?sc)\n",
      "            LIMIT 10\"\"\" % re.sub(\"\\\"|\\.|\\'\", \" \", first)\n",
      "            # print query\n",
      "            sparql.setQuery(query)\n",
      "            sparql.setReturnFormat(JSON)\n",
      "            results = sparql.query().convert()\n",
      "            sleep(1)\n",
      "            for result in results[\"results\"][\"bindings\"]:\n",
      "                print(result[\"subject\"][\"value\"])\n",
      "\n",
      "    \n",
      "\n"
     ],
     "language": "python",
     "metadata": {},
     "outputs": [
      {
       "output_type": "stream",
       "stream": "stdout",
       "text": [
        "Processing Zwiersenhuizen...\n",
        "Last word lookup, Zwiersenhuizen..."
       ]
      },
      {
       "output_type": "stream",
       "stream": "stdout",
       "text": [
        "\n",
        "First word lookup, Zwiersenhuizen..."
       ]
      },
      {
       "output_type": "stream",
       "stream": "stdout",
       "text": [
        "\n",
        "Processing Heiligen Geesten Gasthuis..."
       ]
      },
      {
       "output_type": "stream",
       "stream": "stdout",
       "text": [
        "\n",
        "Last word lookup, Gasthuis..."
       ]
      },
      {
       "output_type": "stream",
       "stream": "stdout",
       "text": [
        "\n",
        "http://dbpedia.org/resource/Category:Buildings_and_structures_in_Utrecht_(city)"
       ]
      },
      {
       "output_type": "stream",
       "stream": "stdout",
       "text": [
        "\n",
        "http://dbpedia.org/resource/Category:Guildhalls_in_the_Netherlands\n",
        "http://dbpedia.org/resource/Category:History_of_Utrecht_(city)\n",
        "http://dbpedia.org/resource/Category:Buildings_and_structures_in_Haarlem\n",
        "http://dbpedia.org/resource/Category:Rijksmonuments_in_Haarlem\n",
        "http://dbpedia.org/resource/Category:History_of_Haarlem\n",
        "http://dbpedia.org/resource/Category:1581_establishments\n",
        "http://dbpedia.org/resource/Category:Infrastructure_completed_in_1871\n",
        "First word lookup, Heiligen...\n",
        "http://dbpedia.org/resource/Category:Orders,_decorations,_and_medals_of_Greece"
       ]
      },
      {
       "output_type": "stream",
       "stream": "stdout",
       "text": [
        "\n",
        "http://dbpedia.org/resource/Category:Order_of_Saints_George_and_Constantine\n",
        "http://dbpedia.org/resource/Category:1936_establishments_in_Greece\n",
        "http://dbpedia.org/resource/Category:Awards_established_in_1936\n",
        "http://dbpedia.org/resource/Category:Orders_of_knighthood_awarded_to_heads_of_state,_consorts_and_sovereign_family_members\n",
        "http://dbpedia.org/resource/Category:Orders,_decorations,_and_medals_of_Greece\n",
        "http://dbpedia.org/resource/Category:Awards_and_prizes_honoring_women\n",
        "http://dbpedia.org/resource/Category:1936_establishments_in_Greece\n",
        "http://dbpedia.org/resource/Category:Orders_of_knighthood_for_women\n",
        "http://dbpedia.org/resource/Category:Awards_established_in_1936\n",
        "Processing Armhuis der N.H. gemeente...\n",
        "Last word lookup, gemeente..."
       ]
      },
      {
       "output_type": "stream",
       "stream": "stdout",
       "text": [
        "\n",
        "http://dbpedia.org/resource/Category:Bus_companies_of_the_Netherlands"
       ]
      },
      {
       "output_type": "stream",
       "stream": "stdout",
       "text": [
        "\n",
        "http://dbpedia.org/resource/Category:Municipalities\n",
        "http://dbpedia.org/resource/Category:Administrative_divisions\n",
        "http://dbpedia.org/resource/Category:Local_government_in_France\n",
        "http://dbpedia.org/resource/Category:Country_subdivisions_of_Europe\n",
        "http://dbpedia.org/resource/Category:Populated_places_in_France\n",
        "http://dbpedia.org/resource/Category:Fourth-level_administrative_country_subdivisions\n",
        "http://dbpedia.org/resource/Category:Subdivisions_of_France\n",
        "http://dbpedia.org/resource/Category:Townships\n",
        "http://dbpedia.org/resource/Category:Administrative_divisions_of_the_People's_Republic_of_China\n",
        "First word lookup, Armhuis...\n",
        "Processing Roomsch Catholijk Weeshuis..."
       ]
      },
      {
       "output_type": "stream",
       "stream": "stdout",
       "text": [
        "\n",
        "Last word lookup, Weeshuis..."
       ]
      },
      {
       "output_type": "stream",
       "stream": "stdout",
       "text": [
        "\n",
        "http://dbpedia.org/resource/Category:Child_welfare"
       ]
      },
      {
       "output_type": "stream",
       "stream": "stdout",
       "text": [
        "\n",
        "http://dbpedia.org/resource/Category:Orphanages\n",
        "http://dbpedia.org/resource/Category:Total_institutions\n",
        "http://dbpedia.org/resource/Category:Buildings_and_structures_in_Haarlem\n",
        "http://dbpedia.org/resource/Category:Residential_buildings_completed_in_1874\n",
        "http://dbpedia.org/resource/Category:Rijksmonuments_in_Haarlem\n",
        "http://dbpedia.org/resource/Category:History_of_Haarlem\n",
        "http://dbpedia.org/resource/Category:Orphanages_in_Sri_Lanka\n",
        "First word lookup, Roomsch...\n",
        "http://dbpedia.org/resource/Category:Defunct_Christian_political_parties"
       ]
      },
      {
       "output_type": "stream",
       "stream": "stdout",
       "text": [
        "\n",
        "http://dbpedia.org/resource/Category:Defunct_political_parties_in_the_Netherlands\n",
        "http://dbpedia.org/resource/Category:Political_parties_established_in_1926\n",
        "http://dbpedia.org/resource/Category:Political_parties_disestablished_in_1945\n",
        "http://dbpedia.org/resource/Category:Catholic_political_parties\n",
        "http://dbpedia.org/resource/Category:Confessional_parties_in_the_Netherlands\n",
        "Processing Gesticht Ommerschans...\n",
        "Last word lookup, Ommerschans..."
       ]
      },
      {
       "output_type": "stream",
       "stream": "stdout",
       "text": [
        "\n",
        "http://dbpedia.org/resource/Category:Populated_places_in_Overijssel"
       ]
      },
      {
       "output_type": "stream",
       "stream": "stdout",
       "text": [
        "\n",
        "First word lookup, Gesticht...\n",
        "Processing Gesticht \"Averingsvergadering\"..."
       ]
      },
      {
       "output_type": "stream",
       "stream": "stdout",
       "text": [
        "\n",
        "Last word lookup, \"Averingsvergadering\"..."
       ]
      },
      {
       "output_type": "stream",
       "stream": "stdout",
       "text": [
        "\n",
        "First word lookup, Gesticht..."
       ]
      },
      {
       "output_type": "stream",
       "stream": "stdout",
       "text": [
        "\n",
        "Processing Hotel \"de Keizer\"..."
       ]
      },
      {
       "output_type": "stream",
       "stream": "stdout",
       "text": [
        "\n",
        "Last word lookup, Keizer\"..."
       ]
      },
      {
       "output_type": "stream",
       "stream": "stdout",
       "text": [
        "\n",
        "http://dbpedia.org/resource/Category:Keizer,_Oregon"
       ]
      },
      {
       "output_type": "stream",
       "stream": "stdout",
       "text": [
        "\n",
        "http://dbpedia.org/resource/Category:Salem,_Oregon_metropolitan_area\n",
        "http://dbpedia.org/resource/Category:Former_census-designated_places_in_Oregon\n",
        "http://dbpedia.org/resource/Category:Cities_in_Oregon\n",
        "http://dbpedia.org/resource/Category:Populated_places_in_Marion_County,_Oregon\n",
        "http://dbpedia.org/resource/Category:14th-century_German_people\n",
        "http://dbpedia.org/resource/Category:Counts_of_Luxembourg\n",
        "http://dbpedia.org/resource/Category:Roman_Catholic_monarchs\n",
        "http://dbpedia.org/resource/Category:14th-century_French_people\n",
        "http://dbpedia.org/resource/Category:14th-century_Luxembourgian_people\n",
        "First word lookup, Hotel...\n",
        "http://dbpedia.org/resource/Category:Hotels_established_in_1927"
       ]
      },
      {
       "output_type": "stream",
       "stream": "stdout",
       "text": [
        "\n",
        "http://dbpedia.org/resource/Category:Hotel_buildings_on_the_National_Register_of_Historic_Places_in_Louisiana\n",
        "http://dbpedia.org/resource/Category:National_Register_of_Historic_Places_in_Sarasota_County,_Florida\n",
        "http://dbpedia.org/resource/Category:Sarasota,_Florida\n",
        "http://dbpedia.org/resource/Category:Hotel_buildings_completed_in_1925\n",
        "http://dbpedia.org/resource/Category:Kempinski_Hotels\n",
        "http://dbpedia.org/resource/Category:Hotels_established_in_1907\n",
        "http://dbpedia.org/resource/Category:Hotels_in_Berlin\n",
        "http://dbpedia.org/resource/Category:Hotel_buildings_completed_in_1907\n",
        "http://dbpedia.org/resource/Category:Hotel_buildings_completed_in_1997\n",
        "Processing Buitengasthuis...\n",
        "Last word lookup, Buitengasthuis..."
       ]
      },
      {
       "output_type": "stream",
       "stream": "stdout",
       "text": [
        "\n",
        "First word lookup, Buitengasthuis..."
       ]
      },
      {
       "output_type": "stream",
       "stream": "stdout",
       "text": [
        "\n",
        "Processing Groot Burger Weeshuis der Ned. Herv. gemeente..."
       ]
      },
      {
       "output_type": "stream",
       "stream": "stdout",
       "text": [
        "\n",
        "Last word lookup, gemeente..."
       ]
      },
      {
       "output_type": "stream",
       "stream": "stdout",
       "text": [
        "\n",
        "http://dbpedia.org/resource/Category:Bus_companies_of_the_Netherlands"
       ]
      },
      {
       "output_type": "stream",
       "stream": "stdout",
       "text": [
        "\n",
        "http://dbpedia.org/resource/Category:Municipalities\n",
        "http://dbpedia.org/resource/Category:Administrative_divisions\n",
        "http://dbpedia.org/resource/Category:Local_government_in_France\n",
        "http://dbpedia.org/resource/Category:Country_subdivisions_of_Europe\n",
        "http://dbpedia.org/resource/Category:Populated_places_in_France\n",
        "http://dbpedia.org/resource/Category:Fourth-level_administrative_country_subdivisions\n",
        "http://dbpedia.org/resource/Category:Subdivisions_of_France\n",
        "http://dbpedia.org/resource/Category:Townships\n",
        "http://dbpedia.org/resource/Category:Administrative_divisions_of_the_People's_Republic_of_China\n",
        "First word lookup, Groot...\n",
        "http://dbpedia.org/resource/Category:Hydronyms"
       ]
      },
      {
       "output_type": "stream",
       "stream": "stdout",
       "text": [
        "\n",
        "http://dbpedia.org/resource/Category:Dutch_toponyms\n",
        "http://dbpedia.org/resource/Category:Dutch-language_surnames\n",
        "http://dbpedia.org/resource/Category:Neighbourhoods_of_Rotterdam\n",
        "http://dbpedia.org/resource/Category:Populated_places_in_Overijssel\n",
        "http://dbpedia.org/resource/Category:Populated_places_in_Nickerie_District\n",
        "http://dbpedia.org/resource/Category:Resorts_of_Suriname\n",
        "http://dbpedia.org/resource/Category:Gardens_in_Belgium\n",
        "http://dbpedia.org/resource/Category:Dilbeek\n",
        "http://dbpedia.org/resource/Category:Castles_in_Belgium\n",
        "Processing Logement: \"huis Becking\"...\n",
        "Last word lookup, Becking\"..."
       ]
      },
      {
       "output_type": "stream",
       "stream": "stdout",
       "text": [
        "\n",
        "http://dbpedia.org/resource/Category:German_expatriates_in_Czechoslovakia"
       ]
      },
      {
       "output_type": "stream",
       "stream": "stdout",
       "text": [
        "\n",
        "http://dbpedia.org/resource/Category:German_expatriates_in_the_Czech_Republic\n",
        "http://dbpedia.org/resource/Category:German_musicologists\n",
        "http://dbpedia.org/resource/Category:1894_births\n",
        "http://dbpedia.org/resource/Category:1945_deaths\n",
        "http://dbpedia.org/resource/Category:German_expatriates_in_the_Czech_lands\n",
        "http://dbpedia.org/resource/Category:People_from_Bremen\n",
        "http://dbpedia.org/resource/Category:Academics_of_Charles_University_in_Prague\n",
        "http://dbpedia.org/resource/Category:Dutch_botanists\n",
        "http://dbpedia.org/resource/Category:People_from_Deventer\n",
        "First word lookup, Logement:...\n",
        "http://dbpedia.org/resource/Category:Philosophical_concepts"
       ]
      },
      {
       "output_type": "stream",
       "stream": "stdout",
       "text": [
        "\n",
        "http://dbpedia.org/resource/Category:Welfare_in_France\n",
        "http://dbpedia.org/resource/Category:Public_housing_by_country\n",
        "http://dbpedia.org/resource/Category:Affordable_housing\n",
        "http://dbpedia.org/resource/Category:Community_organizing\n",
        "http://dbpedia.org/resource/Category:Real_estate\n",
        "http://dbpedia.org/resource/Category:International_charities\n",
        "http://dbpedia.org/resource/Category:Social_programs\n",
        "http://dbpedia.org/resource/Category:Human_rights_by_issue\n",
        "http://dbpedia.org/resource/Category:Housing\n",
        "Processing Groote en Voorster-Gasthuis...\n",
        "Last word lookup, Voorster-Gasthuis..."
       ]
      },
      {
       "output_type": "stream",
       "stream": "stdout",
       "text": [
        "\n",
        "First word lookup, Groote..."
       ]
      },
      {
       "output_type": "stream",
       "stream": "stdout",
       "text": [
        "\n",
        "http://dbpedia.org/resource/Category:Ghanzi_District"
       ]
      },
      {
       "output_type": "stream",
       "stream": "stdout",
       "text": [
        "\n",
        "http://dbpedia.org/resource/Category:Villages_in_Botswana\n",
        "http://dbpedia.org/resource/Category:Rivers_of_Mecklenburg-Vorpommern\n",
        "http://dbpedia.org/resource/Category:Ships_built_in_Richmond,_California\n",
        "http://dbpedia.org/resource/Category:1944_ships\n",
        "http://dbpedia.org/resource/Category:Dutch_diaspora\n",
        "http://dbpedia.org/resource/Category:Freighters\n",
        "http://dbpedia.org/resource/Category:Liberty_ships\n",
        "http://dbpedia.org/resource/Category:History_of_New_Guinea\n",
        "http://dbpedia.org/resource/Category:Timor\n",
        "Processing Burger Weeshuis...\n",
        "Last word lookup, Weeshuis..."
       ]
      },
      {
       "output_type": "stream",
       "stream": "stdout",
       "text": [
        "\n",
        "http://dbpedia.org/resource/Category:Child_welfare"
       ]
      },
      {
       "output_type": "stream",
       "stream": "stdout",
       "text": [
        "\n",
        "http://dbpedia.org/resource/Category:Orphanages\n",
        "http://dbpedia.org/resource/Category:Total_institutions\n",
        "http://dbpedia.org/resource/Category:Buildings_and_structures_in_Haarlem\n",
        "http://dbpedia.org/resource/Category:Residential_buildings_completed_in_1874\n",
        "http://dbpedia.org/resource/Category:Rijksmonuments_in_Haarlem\n",
        "http://dbpedia.org/resource/Category:History_of_Haarlem\n",
        "http://dbpedia.org/resource/Category:Orphanages_in_Sri_Lanka\n",
        "First word lookup, Burger...\n",
        "http://dbpedia.org/resource/Category:1997_video_games"
       ]
      },
      {
       "output_type": "stream",
       "stream": "stdout",
       "text": [
        "\n",
        "http://dbpedia.org/resource/Category:2000_video_games\n",
        "http://dbpedia.org/resource/Category:Japan-exclusive_video_games\n",
        "http://dbpedia.org/resource/Category:PlayStation_games\n",
        "http://dbpedia.org/resource/Category:Gaps_games\n",
        "http://dbpedia.org/resource/Category:Business_simulation_games\n",
        "http://dbpedia.org/resource/Category:Cooking_video_games\n",
        "http://dbpedia.org/resource/Category:1999_video_games\n",
        "http://dbpedia.org/resource/Category:Game_Boy_Color_games\n",
        "http://dbpedia.org/resource/Category:Hamburgers_(food)\n",
        "Processing St. Jurriens Gasthuis...\n"
       ]
      },
      {
       "ename": "KeyboardInterrupt",
       "evalue": "",
       "output_type": "pyerr",
       "traceback": [
        "\u001b[0;31m---------------------------------------------------------------------------\u001b[0m\n\u001b[0;31mKeyboardInterrupt\u001b[0m                         Traceback (most recent call last)",
        "\u001b[0;32m<ipython-input-7-049f06292f9b>\u001b[0m in \u001b[0;36m<module>\u001b[0;34m()\u001b[0m\n\u001b[1;32m     19\u001b[0m     \u001b[0msparql\u001b[0m\u001b[0;34m.\u001b[0m\u001b[0msetReturnFormat\u001b[0m\u001b[0;34m(\u001b[0m\u001b[0mJSON\u001b[0m\u001b[0;34m)\u001b[0m\u001b[0;34m\u001b[0m\u001b[0m\n\u001b[1;32m     20\u001b[0m     \u001b[0mresults\u001b[0m \u001b[0;34m=\u001b[0m \u001b[0msparql\u001b[0m\u001b[0;34m.\u001b[0m\u001b[0mquery\u001b[0m\u001b[0;34m(\u001b[0m\u001b[0;34m)\u001b[0m\u001b[0;34m.\u001b[0m\u001b[0mconvert\u001b[0m\u001b[0;34m(\u001b[0m\u001b[0;34m)\u001b[0m\u001b[0;34m\u001b[0m\u001b[0m\n\u001b[0;32m---> 21\u001b[0;31m     \u001b[0msleep\u001b[0m\u001b[0;34m(\u001b[0m\u001b[0;36m1\u001b[0m\u001b[0;34m)\u001b[0m\u001b[0;34m\u001b[0m\u001b[0m\n\u001b[0m\u001b[1;32m     22\u001b[0m     \u001b[0;32mfor\u001b[0m \u001b[0mresult\u001b[0m \u001b[0;32min\u001b[0m \u001b[0mresults\u001b[0m\u001b[0;34m[\u001b[0m\u001b[0;34m\"results\"\u001b[0m\u001b[0;34m]\u001b[0m\u001b[0;34m[\u001b[0m\u001b[0;34m\"bindings\"\u001b[0m\u001b[0;34m]\u001b[0m\u001b[0;34m:\u001b[0m\u001b[0;34m\u001b[0m\u001b[0m\n\u001b[1;32m     23\u001b[0m         \u001b[0;32mprint\u001b[0m\u001b[0;34m(\u001b[0m\u001b[0mresult\u001b[0m\u001b[0;34m[\u001b[0m\u001b[0;34m\"subject\"\u001b[0m\u001b[0;34m]\u001b[0m\u001b[0;34m[\u001b[0m\u001b[0;34m\"value\"\u001b[0m\u001b[0;34m]\u001b[0m\u001b[0;34m)\u001b[0m\u001b[0;34m\u001b[0m\u001b[0m\n",
        "\u001b[0;31mKeyboardInterrupt\u001b[0m: "
       ]
      }
     ],
     "prompt_number": 7
    },
    {
     "cell_type": "code",
     "collapsed": false,
     "input": [
      "print tree"
     ],
     "language": "python",
     "metadata": {},
     "outputs": [
      {
       "output_type": "stream",
       "stream": "stdout",
       "text": [
        "{128: [u'Oude mannen- en vrouwenhuis', 115], 129: [u'Krankzinnigen-Gesticht', 118], 130: [82, 120], 131: [116, 126], 132: [u'Gesticht van Liefde', 119], 133: [u'Armhuis', 121], 134: [u'Boven Proveniershuis', 123], 135: [101, 128], 136: [u'Groote en Voorster-Gasthuis', 129], 137: [u'Emanuelshuis', 132], 138: [84, 131], 139: [127, 136], 140: [u'Klooster: \"Onze Lieve Vrouwe\"', 103], 141: [u'Roomsch Catholijk Weeshuis', 133], 142: [u'Ommerschans (Rijksgesticht)', 134], 143: [u'Oude Mannen- en Vrouwenhuis van het Gem. Armbest. der N.H. gemeente', 122], 144: [138, 140], 145: [u'Kazerne: \"de Ruiterstallen\"', 139], 146: [u'H\\xf4tel \"Pays-Bas\"', 130], 147: [u'Cellulaire Gevangenis', 114], 148: [135, 143], 149: [111, 147], 150: [105, 125], 151: [144, 145], 152: [99, 142], 153: [137, 141], 154: [124, 149], 155: [u'Keizers- of Jordensplaats', 153], 156: [150, 151], 157: [146, 148], 158: [117, 152], 159: [155, 156], 160: [154, 157], 161: [158, 159], 82: [u'Weeshuis der N. H. gemeente', u'Ziekenhuis der N. H. gemeente'], 83: [u'Buitengasthuis', u'Binnengasthuis'], 84: [u'Armhuis der N.H. gemeente', u'Armhuis der Ned. Herv. Gemeente'], 85: [u'Gesticht Ommerschans', u'Rijksgesticht Ommerschans'], 86: [u'Gesticht \"Averingsvergadering\"', u'Gesticht \"Uiterwijksvergadering\"'], 87: [u'Vrouwenhuis', u'Oude Vrouwenhuis'], 88: [u'St. Jurriens Gasthuis', u'St. Geertruiden Gasthuis'], 89: [u'Hotel \"de Keizer\"', u'H\\xf4tel \"de Keizerskroon\"'], 90: [u'Klooster van de orde der Franciscanessen', u'Klooster van de orde der Benedictijnen'], 91: [u'Logement: \"huis Hamers\"', u'Logement: \"huis \\'t Anker\"'], 92: [81, 83], 93: [u'Logement: \"huis de Molen\"', u'Logement: \"huis de Vriendschap\"'], 94: [u'Kostschool van H. Stael', u'Kostschool van Mej. Spruijt'], 95: [u'Logement: \"huis Becking\"', 92], 96: [u'Weeshuis', u'Werkhuis'], 97: [u'Weeshuis der Chr. Ger. Gemeente', 91], 98: [u'Logement: \"huis de Keizerskroon\"', 94], 99: [u'Kostschool van Weber', 93], 100: [90, 97], 101: [u'H\\xf4tel \"de Korenbeurs\"', 88], 102: [u'St. Jozephs-Gesticht', u'St. Nicolaas-Gesticht'], 103: [u'R. C. Weeshuis', u'Ned. Herv. Weeshuis'], 104: [u'Klooster der Franciscanen', 89], 105: [u'Groot Burger Weeshuis der Ned. Herv. gemeente', 96], 106: [u'Garnizoens-bakkerij', u'Garnizoens-Infirmerie'], 107: [u'Heerinkshuis', 95], 108: [u'Hotel \"de Klomp\"', u'Hotel \"de Graaf\"'], 109: [u'St. Anthony Gasthuis', 87], 110: [u'Ziekenhuis', u'Vilsterenshuis'], 111: [100, 107], 112: [u'Zwiersenhuizen', u'Overige huizen'], 113: [u'Burger Weeshuis', 102], 114: [106, 109], 115: [u'Huis van Arrest', u'Huis van bewaring'], 116: [u'Haersoltenhuis', 86], 117: [u'Hotel \"de Gouden Leeuw\"', 110], 118: [u'Kostschool', 98], 119: [u'Larinksgesticht', u'Weerds-Gesticht'], 120: [u'Gesticht \"de Goede Herder\"', 85], 121: [u'Heiligen Geesten Gasthuis', 108], 122: [u'Scherfshuis', 113], 123: [u'Bestedelingshuis der Ned. Herv. Diaconie', 104], 124: [u'Hervormd Armen Weeshuis', 112], 125: [u'Karmelieten klooster', u'Klooster'], 126: [u'Broerenkazerne', u'Kazerne'], 127: [u'H\\xf4tel \"Heerenlogement\"', u'H\\xf4tel \"de Zeven Provinci\\xebn\"']}\n"
       ]
      }
     ],
     "prompt_number": 9
    },
    {
     "cell_type": "code",
     "collapsed": false,
     "input": [
      "import nltk\n",
      "\n",
      "def getTreeElems(node, bag):\n",
      "    if not isinstance(node, int):\n",
      "        bag.append(node)\n",
      "    else:\n",
      "        getTreeElems(tree[node][0], bag)\n",
      "        getTreeElems(tree[node][1], bag)\n",
      "        \n",
      "def clustersUnderThreshold(node, bag, t = 0.7*max(clusterDistance.values())):\n",
      "    if node not in tree:\n",
      "        return None\n",
      "    if clusterDistance[node] < t:\n",
      "        bag.append(node)\n",
      "    else:\n",
      "        clustersUnderThreshold(tree[node][0], bag)\n",
      "        clustersUnderThreshold(tree[node][1], bag)\n",
      "        \n",
      "root = clusterIndex - 1\n",
      "clustersToLabel = []\n",
      "clustersUnderThreshold(root, clustersToLabel)\n",
      "\n"
     ],
     "language": "python",
     "metadata": {},
     "outputs": [],
     "prompt_number": 3
    },
    {
     "cell_type": "code",
     "collapsed": false,
     "input": [
      "clusterRepresentative = {}\n",
      "for b in clustersToLabel:\n",
      "    bag = []\n",
      "    getTreeElems(b, bag)\n",
      "    print bag\n",
      "    bagSize = len(bag)\n",
      "    bagDict = {}\n",
      "    for elem in bag:\n",
      "        terms = re.split('\\s|\\-', elem.lower().replace(\":\", \"\").replace(\"\\\"\", \"\").replace(\"\\'\", \"\"))\n",
      "        for t in terms:\n",
      "            if t not in bagDict:\n",
      "                bagDict[t] = 1\n",
      "            else:\n",
      "                bagDict[t] += 1\n",
      "    if 'de' in bagDict:\n",
      "            del bagDict['de']\n",
      "    if 'en' in bagDict:\n",
      "        del bagDict['en']\n",
      "    if 'der' in bagDict:\n",
      "        del bagDict['der']\n",
      "    if 'van' in bagDict:\n",
      "        del bagDict['van']\n",
      "    if '' in bagDict:\n",
      "        del bagDict['']\n",
      "    print bagDict\n",
      "    bagRepresentative = max(bagDict.iterkeys(), key=(lambda key: bagDict[key]))\n",
      "    print \"BAGWINNER: %s\" % bagRepresentative\n",
      "    clusterRepresentative[b] = bagRepresentative\n",
      "    \n",
      "print clusterRepresentative\n",
      "    \n",
      "    "
     ],
     "language": "python",
     "metadata": {},
     "outputs": [
      {
       "output_type": "stream",
       "stream": "stdout",
       "text": [
        "[u'Klooster der Franciscanen', u'Klooster van de orde der Franciscanessen', u'Klooster van de orde der Benedictijnen']\n",
        "{u'franciscanen': 1, u'klooster': 3, u'benedictijnen': 1, u'franciscanessen': 1, u'orde': 2}\n",
        "BAGWINNER: klooster\n",
        "[u'Hotel \"de Gouden Leeuw\"', u'H\\xf4tel \"de Korenbeurs\"', u'Hotel \"de Keizer\"', u'H\\xf4tel \"de Keizerskroon\"', u'Hotel \"de Klomp\"', u'Hotel \"de Graaf\"', u'H\\xf4tel \"Heerenlogement\"', u'H\\xf4tel \"de Zeven Provinci\\xebn\"']\n",
        "{u'hotel': 4, u'gouden': 1, u'leeuw': 1, u'klomp': 1, u'zeven': 1, u'provinci\\xebn': 1, u'korenbeurs': 1, u'h\\xf4tel': 4, u'heerenlogement': 1, u'graaf': 1, u'keizer': 1, u'keizerskroon': 1}\n",
        "BAGWINNER: hotel\n",
        "[u'Logement: \"huis Hamers\"', u'Logement: \"huis \\'t Anker\"', u'Logement: \"huis de Keizerskroon\"', u'Logement: \"huis Becking\"', u'Logement: \"huis de Molen\"', u'Logement: \"huis de Vriendschap\"']\n",
        "{u'molen': 1, u'becking': 1, u'hamers': 1, u'anker': 1, u't': 1, u'logement': 6, u'vriendschap': 1, u'keizerskroon': 1, u'huis': 6}\n",
        "BAGWINNER: logement\n",
        "[u'Bestedelingshuis der Ned. Herv. Diaconie', u'Groot Burger Weeshuis der Ned. Herv. gemeente', u'Weeshuis der Chr. Ger. Gemeente', u'Weeshuis der N. H. gemeente', u'Ziekenhuis der N. H. gemeente', u'Armhuis der N.H. gemeente', u'Armhuis der Ned. Herv. Gemeente']\n",
        "{u'herv.': 3, u'bestedelingshuis': 1, u'weeshuis': 3, u'n.': 2, u'burger': 1, u'n.h.': 1, u'ger.': 1, u'diaconie': 1, u'ned.': 3, u'groot': 1, u'h.': 2, u'ziekenhuis': 1, u'armhuis': 2, u'chr.': 1, u'gemeente': 6}\n",
        "BAGWINNER: gemeente\n",
        "[u'Huis van Arrest', u'Huis van bewaring']\n",
        "{u'arrest': 1, u'huis': 2, u'bewaring': 1}\n",
        "BAGWINNER: huis\n",
        "[u'Zwiersenhuizen', u'Overige huizen']\n",
        "{u'zwiersenhuizen': 1, u'overige': 1, u'huizen': 1}\n",
        "BAGWINNER: zwiersenhuizen\n",
        "[u'Groote en Voorster-Gasthuis', u'Buitengasthuis', u'Binnengasthuis', u'Heiligen Geesten Gasthuis', u'St. Anthony Gasthuis', u'St. Jurriens Gasthuis', u'St. Geertruiden Gasthuis']\n",
        "{u'anthony': 1, u'groote': 1, u'st.': 3, u'gasthuis': 5, u'jurriens': 1, u'voorster': 1, u'binnengasthuis': 1, u'buitengasthuis': 1, u'heiligen': 1, u'geesten': 1, u'geertruiden': 1}\n",
        "BAGWINNER: gasthuis\n",
        "[u'Oude mannen- en vrouwenhuis', u'Haersoltenhuis', u'Vrouwenhuis', u'Oude Vrouwenhuis']\n",
        "{u'vrouwenhuis': 3, u'haersoltenhuis': 1, u'oude': 2, u'mannen': 1}\n",
        "BAGWINNER: vrouwenhuis\n",
        "[u'Emanuelshuis', u'Armhuis', u'Scherfshuis', u'Heerinkshuis', u'Weeshuis', u'Werkhuis', u'Ziekenhuis', u'Vilsterenshuis']\n",
        "{u'weeshuis': 1, u'emanuelshuis': 1, u'werkhuis': 1, u'scherfshuis': 1, u'armhuis': 1, u'ziekenhuis': 1, u'heerinkshuis': 1, u'vilsterenshuis': 1}\n",
        "BAGWINNER: weeshuis\n",
        "[u'Boven Proveniershuis', u'Hervormd Armen Weeshuis', u'Burger Weeshuis', u'R. C. Weeshuis', u'Ned. Herv. Weeshuis']\n",
        "{u'herv.': 1, u'weeshuis': 4, u'ned.': 1, u'hervormd': 1, u'boven': 1, u'burger': 1, u'armen': 1, u'r.': 1, u'proveniershuis': 1, u'c.': 1}\n",
        "BAGWINNER: weeshuis\n",
        "[u'Karmelieten klooster', u'Klooster']\n",
        "{u'karmelieten': 1, u'klooster': 2}\n",
        "BAGWINNER: klooster\n",
        "[u'Garnizoens-bakkerij', u'Garnizoens-Infirmerie']\n",
        "{u'bakkerij': 1, u'garnizoens': 2, u'infirmerie': 1}\n",
        "BAGWINNER: garnizoens\n",
        "[u'Broerenkazerne', u'Kazerne']\n",
        "{u'broerenkazerne': 1, u'kazerne': 1}\n",
        "BAGWINNER: broerenkazerne\n",
        "[u'Kostschool', u'Kostschool van Weber', u'Kostschool van H. Stael', u'Kostschool van Mej. Spruijt']\n",
        "{u'kostschool': 4, u'stael': 1, u'mej.': 1, u'h.': 1, u'spruijt': 1, u'weber': 1}\n",
        "BAGWINNER: kostschool\n",
        "[u'Gesticht Ommerschans', u'Rijksgesticht Ommerschans']\n",
        "{u'ommerschans': 2, u'gesticht': 1, u'rijksgesticht': 1}\n",
        "BAGWINNER: ommerschans\n",
        "[u'Gesticht van Liefde', u'Gesticht \"de Goede Herder\"', u'Gesticht \"Averingsvergadering\"', u'Gesticht \"Uiterwijksvergadering\"']\n",
        "{u'uiterwijksvergadering': 1, u'goede': 1, u'averingsvergadering': 1, u'gesticht': 4, u'herder': 1, u'liefde': 1}\n",
        "BAGWINNER: gesticht\n",
        "[u'St. Jozephs-Gesticht', u'St. Nicolaas-Gesticht', u'Krankzinnigen-Gesticht', u'Larinksgesticht', u'Weerds-Gesticht']\n",
        "{u'nicolaas': 1, u'larinksgesticht': 1, u'st.': 2, u'weerds': 1, u'krankzinnigen': 1, u'gesticht': 4, u'jozephs': 1}\n",
        "BAGWINNER: gesticht\n",
        "{130: u'hotel', 99: u'logement', 133: u'weeshuis', 134: u'gesticht', 103: u'klooster', 136: u'weeshuis', 105: u'garnizoens', 135: u'gasthuis', 111: u'zwiersenhuizen', 114: u'huis', 131: u'gesticht', 84: u'ommerschans', 117: u'kostschool', 122: u'gemeente', 124: u'klooster', 125: u'broerenkazerne', 127: u'vrouwenhuis'}\n"
       ]
      }
     ],
     "prompt_number": 4
    },
    {
     "cell_type": "code",
     "collapsed": false,
     "input": [
      "from time import sleep\n",
      "\n",
      "for bagRepresentative in clusterRepresentative.values():\n",
      "    sparql = SPARQLWrapper('http://nl.dbpedia.org/sparql')\n",
      "    print \"Processing %s...\" % bagRepresentative\n",
      "    query = u\"\"\"\n",
      "    PREFIX rdfs: <http://www.w3.org/2000/01/rdf-schema#> \n",
      "    PREFIX dcterms: <http://purl.org/dc/terms/>\n",
      "    PREFIX skos: <http://www.w3.org/2004/02/skos/core#>\n",
      "    SELECT DISTINCT ?concept ?subject \n",
      "    WHERE {\n",
      "    ?concept dcterms:subject ?subject .\n",
      "    ?concept rdfs:label ?label . \n",
      "    ?label bif:contains \\\"\\'%s\\'\\\"@nl \n",
      "    OPTION (score ?sc) .\n",
      "    } ORDER BY ASC(STRLEN(?concept))\n",
      "    LIMIT 10\"\"\" % bagRepresentative\n",
      "    # print query\n",
      "    sparql.setQuery(query)\n",
      "    sparql.setReturnFormat(JSON)\n",
      "    results = sparql.query().convert()\n",
      "    sleep(1)\n",
      "    for result in results[\"results\"][\"bindings\"]:\n",
      "        print result[\"concept\"][\"value\"], result[\"subject\"][\"value\"]"
     ],
     "language": "python",
     "metadata": {},
     "outputs": [
      {
       "output_type": "stream",
       "stream": "stdout",
       "text": [
        "Processing hotel...\n",
        "http://nl.dbpedia.org/resource/Hotel"
       ]
      },
      {
       "output_type": "stream",
       "stream": "stdout",
       "text": [
        " http://nl.dbpedia.org/resource/Categorie:Hotel\n",
        "http://nl.dbpedia.org/resource/Hotel_O http://nl.dbpedia.org/resource/Categorie:Stripverhaal_van_De_Kiekeboes\n",
        "http://nl.dbpedia.org/resource/Hotel_FM http://nl.dbpedia.org/resource/Categorie:Roemeense_band\n",
        "http://nl.dbpedia.org/resource/Hotel_52 http://nl.dbpedia.org/resource/Categorie:Poolse_televisieserie\n",
        "http://nl.dbpedia.org/resource/Hotel_13 http://nl.dbpedia.org/resource/Categorie:Studio_100\n",
        "http://nl.dbpedia.org/resource/Hotel_13 http://nl.dbpedia.org/resource/Categorie:Duitse_televisieserie\n",
        "http://nl.dbpedia.org/resource/Hotel_Mama http://nl.dbpedia.org/resource/Categorie:Relatievorm\n",
        "http://nl.dbpedia.org/resource/Blue_Hotel http://nl.dbpedia.org/resource/Categorie:Single_uit_1987\n",
        "http://nl.dbpedia.org/resource/Lake_Hotel http://nl.dbpedia.org/resource/Categorie:National_Register_of_Historic_Places\n",
        "http://nl.dbpedia.org/resource/Lake_Hotel http://nl.dbpedia.org/resource/Categorie:Yellowstone_National_Park\n",
        "Processing logement...\n",
        "http://nl.dbpedia.org/resource/Logement"
       ]
      },
      {
       "output_type": "stream",
       "stream": "stdout",
       "text": [
        " http://nl.dbpedia.org/resource/Categorie:Geschiedenis_van_Den_Haag\n",
        "http://nl.dbpedia.org/resource/Logement_Alderts http://nl.dbpedia.org/resource/Categorie:Winsum\n",
        "http://nl.dbpedia.org/resource/Logement_Alderts http://nl.dbpedia.org/resource/Categorie:Rijksmonument_in_Winsum\n",
        "http://nl.dbpedia.org/resource/Logement_de_Gaaper http://nl.dbpedia.org/resource/Categorie:Rijksmonument_in_Amersfoort\n",
        "http://nl.dbpedia.org/resource/Logement_de_Gaaper http://nl.dbpedia.org/resource/Categorie:Bouwwerk_in_Amersfoort\n",
        "http://nl.dbpedia.org/resource/Logement_van_Leiden http://nl.dbpedia.org/resource/Categorie:Rijksmonument_in_Den_Haag\n",
        "http://nl.dbpedia.org/resource/Logement_van_Rotterdam http://nl.dbpedia.org/resource/Categorie:Bouwwerk_in_Den_Haag\n",
        "http://nl.dbpedia.org/resource/Logement_van_Amsterdam http://nl.dbpedia.org/resource/Categorie:Bouwwerk_in_Den_Haag\n",
        "Processing weeshuis...\n",
        "http://nl.dbpedia.org/resource/Weeshuis"
       ]
      },
      {
       "output_type": "stream",
       "stream": "stdout",
       "text": [
        " http://nl.dbpedia.org/resource/Categorie:Weeshuis\n",
        "http://nl.dbpedia.org/resource/Rode_Weeshuis http://nl.dbpedia.org/resource/Categorie:Rijksmonument_in_Groningen_(stad)\n",
        "http://nl.dbpedia.org/resource/Rode_Weeshuis http://nl.dbpedia.org/resource/Categorie:Armenzorg_in_Groningen_(stad)\n",
        "http://nl.dbpedia.org/resource/Rode_Weeshuis http://nl.dbpedia.org/resource/Categorie:Weeshuis\n",
        "http://nl.dbpedia.org/resource/Weeshuis_Varel http://nl.dbpedia.org/resource/Categorie:Bouwwerk_in_Nedersaksen\n",
        "http://nl.dbpedia.org/resource/Groene_Weeshuis http://nl.dbpedia.org/resource/Categorie:Armenzorg_in_Groningen_(stad)\n",
        "http://nl.dbpedia.org/resource/Groene_Weeshuis http://nl.dbpedia.org/resource/Categorie:Weeshuis\n",
        "http://nl.dbpedia.org/resource/Blauwe_Weeshuis http://nl.dbpedia.org/resource/Categorie:Armenzorg_in_Groningen_(stad)\n",
        "http://nl.dbpedia.org/resource/Blauwe_Weeshuis http://nl.dbpedia.org/resource/Categorie:Weeshuis\n",
        "http://nl.dbpedia.org/resource/Blauwe_Weeshuis http://nl.dbpedia.org/resource/Categorie:Voormalig_bouwwerk_in_Groningen_(stad)\n",
        "Processing gesticht...\n",
        "http://nl.dbpedia.org/resource/Sint-Jozef_Gesticht"
       ]
      },
      {
       "output_type": "stream",
       "stream": "stdout",
       "text": [
        " http://nl.dbpedia.org/resource/Categorie:Halderberge\n",
        "http://nl.dbpedia.org/resource/Sint-Jozef_Gesticht http://nl.dbpedia.org/resource/Categorie:Klooster_in_Noord-Brabant\n",
        "http://nl.dbpedia.org/resource/Sint_Elisabeth_Gesticht http://nl.dbpedia.org/resource/Categorie:Rijksmonument_in_Amsterdam\n",
        "http://nl.dbpedia.org/resource/Sint_Elisabeth_Gesticht http://nl.dbpedia.org/resource/Categorie:Bouwwerk_van_Adrianus_Bleijs\n",
        "Processing klooster...\n"
       ]
      },
      {
       "ename": "KeyboardInterrupt",
       "evalue": "",
       "output_type": "pyerr",
       "traceback": [
        "\u001b[0;31m---------------------------------------------------------------------------\u001b[0m\n\u001b[0;31mKeyboardInterrupt\u001b[0m                         Traceback (most recent call last)",
        "\u001b[0;32m<ipython-input-101-fdaaae3da365>\u001b[0m in \u001b[0;36m<module>\u001b[0;34m()\u001b[0m\n\u001b[1;32m     19\u001b[0m     \u001b[0msparql\u001b[0m\u001b[0;34m.\u001b[0m\u001b[0msetQuery\u001b[0m\u001b[0;34m(\u001b[0m\u001b[0mquery\u001b[0m\u001b[0;34m)\u001b[0m\u001b[0;34m\u001b[0m\u001b[0m\n\u001b[1;32m     20\u001b[0m     \u001b[0msparql\u001b[0m\u001b[0;34m.\u001b[0m\u001b[0msetReturnFormat\u001b[0m\u001b[0;34m(\u001b[0m\u001b[0mJSON\u001b[0m\u001b[0;34m)\u001b[0m\u001b[0;34m\u001b[0m\u001b[0m\n\u001b[0;32m---> 21\u001b[0;31m     \u001b[0mresults\u001b[0m \u001b[0;34m=\u001b[0m \u001b[0msparql\u001b[0m\u001b[0;34m.\u001b[0m\u001b[0mquery\u001b[0m\u001b[0;34m(\u001b[0m\u001b[0;34m)\u001b[0m\u001b[0;34m.\u001b[0m\u001b[0mconvert\u001b[0m\u001b[0;34m(\u001b[0m\u001b[0;34m)\u001b[0m\u001b[0;34m\u001b[0m\u001b[0m\n\u001b[0m\u001b[1;32m     22\u001b[0m     \u001b[0msleep\u001b[0m\u001b[0;34m(\u001b[0m\u001b[0;36m1\u001b[0m\u001b[0;34m)\u001b[0m\u001b[0;34m\u001b[0m\u001b[0m\n\u001b[1;32m     23\u001b[0m     \u001b[0;32mfor\u001b[0m \u001b[0mresult\u001b[0m \u001b[0;32min\u001b[0m \u001b[0mresults\u001b[0m\u001b[0;34m[\u001b[0m\u001b[0;34m\"results\"\u001b[0m\u001b[0;34m]\u001b[0m\u001b[0;34m[\u001b[0m\u001b[0;34m\"bindings\"\u001b[0m\u001b[0;34m]\u001b[0m\u001b[0;34m:\u001b[0m\u001b[0;34m\u001b[0m\u001b[0m\n",
        "\u001b[0;32m/Library/Python/2.7/site-packages/SPARQLWrapper/Wrapper.pyc\u001b[0m in \u001b[0;36mquery\u001b[0;34m(self)\u001b[0m\n\u001b[1;32m    388\u001b[0m             \u001b[0;34m@\u001b[0m\u001b[0mrtype\u001b[0m\u001b[0;34m:\u001b[0m \u001b[0mL\u001b[0m\u001b[0;34m{\u001b[0m\u001b[0mQueryResult\u001b[0m\u001b[0;34m}\u001b[0m \u001b[0minstance\u001b[0m\u001b[0;34m\u001b[0m\u001b[0m\n\u001b[1;32m    389\u001b[0m         \"\"\"\n\u001b[0;32m--> 390\u001b[0;31m         \u001b[0;32mreturn\u001b[0m \u001b[0mQueryResult\u001b[0m\u001b[0;34m(\u001b[0m\u001b[0mself\u001b[0m\u001b[0;34m.\u001b[0m\u001b[0m_query\u001b[0m\u001b[0;34m(\u001b[0m\u001b[0;34m)\u001b[0m\u001b[0;34m)\u001b[0m\u001b[0;34m\u001b[0m\u001b[0m\n\u001b[0m\u001b[1;32m    391\u001b[0m \u001b[0;34m\u001b[0m\u001b[0m\n\u001b[1;32m    392\u001b[0m     \u001b[0;32mdef\u001b[0m \u001b[0mqueryAndConvert\u001b[0m\u001b[0;34m(\u001b[0m\u001b[0mself\u001b[0m\u001b[0;34m)\u001b[0m \u001b[0;34m:\u001b[0m\u001b[0;34m\u001b[0m\u001b[0m\n",
        "\u001b[0;32m/Library/Python/2.7/site-packages/SPARQLWrapper/Wrapper.pyc\u001b[0m in \u001b[0;36m_query\u001b[0;34m(self)\u001b[0m\n\u001b[1;32m    357\u001b[0m         \u001b[0mrequest\u001b[0m \u001b[0;34m=\u001b[0m \u001b[0mself\u001b[0m\u001b[0;34m.\u001b[0m\u001b[0m_createRequest\u001b[0m\u001b[0;34m(\u001b[0m\u001b[0;34m)\u001b[0m\u001b[0;34m\u001b[0m\u001b[0m\n\u001b[1;32m    358\u001b[0m         \u001b[0;32mtry\u001b[0m\u001b[0;34m:\u001b[0m\u001b[0;34m\u001b[0m\u001b[0m\n\u001b[0;32m--> 359\u001b[0;31m             \u001b[0mresponse\u001b[0m \u001b[0;34m=\u001b[0m \u001b[0murllib2\u001b[0m\u001b[0;34m.\u001b[0m\u001b[0murlopen\u001b[0m\u001b[0;34m(\u001b[0m\u001b[0mrequest\u001b[0m\u001b[0;34m)\u001b[0m\u001b[0;34m\u001b[0m\u001b[0m\n\u001b[0m\u001b[1;32m    360\u001b[0m             \u001b[0;32mreturn\u001b[0m \u001b[0;34m(\u001b[0m\u001b[0mresponse\u001b[0m\u001b[0;34m,\u001b[0m \u001b[0mself\u001b[0m\u001b[0;34m.\u001b[0m\u001b[0mreturnFormat\u001b[0m\u001b[0;34m)\u001b[0m\u001b[0;34m\u001b[0m\u001b[0m\n\u001b[1;32m    361\u001b[0m         \u001b[0;32mexcept\u001b[0m \u001b[0murllib2\u001b[0m\u001b[0;34m.\u001b[0m\u001b[0mHTTPError\u001b[0m\u001b[0;34m,\u001b[0m \u001b[0me\u001b[0m\u001b[0;34m:\u001b[0m\u001b[0;34m\u001b[0m\u001b[0m\n",
        "\u001b[0;32m/System/Library/Frameworks/Python.framework/Versions/2.7/lib/python2.7/urllib2.pyc\u001b[0m in \u001b[0;36murlopen\u001b[0;34m(url, data, timeout)\u001b[0m\n\u001b[1;32m    125\u001b[0m     \u001b[0;32mif\u001b[0m \u001b[0m_opener\u001b[0m \u001b[0;32mis\u001b[0m \u001b[0mNone\u001b[0m\u001b[0;34m:\u001b[0m\u001b[0;34m\u001b[0m\u001b[0m\n\u001b[1;32m    126\u001b[0m         \u001b[0m_opener\u001b[0m \u001b[0;34m=\u001b[0m \u001b[0mbuild_opener\u001b[0m\u001b[0;34m(\u001b[0m\u001b[0;34m)\u001b[0m\u001b[0;34m\u001b[0m\u001b[0m\n\u001b[0;32m--> 127\u001b[0;31m     \u001b[0;32mreturn\u001b[0m \u001b[0m_opener\u001b[0m\u001b[0;34m.\u001b[0m\u001b[0mopen\u001b[0m\u001b[0;34m(\u001b[0m\u001b[0murl\u001b[0m\u001b[0;34m,\u001b[0m \u001b[0mdata\u001b[0m\u001b[0;34m,\u001b[0m \u001b[0mtimeout\u001b[0m\u001b[0;34m)\u001b[0m\u001b[0;34m\u001b[0m\u001b[0m\n\u001b[0m\u001b[1;32m    128\u001b[0m \u001b[0;34m\u001b[0m\u001b[0m\n\u001b[1;32m    129\u001b[0m \u001b[0;32mdef\u001b[0m \u001b[0minstall_opener\u001b[0m\u001b[0;34m(\u001b[0m\u001b[0mopener\u001b[0m\u001b[0;34m)\u001b[0m\u001b[0;34m:\u001b[0m\u001b[0;34m\u001b[0m\u001b[0m\n",
        "\u001b[0;32m/System/Library/Frameworks/Python.framework/Versions/2.7/lib/python2.7/urllib2.pyc\u001b[0m in \u001b[0;36mopen\u001b[0;34m(self, fullurl, data, timeout)\u001b[0m\n\u001b[1;32m    402\u001b[0m             \u001b[0mreq\u001b[0m \u001b[0;34m=\u001b[0m \u001b[0mmeth\u001b[0m\u001b[0;34m(\u001b[0m\u001b[0mreq\u001b[0m\u001b[0;34m)\u001b[0m\u001b[0;34m\u001b[0m\u001b[0m\n\u001b[1;32m    403\u001b[0m \u001b[0;34m\u001b[0m\u001b[0m\n\u001b[0;32m--> 404\u001b[0;31m         \u001b[0mresponse\u001b[0m \u001b[0;34m=\u001b[0m \u001b[0mself\u001b[0m\u001b[0;34m.\u001b[0m\u001b[0m_open\u001b[0m\u001b[0;34m(\u001b[0m\u001b[0mreq\u001b[0m\u001b[0;34m,\u001b[0m \u001b[0mdata\u001b[0m\u001b[0;34m)\u001b[0m\u001b[0;34m\u001b[0m\u001b[0m\n\u001b[0m\u001b[1;32m    405\u001b[0m \u001b[0;34m\u001b[0m\u001b[0m\n\u001b[1;32m    406\u001b[0m         \u001b[0;31m# post-process response\u001b[0m\u001b[0;34m\u001b[0m\u001b[0;34m\u001b[0m\u001b[0m\n",
        "\u001b[0;32m/System/Library/Frameworks/Python.framework/Versions/2.7/lib/python2.7/urllib2.pyc\u001b[0m in \u001b[0;36m_open\u001b[0;34m(self, req, data)\u001b[0m\n\u001b[1;32m    420\u001b[0m         \u001b[0mprotocol\u001b[0m \u001b[0;34m=\u001b[0m \u001b[0mreq\u001b[0m\u001b[0;34m.\u001b[0m\u001b[0mget_type\u001b[0m\u001b[0;34m(\u001b[0m\u001b[0;34m)\u001b[0m\u001b[0;34m\u001b[0m\u001b[0m\n\u001b[1;32m    421\u001b[0m         result = self._call_chain(self.handle_open, protocol, protocol +\n\u001b[0;32m--> 422\u001b[0;31m                                   '_open', req)\n\u001b[0m\u001b[1;32m    423\u001b[0m         \u001b[0;32mif\u001b[0m \u001b[0mresult\u001b[0m\u001b[0;34m:\u001b[0m\u001b[0;34m\u001b[0m\u001b[0m\n\u001b[1;32m    424\u001b[0m             \u001b[0;32mreturn\u001b[0m \u001b[0mresult\u001b[0m\u001b[0;34m\u001b[0m\u001b[0m\n",
        "\u001b[0;32m/System/Library/Frameworks/Python.framework/Versions/2.7/lib/python2.7/urllib2.pyc\u001b[0m in \u001b[0;36m_call_chain\u001b[0;34m(self, chain, kind, meth_name, *args)\u001b[0m\n\u001b[1;32m    380\u001b[0m             \u001b[0mfunc\u001b[0m \u001b[0;34m=\u001b[0m \u001b[0mgetattr\u001b[0m\u001b[0;34m(\u001b[0m\u001b[0mhandler\u001b[0m\u001b[0;34m,\u001b[0m \u001b[0mmeth_name\u001b[0m\u001b[0;34m)\u001b[0m\u001b[0;34m\u001b[0m\u001b[0m\n\u001b[1;32m    381\u001b[0m \u001b[0;34m\u001b[0m\u001b[0m\n\u001b[0;32m--> 382\u001b[0;31m             \u001b[0mresult\u001b[0m \u001b[0;34m=\u001b[0m \u001b[0mfunc\u001b[0m\u001b[0;34m(\u001b[0m\u001b[0;34m*\u001b[0m\u001b[0margs\u001b[0m\u001b[0;34m)\u001b[0m\u001b[0;34m\u001b[0m\u001b[0m\n\u001b[0m\u001b[1;32m    383\u001b[0m             \u001b[0;32mif\u001b[0m \u001b[0mresult\u001b[0m \u001b[0;32mis\u001b[0m \u001b[0;32mnot\u001b[0m \u001b[0mNone\u001b[0m\u001b[0;34m:\u001b[0m\u001b[0;34m\u001b[0m\u001b[0m\n\u001b[1;32m    384\u001b[0m                 \u001b[0;32mreturn\u001b[0m \u001b[0mresult\u001b[0m\u001b[0;34m\u001b[0m\u001b[0m\n",
        "\u001b[0;32m/System/Library/Frameworks/Python.framework/Versions/2.7/lib/python2.7/urllib2.pyc\u001b[0m in \u001b[0;36mhttp_open\u001b[0;34m(self, req)\u001b[0m\n\u001b[1;32m   1212\u001b[0m \u001b[0;34m\u001b[0m\u001b[0m\n\u001b[1;32m   1213\u001b[0m     \u001b[0;32mdef\u001b[0m \u001b[0mhttp_open\u001b[0m\u001b[0;34m(\u001b[0m\u001b[0mself\u001b[0m\u001b[0;34m,\u001b[0m \u001b[0mreq\u001b[0m\u001b[0;34m)\u001b[0m\u001b[0;34m:\u001b[0m\u001b[0;34m\u001b[0m\u001b[0m\n\u001b[0;32m-> 1214\u001b[0;31m         \u001b[0;32mreturn\u001b[0m \u001b[0mself\u001b[0m\u001b[0;34m.\u001b[0m\u001b[0mdo_open\u001b[0m\u001b[0;34m(\u001b[0m\u001b[0mhttplib\u001b[0m\u001b[0;34m.\u001b[0m\u001b[0mHTTPConnection\u001b[0m\u001b[0;34m,\u001b[0m \u001b[0mreq\u001b[0m\u001b[0;34m)\u001b[0m\u001b[0;34m\u001b[0m\u001b[0m\n\u001b[0m\u001b[1;32m   1215\u001b[0m \u001b[0;34m\u001b[0m\u001b[0m\n\u001b[1;32m   1216\u001b[0m     \u001b[0mhttp_request\u001b[0m \u001b[0;34m=\u001b[0m \u001b[0mAbstractHTTPHandler\u001b[0m\u001b[0;34m.\u001b[0m\u001b[0mdo_request_\u001b[0m\u001b[0;34m\u001b[0m\u001b[0m\n",
        "\u001b[0;32m/System/Library/Frameworks/Python.framework/Versions/2.7/lib/python2.7/urllib2.pyc\u001b[0m in \u001b[0;36mdo_open\u001b[0;34m(self, http_class, req)\u001b[0m\n\u001b[1;32m   1185\u001b[0m         \u001b[0;32melse\u001b[0m\u001b[0;34m:\u001b[0m\u001b[0;34m\u001b[0m\u001b[0m\n\u001b[1;32m   1186\u001b[0m             \u001b[0;32mtry\u001b[0m\u001b[0;34m:\u001b[0m\u001b[0;34m\u001b[0m\u001b[0m\n\u001b[0;32m-> 1187\u001b[0;31m                 \u001b[0mr\u001b[0m \u001b[0;34m=\u001b[0m \u001b[0mh\u001b[0m\u001b[0;34m.\u001b[0m\u001b[0mgetresponse\u001b[0m\u001b[0;34m(\u001b[0m\u001b[0mbuffering\u001b[0m\u001b[0;34m=\u001b[0m\u001b[0mTrue\u001b[0m\u001b[0;34m)\u001b[0m\u001b[0;34m\u001b[0m\u001b[0m\n\u001b[0m\u001b[1;32m   1188\u001b[0m             \u001b[0;32mexcept\u001b[0m \u001b[0mTypeError\u001b[0m\u001b[0;34m:\u001b[0m \u001b[0;31m# buffering kw not supported\u001b[0m\u001b[0;34m\u001b[0m\u001b[0m\n\u001b[1;32m   1189\u001b[0m                 \u001b[0mr\u001b[0m \u001b[0;34m=\u001b[0m \u001b[0mh\u001b[0m\u001b[0;34m.\u001b[0m\u001b[0mgetresponse\u001b[0m\u001b[0;34m(\u001b[0m\u001b[0;34m)\u001b[0m\u001b[0;34m\u001b[0m\u001b[0m\n",
        "\u001b[0;32m/System/Library/Frameworks/Python.framework/Versions/2.7/lib/python2.7/httplib.pyc\u001b[0m in \u001b[0;36mgetresponse\u001b[0;34m(self, buffering)\u001b[0m\n\u001b[1;32m   1043\u001b[0m         \u001b[0mresponse\u001b[0m \u001b[0;34m=\u001b[0m \u001b[0mself\u001b[0m\u001b[0;34m.\u001b[0m\u001b[0mresponse_class\u001b[0m\u001b[0;34m(\u001b[0m\u001b[0;34m*\u001b[0m\u001b[0margs\u001b[0m\u001b[0;34m,\u001b[0m \u001b[0;34m**\u001b[0m\u001b[0mkwds\u001b[0m\u001b[0;34m)\u001b[0m\u001b[0;34m\u001b[0m\u001b[0m\n\u001b[1;32m   1044\u001b[0m \u001b[0;34m\u001b[0m\u001b[0m\n\u001b[0;32m-> 1045\u001b[0;31m         \u001b[0mresponse\u001b[0m\u001b[0;34m.\u001b[0m\u001b[0mbegin\u001b[0m\u001b[0;34m(\u001b[0m\u001b[0;34m)\u001b[0m\u001b[0;34m\u001b[0m\u001b[0m\n\u001b[0m\u001b[1;32m   1046\u001b[0m         \u001b[0;32massert\u001b[0m \u001b[0mresponse\u001b[0m\u001b[0;34m.\u001b[0m\u001b[0mwill_close\u001b[0m \u001b[0;34m!=\u001b[0m \u001b[0m_UNKNOWN\u001b[0m\u001b[0;34m\u001b[0m\u001b[0m\n\u001b[1;32m   1047\u001b[0m         \u001b[0mself\u001b[0m\u001b[0;34m.\u001b[0m\u001b[0m__state\u001b[0m \u001b[0;34m=\u001b[0m \u001b[0m_CS_IDLE\u001b[0m\u001b[0;34m\u001b[0m\u001b[0m\n",
        "\u001b[0;32m/System/Library/Frameworks/Python.framework/Versions/2.7/lib/python2.7/httplib.pyc\u001b[0m in \u001b[0;36mbegin\u001b[0;34m(self)\u001b[0m\n\u001b[1;32m    407\u001b[0m         \u001b[0;31m# read until we get a non-100 response\u001b[0m\u001b[0;34m\u001b[0m\u001b[0;34m\u001b[0m\u001b[0m\n\u001b[1;32m    408\u001b[0m         \u001b[0;32mwhile\u001b[0m \u001b[0mTrue\u001b[0m\u001b[0;34m:\u001b[0m\u001b[0;34m\u001b[0m\u001b[0m\n\u001b[0;32m--> 409\u001b[0;31m             \u001b[0mversion\u001b[0m\u001b[0;34m,\u001b[0m \u001b[0mstatus\u001b[0m\u001b[0;34m,\u001b[0m \u001b[0mreason\u001b[0m \u001b[0;34m=\u001b[0m \u001b[0mself\u001b[0m\u001b[0;34m.\u001b[0m\u001b[0m_read_status\u001b[0m\u001b[0;34m(\u001b[0m\u001b[0;34m)\u001b[0m\u001b[0;34m\u001b[0m\u001b[0m\n\u001b[0m\u001b[1;32m    410\u001b[0m             \u001b[0;32mif\u001b[0m \u001b[0mstatus\u001b[0m \u001b[0;34m!=\u001b[0m \u001b[0mCONTINUE\u001b[0m\u001b[0;34m:\u001b[0m\u001b[0;34m\u001b[0m\u001b[0m\n\u001b[1;32m    411\u001b[0m                 \u001b[0;32mbreak\u001b[0m\u001b[0;34m\u001b[0m\u001b[0m\n",
        "\u001b[0;32m/System/Library/Frameworks/Python.framework/Versions/2.7/lib/python2.7/httplib.pyc\u001b[0m in \u001b[0;36m_read_status\u001b[0;34m(self)\u001b[0m\n\u001b[1;32m    363\u001b[0m     \u001b[0;32mdef\u001b[0m \u001b[0m_read_status\u001b[0m\u001b[0;34m(\u001b[0m\u001b[0mself\u001b[0m\u001b[0;34m)\u001b[0m\u001b[0;34m:\u001b[0m\u001b[0;34m\u001b[0m\u001b[0m\n\u001b[1;32m    364\u001b[0m         \u001b[0;31m# Initialize with Simple-Response defaults\u001b[0m\u001b[0;34m\u001b[0m\u001b[0;34m\u001b[0m\u001b[0m\n\u001b[0;32m--> 365\u001b[0;31m         \u001b[0mline\u001b[0m \u001b[0;34m=\u001b[0m \u001b[0mself\u001b[0m\u001b[0;34m.\u001b[0m\u001b[0mfp\u001b[0m\u001b[0;34m.\u001b[0m\u001b[0mreadline\u001b[0m\u001b[0;34m(\u001b[0m\u001b[0m_MAXLINE\u001b[0m \u001b[0;34m+\u001b[0m \u001b[0;36m1\u001b[0m\u001b[0;34m)\u001b[0m\u001b[0;34m\u001b[0m\u001b[0m\n\u001b[0m\u001b[1;32m    366\u001b[0m         \u001b[0;32mif\u001b[0m \u001b[0mlen\u001b[0m\u001b[0;34m(\u001b[0m\u001b[0mline\u001b[0m\u001b[0;34m)\u001b[0m \u001b[0;34m>\u001b[0m \u001b[0m_MAXLINE\u001b[0m\u001b[0;34m:\u001b[0m\u001b[0;34m\u001b[0m\u001b[0m\n\u001b[1;32m    367\u001b[0m             \u001b[0;32mraise\u001b[0m \u001b[0mLineTooLong\u001b[0m\u001b[0;34m(\u001b[0m\u001b[0;34m\"header line\"\u001b[0m\u001b[0;34m)\u001b[0m\u001b[0;34m\u001b[0m\u001b[0m\n",
        "\u001b[0;32m/System/Library/Frameworks/Python.framework/Versions/2.7/lib/python2.7/socket.pyc\u001b[0m in \u001b[0;36mreadline\u001b[0;34m(self, size)\u001b[0m\n\u001b[1;32m    474\u001b[0m             \u001b[0;32mwhile\u001b[0m \u001b[0mTrue\u001b[0m\u001b[0;34m:\u001b[0m\u001b[0;34m\u001b[0m\u001b[0m\n\u001b[1;32m    475\u001b[0m                 \u001b[0;32mtry\u001b[0m\u001b[0;34m:\u001b[0m\u001b[0;34m\u001b[0m\u001b[0m\n\u001b[0;32m--> 476\u001b[0;31m                     \u001b[0mdata\u001b[0m \u001b[0;34m=\u001b[0m \u001b[0mself\u001b[0m\u001b[0;34m.\u001b[0m\u001b[0m_sock\u001b[0m\u001b[0;34m.\u001b[0m\u001b[0mrecv\u001b[0m\u001b[0;34m(\u001b[0m\u001b[0mself\u001b[0m\u001b[0;34m.\u001b[0m\u001b[0m_rbufsize\u001b[0m\u001b[0;34m)\u001b[0m\u001b[0;34m\u001b[0m\u001b[0m\n\u001b[0m\u001b[1;32m    477\u001b[0m                 \u001b[0;32mexcept\u001b[0m \u001b[0merror\u001b[0m\u001b[0;34m,\u001b[0m \u001b[0me\u001b[0m\u001b[0;34m:\u001b[0m\u001b[0;34m\u001b[0m\u001b[0m\n\u001b[1;32m    478\u001b[0m                     \u001b[0;32mif\u001b[0m \u001b[0me\u001b[0m\u001b[0;34m.\u001b[0m\u001b[0margs\u001b[0m\u001b[0;34m[\u001b[0m\u001b[0;36m0\u001b[0m\u001b[0;34m]\u001b[0m \u001b[0;34m==\u001b[0m \u001b[0mEINTR\u001b[0m\u001b[0;34m:\u001b[0m\u001b[0;34m\u001b[0m\u001b[0m\n",
        "\u001b[0;31mKeyboardInterrupt\u001b[0m: "
       ]
      }
     ],
     "prompt_number": 101
    },
    {
     "cell_type": "code",
     "collapsed": false,
     "input": [
      "import operator\n",
      "from time import sleep\n",
      "\n",
      "stopWords = ['en', 'de', 'der', 'van', '\\'', '\\\"']\n",
      "\n",
      "def removeStopWords(s):\n",
      "    wordlist = re.split('\\s|\\-|\\'|\\\"|\\:', s)\n",
      "    for w in stopWords:\n",
      "        if w in wordlist:\n",
      "            wordlist.remove(w)        \n",
      "    return re.sub('(^|\\s)\\S*\\.', '', re.sub('\\s+', ' ', u\" \".join(wordlist))).strip()\n",
      "\n",
      "clusterSupers = {}\n",
      "for b in clustersToLabel:\n",
      "    bag = []\n",
      "    getTreeElems(b, bag)\n",
      "    print bag\n",
      "    bagSupers = {}\n",
      "    for elem in bag:\n",
      "        clean = removeStopWords(elem)\n",
      "        # print clean\n",
      "        sparql = SPARQLWrapper('http://nl.dbpedia.org/sparql')\n",
      "        # print \"Processing %s...\" % clean\n",
      "        query = u\"\"\"\n",
      "        PREFIX rdfs: <http://www.w3.org/2000/01/rdf-schema#> \n",
      "        PREFIX dcterms: <http://purl.org/dc/terms/>\n",
      "        PREFIX skos: <http://www.w3.org/2004/02/skos/core#>\n",
      "        SELECT DISTINCT ?concept\n",
      "        WHERE {\n",
      "        ?concept rdfs:label ?label . \n",
      "        ?label bif:contains \\\"\\'%s\\'\\\"@nl \n",
      "        OPTION (score ?sc) .\n",
      "        } ORDER BY DESC(?sc)\n",
      "        LIMIT 25\"\"\" % \"\\' or \\'\".join(clean.split(' '))\n",
      "        # print query\n",
      "        sparql.setQuery(query)\n",
      "        sparql.setReturnFormat(JSON)\n",
      "        results = sparql.query().convert()\n",
      "        sleep(1)\n",
      "        for result in results[\"results\"][\"bindings\"]:\n",
      "            uri = result[\"concept\"][\"value\"]\n",
      "            # print uri\n",
      "            if uri not in bagSupers:\n",
      "                bagSupers[uri] = 1\n",
      "            else:\n",
      "                bagSupers[uri] += 1\n",
      "        # print sorted(bagSupers.iteritems(), key=operator.itemgetter(1))\n",
      "    clusterRepresentative = max(bagSupers.iterkeys(), key=(lambda key: bagSupers[key]))\n",
      "    print clusterRepresentative\n",
      "            "
     ],
     "language": "python",
     "metadata": {},
     "outputs": [
      {
       "output_type": "stream",
       "stream": "stdout",
       "text": [
        "[u'Klooster der Franciscanen', u'Klooster van de orde der Franciscanessen', u'Klooster van de orde der Benedictijnen']\n",
        "http://nl.dbpedia.org/resource/Klooster"
       ]
      },
      {
       "output_type": "stream",
       "stream": "stdout",
       "text": [
        "\n",
        "http://nl.dbpedia.org/resource/Klooster"
       ]
      },
      {
       "output_type": "stream",
       "stream": "stdout",
       "text": [
        "\n",
        "http://nl.dbpedia.org/resource/Klooster"
       ]
      },
      {
       "output_type": "stream",
       "stream": "stdout",
       "text": [
        "\n",
        "[u'Hotel \"de Gouden Leeuw\"', u'H\\xf4tel \"de Korenbeurs\"', u'Hotel \"de Keizer\"', u'H\\xf4tel \"de Keizerskroon\"', u'Hotel \"de Klomp\"', u'Hotel \"de Graaf\"', u'H\\xf4tel \"Heerenlogement\"', u'H\\xf4tel \"de Zeven Provinci\\xebn\"']\n",
        "http://nl.dbpedia.org/resource/Leeuw_bier"
       ]
      },
      {
       "output_type": "stream",
       "stream": "stdout",
       "text": [
        "\n",
        "http://nl.dbpedia.org/resource/H\u00f4tel_de_Soubise"
       ]
      },
      {
       "output_type": "stream",
       "stream": "stdout",
       "text": [
        "\n",
        "http://nl.dbpedia.org/resource/Lloyd_Hotel_(hotel)"
       ]
      },
      {
       "output_type": "stream",
       "stream": "stdout",
       "text": [
        "\n",
        "http://nl.dbpedia.org/resource/H\u00f4tel_de_Soubise"
       ]
      },
      {
       "output_type": "stream",
       "stream": "stdout",
       "text": [
        "\n",
        "http://nl.dbpedia.org/resource/Lloyd_Hotel_(hotel)"
       ]
      },
      {
       "output_type": "stream",
       "stream": "stdout",
       "text": [
        "\n",
        "http://nl.dbpedia.org/resource/Lloyd_Hotel_(hotel)"
       ]
      },
      {
       "output_type": "stream",
       "stream": "stdout",
       "text": [
        "\n",
        "http://nl.dbpedia.org/resource/Lloyd_Hotel_(hotel)"
       ]
      },
      {
       "output_type": "stream",
       "stream": "stdout",
       "text": [
        "\n",
        "http://nl.dbpedia.org/resource/H\u00f4tel_de_ville"
       ]
      },
      {
       "output_type": "stream",
       "stream": "stdout",
       "text": [
        "\n",
        "[u'Logement: \"huis Hamers\"', u'Logement: \"huis \\'t Anker\"', u'Logement: \"huis de Keizerskroon\"', u'Logement: \"huis Becking\"', u'Logement: \"huis de Molen\"', u'Logement: \"huis de Vriendschap\"']\n",
        "http://nl.dbpedia.org/resource/Categorie:Huis_Luxemburg"
       ]
      },
      {
       "output_type": "stream",
       "stream": "stdout",
       "text": [
        "\n"
       ]
      },
      {
       "ename": "KeyboardInterrupt",
       "evalue": "",
       "output_type": "pyerr",
       "traceback": [
        "\u001b[0;31m---------------------------------------------------------------------------\u001b[0m\n\u001b[0;31mKeyboardInterrupt\u001b[0m                         Traceback (most recent call last)",
        "\u001b[0;32m<ipython-input-40-c5d3f865beaa>\u001b[0m in \u001b[0;36m<module>\u001b[0;34m()\u001b[0m\n\u001b[1;32m     36\u001b[0m         \u001b[0msparql\u001b[0m\u001b[0;34m.\u001b[0m\u001b[0msetQuery\u001b[0m\u001b[0;34m(\u001b[0m\u001b[0mquery\u001b[0m\u001b[0;34m)\u001b[0m\u001b[0;34m\u001b[0m\u001b[0m\n\u001b[1;32m     37\u001b[0m         \u001b[0msparql\u001b[0m\u001b[0;34m.\u001b[0m\u001b[0msetReturnFormat\u001b[0m\u001b[0;34m(\u001b[0m\u001b[0mJSON\u001b[0m\u001b[0;34m)\u001b[0m\u001b[0;34m\u001b[0m\u001b[0m\n\u001b[0;32m---> 38\u001b[0;31m         \u001b[0mresults\u001b[0m \u001b[0;34m=\u001b[0m \u001b[0msparql\u001b[0m\u001b[0;34m.\u001b[0m\u001b[0mquery\u001b[0m\u001b[0;34m(\u001b[0m\u001b[0;34m)\u001b[0m\u001b[0;34m.\u001b[0m\u001b[0mconvert\u001b[0m\u001b[0;34m(\u001b[0m\u001b[0;34m)\u001b[0m\u001b[0;34m\u001b[0m\u001b[0m\n\u001b[0m\u001b[1;32m     39\u001b[0m         \u001b[0msleep\u001b[0m\u001b[0;34m(\u001b[0m\u001b[0;36m1\u001b[0m\u001b[0;34m)\u001b[0m\u001b[0;34m\u001b[0m\u001b[0m\n\u001b[1;32m     40\u001b[0m         \u001b[0;32mfor\u001b[0m \u001b[0mresult\u001b[0m \u001b[0;32min\u001b[0m \u001b[0mresults\u001b[0m\u001b[0;34m[\u001b[0m\u001b[0;34m\"results\"\u001b[0m\u001b[0;34m]\u001b[0m\u001b[0;34m[\u001b[0m\u001b[0;34m\"bindings\"\u001b[0m\u001b[0;34m]\u001b[0m\u001b[0;34m:\u001b[0m\u001b[0;34m\u001b[0m\u001b[0m\n",
        "\u001b[0;32m/Library/Python/2.7/site-packages/SPARQLWrapper/Wrapper.pyc\u001b[0m in \u001b[0;36mquery\u001b[0;34m(self)\u001b[0m\n\u001b[1;32m    388\u001b[0m             \u001b[0;34m@\u001b[0m\u001b[0mrtype\u001b[0m\u001b[0;34m:\u001b[0m \u001b[0mL\u001b[0m\u001b[0;34m{\u001b[0m\u001b[0mQueryResult\u001b[0m\u001b[0;34m}\u001b[0m \u001b[0minstance\u001b[0m\u001b[0;34m\u001b[0m\u001b[0m\n\u001b[1;32m    389\u001b[0m         \"\"\"\n\u001b[0;32m--> 390\u001b[0;31m         \u001b[0;32mreturn\u001b[0m \u001b[0mQueryResult\u001b[0m\u001b[0;34m(\u001b[0m\u001b[0mself\u001b[0m\u001b[0;34m.\u001b[0m\u001b[0m_query\u001b[0m\u001b[0;34m(\u001b[0m\u001b[0;34m)\u001b[0m\u001b[0;34m)\u001b[0m\u001b[0;34m\u001b[0m\u001b[0m\n\u001b[0m\u001b[1;32m    391\u001b[0m \u001b[0;34m\u001b[0m\u001b[0m\n\u001b[1;32m    392\u001b[0m     \u001b[0;32mdef\u001b[0m \u001b[0mqueryAndConvert\u001b[0m\u001b[0;34m(\u001b[0m\u001b[0mself\u001b[0m\u001b[0;34m)\u001b[0m \u001b[0;34m:\u001b[0m\u001b[0;34m\u001b[0m\u001b[0m\n",
        "\u001b[0;32m/Library/Python/2.7/site-packages/SPARQLWrapper/Wrapper.pyc\u001b[0m in \u001b[0;36m_query\u001b[0;34m(self)\u001b[0m\n\u001b[1;32m    357\u001b[0m         \u001b[0mrequest\u001b[0m \u001b[0;34m=\u001b[0m \u001b[0mself\u001b[0m\u001b[0;34m.\u001b[0m\u001b[0m_createRequest\u001b[0m\u001b[0;34m(\u001b[0m\u001b[0;34m)\u001b[0m\u001b[0;34m\u001b[0m\u001b[0m\n\u001b[1;32m    358\u001b[0m         \u001b[0;32mtry\u001b[0m\u001b[0;34m:\u001b[0m\u001b[0;34m\u001b[0m\u001b[0m\n\u001b[0;32m--> 359\u001b[0;31m             \u001b[0mresponse\u001b[0m \u001b[0;34m=\u001b[0m \u001b[0murllib2\u001b[0m\u001b[0;34m.\u001b[0m\u001b[0murlopen\u001b[0m\u001b[0;34m(\u001b[0m\u001b[0mrequest\u001b[0m\u001b[0;34m)\u001b[0m\u001b[0;34m\u001b[0m\u001b[0m\n\u001b[0m\u001b[1;32m    360\u001b[0m             \u001b[0;32mreturn\u001b[0m \u001b[0;34m(\u001b[0m\u001b[0mresponse\u001b[0m\u001b[0;34m,\u001b[0m \u001b[0mself\u001b[0m\u001b[0;34m.\u001b[0m\u001b[0mreturnFormat\u001b[0m\u001b[0;34m)\u001b[0m\u001b[0;34m\u001b[0m\u001b[0m\n\u001b[1;32m    361\u001b[0m         \u001b[0;32mexcept\u001b[0m \u001b[0murllib2\u001b[0m\u001b[0;34m.\u001b[0m\u001b[0mHTTPError\u001b[0m\u001b[0;34m,\u001b[0m \u001b[0me\u001b[0m\u001b[0;34m:\u001b[0m\u001b[0;34m\u001b[0m\u001b[0m\n",
        "\u001b[0;32m/System/Library/Frameworks/Python.framework/Versions/2.7/lib/python2.7/urllib2.pyc\u001b[0m in \u001b[0;36murlopen\u001b[0;34m(url, data, timeout)\u001b[0m\n\u001b[1;32m    125\u001b[0m     \u001b[0;32mif\u001b[0m \u001b[0m_opener\u001b[0m \u001b[0;32mis\u001b[0m \u001b[0mNone\u001b[0m\u001b[0;34m:\u001b[0m\u001b[0;34m\u001b[0m\u001b[0m\n\u001b[1;32m    126\u001b[0m         \u001b[0m_opener\u001b[0m \u001b[0;34m=\u001b[0m \u001b[0mbuild_opener\u001b[0m\u001b[0;34m(\u001b[0m\u001b[0;34m)\u001b[0m\u001b[0;34m\u001b[0m\u001b[0m\n\u001b[0;32m--> 127\u001b[0;31m     \u001b[0;32mreturn\u001b[0m \u001b[0m_opener\u001b[0m\u001b[0;34m.\u001b[0m\u001b[0mopen\u001b[0m\u001b[0;34m(\u001b[0m\u001b[0murl\u001b[0m\u001b[0;34m,\u001b[0m \u001b[0mdata\u001b[0m\u001b[0;34m,\u001b[0m \u001b[0mtimeout\u001b[0m\u001b[0;34m)\u001b[0m\u001b[0;34m\u001b[0m\u001b[0m\n\u001b[0m\u001b[1;32m    128\u001b[0m \u001b[0;34m\u001b[0m\u001b[0m\n\u001b[1;32m    129\u001b[0m \u001b[0;32mdef\u001b[0m \u001b[0minstall_opener\u001b[0m\u001b[0;34m(\u001b[0m\u001b[0mopener\u001b[0m\u001b[0;34m)\u001b[0m\u001b[0;34m:\u001b[0m\u001b[0;34m\u001b[0m\u001b[0m\n",
        "\u001b[0;32m/System/Library/Frameworks/Python.framework/Versions/2.7/lib/python2.7/urllib2.pyc\u001b[0m in \u001b[0;36mopen\u001b[0;34m(self, fullurl, data, timeout)\u001b[0m\n\u001b[1;32m    402\u001b[0m             \u001b[0mreq\u001b[0m \u001b[0;34m=\u001b[0m \u001b[0mmeth\u001b[0m\u001b[0;34m(\u001b[0m\u001b[0mreq\u001b[0m\u001b[0;34m)\u001b[0m\u001b[0;34m\u001b[0m\u001b[0m\n\u001b[1;32m    403\u001b[0m \u001b[0;34m\u001b[0m\u001b[0m\n\u001b[0;32m--> 404\u001b[0;31m         \u001b[0mresponse\u001b[0m \u001b[0;34m=\u001b[0m \u001b[0mself\u001b[0m\u001b[0;34m.\u001b[0m\u001b[0m_open\u001b[0m\u001b[0;34m(\u001b[0m\u001b[0mreq\u001b[0m\u001b[0;34m,\u001b[0m \u001b[0mdata\u001b[0m\u001b[0;34m)\u001b[0m\u001b[0;34m\u001b[0m\u001b[0m\n\u001b[0m\u001b[1;32m    405\u001b[0m \u001b[0;34m\u001b[0m\u001b[0m\n\u001b[1;32m    406\u001b[0m         \u001b[0;31m# post-process response\u001b[0m\u001b[0;34m\u001b[0m\u001b[0;34m\u001b[0m\u001b[0m\n",
        "\u001b[0;32m/System/Library/Frameworks/Python.framework/Versions/2.7/lib/python2.7/urllib2.pyc\u001b[0m in \u001b[0;36m_open\u001b[0;34m(self, req, data)\u001b[0m\n\u001b[1;32m    420\u001b[0m         \u001b[0mprotocol\u001b[0m \u001b[0;34m=\u001b[0m \u001b[0mreq\u001b[0m\u001b[0;34m.\u001b[0m\u001b[0mget_type\u001b[0m\u001b[0;34m(\u001b[0m\u001b[0;34m)\u001b[0m\u001b[0;34m\u001b[0m\u001b[0m\n\u001b[1;32m    421\u001b[0m         result = self._call_chain(self.handle_open, protocol, protocol +\n\u001b[0;32m--> 422\u001b[0;31m                                   '_open', req)\n\u001b[0m\u001b[1;32m    423\u001b[0m         \u001b[0;32mif\u001b[0m \u001b[0mresult\u001b[0m\u001b[0;34m:\u001b[0m\u001b[0;34m\u001b[0m\u001b[0m\n\u001b[1;32m    424\u001b[0m             \u001b[0;32mreturn\u001b[0m \u001b[0mresult\u001b[0m\u001b[0;34m\u001b[0m\u001b[0m\n",
        "\u001b[0;32m/System/Library/Frameworks/Python.framework/Versions/2.7/lib/python2.7/urllib2.pyc\u001b[0m in \u001b[0;36m_call_chain\u001b[0;34m(self, chain, kind, meth_name, *args)\u001b[0m\n\u001b[1;32m    380\u001b[0m             \u001b[0mfunc\u001b[0m \u001b[0;34m=\u001b[0m \u001b[0mgetattr\u001b[0m\u001b[0;34m(\u001b[0m\u001b[0mhandler\u001b[0m\u001b[0;34m,\u001b[0m \u001b[0mmeth_name\u001b[0m\u001b[0;34m)\u001b[0m\u001b[0;34m\u001b[0m\u001b[0m\n\u001b[1;32m    381\u001b[0m \u001b[0;34m\u001b[0m\u001b[0m\n\u001b[0;32m--> 382\u001b[0;31m             \u001b[0mresult\u001b[0m \u001b[0;34m=\u001b[0m \u001b[0mfunc\u001b[0m\u001b[0;34m(\u001b[0m\u001b[0;34m*\u001b[0m\u001b[0margs\u001b[0m\u001b[0;34m)\u001b[0m\u001b[0;34m\u001b[0m\u001b[0m\n\u001b[0m\u001b[1;32m    383\u001b[0m             \u001b[0;32mif\u001b[0m \u001b[0mresult\u001b[0m \u001b[0;32mis\u001b[0m \u001b[0;32mnot\u001b[0m \u001b[0mNone\u001b[0m\u001b[0;34m:\u001b[0m\u001b[0;34m\u001b[0m\u001b[0m\n\u001b[1;32m    384\u001b[0m                 \u001b[0;32mreturn\u001b[0m \u001b[0mresult\u001b[0m\u001b[0;34m\u001b[0m\u001b[0m\n",
        "\u001b[0;32m/System/Library/Frameworks/Python.framework/Versions/2.7/lib/python2.7/urllib2.pyc\u001b[0m in \u001b[0;36mhttp_open\u001b[0;34m(self, req)\u001b[0m\n\u001b[1;32m   1212\u001b[0m \u001b[0;34m\u001b[0m\u001b[0m\n\u001b[1;32m   1213\u001b[0m     \u001b[0;32mdef\u001b[0m \u001b[0mhttp_open\u001b[0m\u001b[0;34m(\u001b[0m\u001b[0mself\u001b[0m\u001b[0;34m,\u001b[0m \u001b[0mreq\u001b[0m\u001b[0;34m)\u001b[0m\u001b[0;34m:\u001b[0m\u001b[0;34m\u001b[0m\u001b[0m\n\u001b[0;32m-> 1214\u001b[0;31m         \u001b[0;32mreturn\u001b[0m \u001b[0mself\u001b[0m\u001b[0;34m.\u001b[0m\u001b[0mdo_open\u001b[0m\u001b[0;34m(\u001b[0m\u001b[0mhttplib\u001b[0m\u001b[0;34m.\u001b[0m\u001b[0mHTTPConnection\u001b[0m\u001b[0;34m,\u001b[0m \u001b[0mreq\u001b[0m\u001b[0;34m)\u001b[0m\u001b[0;34m\u001b[0m\u001b[0m\n\u001b[0m\u001b[1;32m   1215\u001b[0m \u001b[0;34m\u001b[0m\u001b[0m\n\u001b[1;32m   1216\u001b[0m     \u001b[0mhttp_request\u001b[0m \u001b[0;34m=\u001b[0m \u001b[0mAbstractHTTPHandler\u001b[0m\u001b[0;34m.\u001b[0m\u001b[0mdo_request_\u001b[0m\u001b[0;34m\u001b[0m\u001b[0m\n",
        "\u001b[0;32m/System/Library/Frameworks/Python.framework/Versions/2.7/lib/python2.7/urllib2.pyc\u001b[0m in \u001b[0;36mdo_open\u001b[0;34m(self, http_class, req)\u001b[0m\n\u001b[1;32m   1185\u001b[0m         \u001b[0;32melse\u001b[0m\u001b[0;34m:\u001b[0m\u001b[0;34m\u001b[0m\u001b[0m\n\u001b[1;32m   1186\u001b[0m             \u001b[0;32mtry\u001b[0m\u001b[0;34m:\u001b[0m\u001b[0;34m\u001b[0m\u001b[0m\n\u001b[0;32m-> 1187\u001b[0;31m                 \u001b[0mr\u001b[0m \u001b[0;34m=\u001b[0m \u001b[0mh\u001b[0m\u001b[0;34m.\u001b[0m\u001b[0mgetresponse\u001b[0m\u001b[0;34m(\u001b[0m\u001b[0mbuffering\u001b[0m\u001b[0;34m=\u001b[0m\u001b[0mTrue\u001b[0m\u001b[0;34m)\u001b[0m\u001b[0;34m\u001b[0m\u001b[0m\n\u001b[0m\u001b[1;32m   1188\u001b[0m             \u001b[0;32mexcept\u001b[0m \u001b[0mTypeError\u001b[0m\u001b[0;34m:\u001b[0m \u001b[0;31m# buffering kw not supported\u001b[0m\u001b[0;34m\u001b[0m\u001b[0m\n\u001b[1;32m   1189\u001b[0m                 \u001b[0mr\u001b[0m \u001b[0;34m=\u001b[0m \u001b[0mh\u001b[0m\u001b[0;34m.\u001b[0m\u001b[0mgetresponse\u001b[0m\u001b[0;34m(\u001b[0m\u001b[0;34m)\u001b[0m\u001b[0;34m\u001b[0m\u001b[0m\n",
        "\u001b[0;32m/System/Library/Frameworks/Python.framework/Versions/2.7/lib/python2.7/httplib.pyc\u001b[0m in \u001b[0;36mgetresponse\u001b[0;34m(self, buffering)\u001b[0m\n\u001b[1;32m   1043\u001b[0m         \u001b[0mresponse\u001b[0m \u001b[0;34m=\u001b[0m \u001b[0mself\u001b[0m\u001b[0;34m.\u001b[0m\u001b[0mresponse_class\u001b[0m\u001b[0;34m(\u001b[0m\u001b[0;34m*\u001b[0m\u001b[0margs\u001b[0m\u001b[0;34m,\u001b[0m \u001b[0;34m**\u001b[0m\u001b[0mkwds\u001b[0m\u001b[0;34m)\u001b[0m\u001b[0;34m\u001b[0m\u001b[0m\n\u001b[1;32m   1044\u001b[0m \u001b[0;34m\u001b[0m\u001b[0m\n\u001b[0;32m-> 1045\u001b[0;31m         \u001b[0mresponse\u001b[0m\u001b[0;34m.\u001b[0m\u001b[0mbegin\u001b[0m\u001b[0;34m(\u001b[0m\u001b[0;34m)\u001b[0m\u001b[0;34m\u001b[0m\u001b[0m\n\u001b[0m\u001b[1;32m   1046\u001b[0m         \u001b[0;32massert\u001b[0m \u001b[0mresponse\u001b[0m\u001b[0;34m.\u001b[0m\u001b[0mwill_close\u001b[0m \u001b[0;34m!=\u001b[0m \u001b[0m_UNKNOWN\u001b[0m\u001b[0;34m\u001b[0m\u001b[0m\n\u001b[1;32m   1047\u001b[0m         \u001b[0mself\u001b[0m\u001b[0;34m.\u001b[0m\u001b[0m__state\u001b[0m \u001b[0;34m=\u001b[0m \u001b[0m_CS_IDLE\u001b[0m\u001b[0;34m\u001b[0m\u001b[0m\n",
        "\u001b[0;32m/System/Library/Frameworks/Python.framework/Versions/2.7/lib/python2.7/httplib.pyc\u001b[0m in \u001b[0;36mbegin\u001b[0;34m(self)\u001b[0m\n\u001b[1;32m    407\u001b[0m         \u001b[0;31m# read until we get a non-100 response\u001b[0m\u001b[0;34m\u001b[0m\u001b[0;34m\u001b[0m\u001b[0m\n\u001b[1;32m    408\u001b[0m         \u001b[0;32mwhile\u001b[0m \u001b[0mTrue\u001b[0m\u001b[0;34m:\u001b[0m\u001b[0;34m\u001b[0m\u001b[0m\n\u001b[0;32m--> 409\u001b[0;31m             \u001b[0mversion\u001b[0m\u001b[0;34m,\u001b[0m \u001b[0mstatus\u001b[0m\u001b[0;34m,\u001b[0m \u001b[0mreason\u001b[0m \u001b[0;34m=\u001b[0m \u001b[0mself\u001b[0m\u001b[0;34m.\u001b[0m\u001b[0m_read_status\u001b[0m\u001b[0;34m(\u001b[0m\u001b[0;34m)\u001b[0m\u001b[0;34m\u001b[0m\u001b[0m\n\u001b[0m\u001b[1;32m    410\u001b[0m             \u001b[0;32mif\u001b[0m \u001b[0mstatus\u001b[0m \u001b[0;34m!=\u001b[0m \u001b[0mCONTINUE\u001b[0m\u001b[0;34m:\u001b[0m\u001b[0;34m\u001b[0m\u001b[0m\n\u001b[1;32m    411\u001b[0m                 \u001b[0;32mbreak\u001b[0m\u001b[0;34m\u001b[0m\u001b[0m\n",
        "\u001b[0;32m/System/Library/Frameworks/Python.framework/Versions/2.7/lib/python2.7/httplib.pyc\u001b[0m in \u001b[0;36m_read_status\u001b[0;34m(self)\u001b[0m\n\u001b[1;32m    363\u001b[0m     \u001b[0;32mdef\u001b[0m \u001b[0m_read_status\u001b[0m\u001b[0;34m(\u001b[0m\u001b[0mself\u001b[0m\u001b[0;34m)\u001b[0m\u001b[0;34m:\u001b[0m\u001b[0;34m\u001b[0m\u001b[0m\n\u001b[1;32m    364\u001b[0m         \u001b[0;31m# Initialize with Simple-Response defaults\u001b[0m\u001b[0;34m\u001b[0m\u001b[0;34m\u001b[0m\u001b[0m\n\u001b[0;32m--> 365\u001b[0;31m         \u001b[0mline\u001b[0m \u001b[0;34m=\u001b[0m \u001b[0mself\u001b[0m\u001b[0;34m.\u001b[0m\u001b[0mfp\u001b[0m\u001b[0;34m.\u001b[0m\u001b[0mreadline\u001b[0m\u001b[0;34m(\u001b[0m\u001b[0m_MAXLINE\u001b[0m \u001b[0;34m+\u001b[0m \u001b[0;36m1\u001b[0m\u001b[0;34m)\u001b[0m\u001b[0;34m\u001b[0m\u001b[0m\n\u001b[0m\u001b[1;32m    366\u001b[0m         \u001b[0;32mif\u001b[0m \u001b[0mlen\u001b[0m\u001b[0;34m(\u001b[0m\u001b[0mline\u001b[0m\u001b[0;34m)\u001b[0m \u001b[0;34m>\u001b[0m \u001b[0m_MAXLINE\u001b[0m\u001b[0;34m:\u001b[0m\u001b[0;34m\u001b[0m\u001b[0m\n\u001b[1;32m    367\u001b[0m             \u001b[0;32mraise\u001b[0m \u001b[0mLineTooLong\u001b[0m\u001b[0;34m(\u001b[0m\u001b[0;34m\"header line\"\u001b[0m\u001b[0;34m)\u001b[0m\u001b[0;34m\u001b[0m\u001b[0m\n",
        "\u001b[0;32m/System/Library/Frameworks/Python.framework/Versions/2.7/lib/python2.7/socket.pyc\u001b[0m in \u001b[0;36mreadline\u001b[0;34m(self, size)\u001b[0m\n\u001b[1;32m    474\u001b[0m             \u001b[0;32mwhile\u001b[0m \u001b[0mTrue\u001b[0m\u001b[0;34m:\u001b[0m\u001b[0;34m\u001b[0m\u001b[0m\n\u001b[1;32m    475\u001b[0m                 \u001b[0;32mtry\u001b[0m\u001b[0;34m:\u001b[0m\u001b[0;34m\u001b[0m\u001b[0m\n\u001b[0;32m--> 476\u001b[0;31m                     \u001b[0mdata\u001b[0m \u001b[0;34m=\u001b[0m \u001b[0mself\u001b[0m\u001b[0;34m.\u001b[0m\u001b[0m_sock\u001b[0m\u001b[0;34m.\u001b[0m\u001b[0mrecv\u001b[0m\u001b[0;34m(\u001b[0m\u001b[0mself\u001b[0m\u001b[0;34m.\u001b[0m\u001b[0m_rbufsize\u001b[0m\u001b[0;34m)\u001b[0m\u001b[0;34m\u001b[0m\u001b[0m\n\u001b[0m\u001b[1;32m    477\u001b[0m                 \u001b[0;32mexcept\u001b[0m \u001b[0merror\u001b[0m\u001b[0;34m,\u001b[0m \u001b[0me\u001b[0m\u001b[0;34m:\u001b[0m\u001b[0;34m\u001b[0m\u001b[0m\n\u001b[1;32m    478\u001b[0m                     \u001b[0;32mif\u001b[0m \u001b[0me\u001b[0m\u001b[0;34m.\u001b[0m\u001b[0margs\u001b[0m\u001b[0;34m[\u001b[0m\u001b[0;36m0\u001b[0m\u001b[0;34m]\u001b[0m \u001b[0;34m==\u001b[0m \u001b[0mEINTR\u001b[0m\u001b[0;34m:\u001b[0m\u001b[0;34m\u001b[0m\u001b[0m\n",
        "\u001b[0;31mKeyboardInterrupt\u001b[0m: "
       ]
      }
     ],
     "prompt_number": 40
    },
    {
     "cell_type": "code",
     "collapsed": false,
     "input": [],
     "language": "python",
     "metadata": {},
     "outputs": []
    }
   ],
   "metadata": {}
  }
 ]
}